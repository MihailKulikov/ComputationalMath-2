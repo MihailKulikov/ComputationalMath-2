{
  "nbformat": 4,
  "nbformat_minor": 0,
  "metadata": {
    "colab": {
      "name": "comp_math_task_5.ipynb",
      "provenance": []
    },
    "kernelspec": {
      "name": "python3",
      "display_name": "Python 3"
    },
    "language_info": {
      "name": "python"
    }
  },
  "cells": [
    {
      "cell_type": "code",
      "execution_count": 26,
      "metadata": {
        "id": "1lHQgDZHMu69"
      },
      "outputs": [],
      "source": [
        "import numpy as np\n",
        "import time\n",
        "from itertools import product\n",
        "from math import sqrt\n",
        "import random\n",
        "import numpy.linalg as linalg\n",
        "import pandas as pd\n",
        "import plotly.graph_objects as go\n",
        "\n",
        "\n",
        "np.seterr(divide='ignore', invalid='ignore')\n",
        "np.set_printoptions(precision=10)"
      ]
    },
    {
      "cell_type": "code",
      "source": [
        "def find_eig_by_power_method(\n",
        "        matrix,\n",
        "        *,\n",
        "        eps,\n",
        "        init_x=None,\n",
        "        limit=10000,\n",
        "):\n",
        "    curr_x = np.ones(matrix.shape[0]) if init_x is None else init_x\n",
        "    curr_x = curr_x / linalg.norm(curr_x)\n",
        "\n",
        "    for step in range(limit):\n",
        "        next_x = matrix.dot(curr_x)\n",
        "        value = sqrt(next_x.dot(next_x) / curr_x.dot(curr_x))\n",
        "\n",
        "        if linalg.norm(next_x - value * curr_x) / linalg.norm(curr_x) <= eps:\n",
        "            return value, next_x, step + 1\n",
        "\n",
        "        curr_x = next_x / linalg.norm(next_x)\n",
        "\n",
        "    return value, next_x, step + 1"
      ],
      "metadata": {
        "id": "_H_vvhs0OrxY"
      },
      "execution_count": 27,
      "outputs": []
    },
    {
      "cell_type": "code",
      "source": [
        "def find_eig_by_scalar_method(\n",
        "    matrix,\n",
        "    *,\n",
        "    eps,\n",
        "    init_x=None,\n",
        "    limit=10000,\n",
        "):\n",
        "    curr_x = np.ones(matrix.shape[0]) if init_x is None else init_x\n",
        "    \n",
        "    curr_x, curr_y = curr_x / linalg.norm(curr_x), np.copy(curr_x)\n",
        "    next_x, next_y = matrix.dot(curr_x), matrix.T.dot(curr_y)\n",
        "\n",
        "    curr_value = next_x.dot(next_y) / curr_x.dot(next_y)\n",
        "\n",
        "    for step in range(limit):\n",
        "        curr_x, curr_y = next_x / linalg.norm(next_x), next_y / linalg.norm(next_y)\n",
        "        next_x, next_y = matrix.dot(curr_x), matrix.T.dot(curr_y)\n",
        "\n",
        "        next_value = next_x.dot(next_y) / curr_x.dot(next_y)\n",
        "\n",
        "        if linalg.norm(next_value - curr_value) <= eps:\n",
        "            return next_value, next_x, step + 1\n",
        "\n",
        "        curr_value = next_value\n",
        "\n",
        "    return next_value, next_x, step + 1"
      ],
      "metadata": {
        "id": "y6RrroLNVm5C"
      },
      "execution_count": 28,
      "outputs": []
    },
    {
      "cell_type": "code",
      "source": [
        "def find_smallest_eig_by_power_method(        \n",
        "    matrix,\n",
        "    *,\n",
        "    eps,\n",
        "    init_x=None,\n",
        "    limit=10000\n",
        "):\n",
        "    eig, vector, step_count = find_eig_by_power_method(-matrix, eps=eps, init_x=init_x, limit=limit)\n",
        "    return -eig, vector, step_count\n",
        "\n",
        "def find_smallest_eig_by_scalar_method(        \n",
        "    matrix,\n",
        "    *,\n",
        "    eps,\n",
        "    init_x=None,\n",
        "    limit=10000\n",
        "):\n",
        "    eig, vector, step_count = find_eig_by_scalar_method(-matrix, eps=eps, init_x=init_x, limit=limit)\n",
        "    return -eig, vector, step_count"
      ],
      "metadata": {
        "id": "PPzDZeiigqVq"
      },
      "execution_count": 29,
      "outputs": []
    },
    {
      "cell_type": "code",
      "source": [
        "def generate_matrix(element_factory, size):\n",
        "    return np.array(\n",
        "        [\n",
        "            [element_factory(row, column) for column in range(1, size + 1)]\n",
        "            for row in range(1, size + 1)\n",
        "        ],\n",
        "        dtype=float,\n",
        "    )\n",
        "\n",
        "\n",
        "def get_hilbert_matrix(size):\n",
        "    return generate_matrix(lambda row, column: 1 / (row + column - 1), size)"
      ],
      "metadata": {
        "id": "asxCrHJ8W2kV"
      },
      "execution_count": 9,
      "outputs": []
    },
    {
      "cell_type": "code",
      "source": [
        "def run_benchmark(matrix, eps):\n",
        "    values, vectors = linalg.eig(matrix)\n",
        "    argmax = abs(values).argmax()\n",
        "\n",
        "    true_value, true_vector = abs(values)[argmax], vectors[:, argmax]\n",
        "\n",
        "    power_value, power_vector, power_steps = find_eig_by_power_method(matrix, eps=eps)\n",
        "    scalar_value, scalar_vector, scalar_steps = find_eig_by_scalar_method(matrix, eps=eps)\n",
        "\n",
        "    return pd.Series([\n",
        "        power_steps,\n",
        "        abs(power_value - true_value),\n",
        "        linalg.norm(abs(power_vector / linalg.norm(power_vector)) - abs(true_vector)),\n",
        "        scalar_steps,\n",
        "        abs(scalar_value - true_value),\n",
        "        linalg.norm(abs(scalar_vector / linalg.norm(scalar_vector)) - abs(true_vector)),\n",
        "    ])\n",
        "\n",
        "def run_benchmark_smallest_eig(matrix, eps):\n",
        "    values, vectors = linalg.eig(matrix)\n",
        "    argmin = abs(values).argmin()\n",
        "\n",
        "    true_value, true_vector = abs(values)[argmin], vectors[:, argmin]\n",
        "\n",
        "    power_value, power_vector, power_steps = find_smallest_eig_by_power_method(matrix, eps=eps)\n",
        "    scalar_value, scalar_vector, scalar_steps = find_smallest_eig_by_scalar_method(matrix, eps=eps)\n",
        "\n",
        "    return pd.Series([\n",
        "        power_steps,\n",
        "        abs(power_value - true_value),\n",
        "        linalg.norm(abs(power_vector / linalg.norm(power_vector)) - abs(true_vector)),\n",
        "        scalar_steps,\n",
        "        abs(scalar_value - true_value),\n",
        "        linalg.norm(abs(scalar_vector / linalg.norm(scalar_vector)) - abs(true_vector)),\n",
        "    ])"
      ],
      "metadata": {
        "id": "O3lP5_rDW_CT"
      },
      "execution_count": 41,
      "outputs": []
    },
    {
      "cell_type": "code",
      "source": [
        "def draw_graphics(data, n):\n",
        "    data = data[data.n == n]\n",
        "\n",
        "    fig = go.Figure()\n",
        "\n",
        "    fig.add_scatter(x=data.eps, y=data.power_steps, name='Степенной метод')\n",
        "    fig.add_scatter(x=data.eps, y=data.scalar_steps, name='Метод скалярных произведений')\n",
        "\n",
        "    fig.update_xaxes(title='ε', type='log', autorange='reversed',tickformat='.0e')\n",
        "    fig.update_yaxes(title='Количество шагов')\n",
        "\n",
        "    fig.update_layout(title=f'Зависимость количества шагов от ε (n = {n})')\n",
        "\n",
        "    fig.show()"
      ],
      "metadata": {
        "id": "I0_GjSQQXNcQ"
      },
      "execution_count": 42,
      "outputs": []
    },
    {
      "cell_type": "markdown",
      "source": [
        "# Диагональная"
      ],
      "metadata": {
        "id": "agRosNoGX8Bu"
      }
    },
    {
      "cell_type": "code",
      "source": [
        "def get_diagonal_matrix(size):\n",
        "    return np.diag(range(1, size + 1))"
      ],
      "metadata": {
        "id": "wsJXS7aXX9sH"
      },
      "execution_count": 43,
      "outputs": []
    },
    {
      "cell_type": "code",
      "source": [
        "diagonal_data = pd.DataFrame(product(range(10, 101, 10), [10 ** -i for i in range(2, 16)]), columns=['n', 'eps'])\n",
        "diagonal_data[\n",
        "    [\n",
        "        'power_steps', \n",
        "        'power_value_error', \n",
        "        'power_vector_error', \n",
        "        'scalar_steps', \n",
        "        'scalar_value_error', \n",
        "        'scalar_vector_error'\n",
        "    ]\n",
        "] = diagonal_data.apply(\n",
        "    func=lambda row: run_benchmark(get_diagonal_matrix(int(row.n)), row.eps),\n",
        "    axis=1,\n",
        ")\n",
        "diagonal_data"
      ],
      "metadata": {
        "colab": {
          "base_uri": "https://localhost:8080/",
          "height": 424
        },
        "id": "pqUTcrenYCTV",
        "outputId": "4f70d694-590d-4fd7-e7b9-1206f8dafc9c"
      },
      "execution_count": 44,
      "outputs": [
        {
          "output_type": "execute_result",
          "data": {
            "text/plain": [
              "       n           eps  power_steps  power_value_error  power_vector_error  \\\n",
              "0     10  1.000000e-02         45.0       8.934114e-05        8.727823e-03   \n",
              "1     10  1.000000e-03         67.0       8.664323e-07        8.595043e-04   \n",
              "2     10  1.000000e-04         89.0       8.402438e-09        8.464150e-05   \n",
              "3     10  1.000000e-05        111.0       8.148504e-11        8.335248e-06   \n",
              "4     10  1.000000e-06        133.0       7.887024e-13        8.208310e-07   \n",
              "..   ...           ...          ...                ...                 ...   \n",
              "135  100  1.000000e-11       2522.0       0.000000e+00        9.816593e-12   \n",
              "136  100  1.000000e-12       2751.0       0.000000e+00        9.826986e-13   \n",
              "137  100  1.000000e-13       2980.0       0.000000e+00        9.837390e-14   \n",
              "138  100  1.000000e-14       3209.0       0.000000e+00        9.847806e-15   \n",
              "139  100  1.000000e-15       3438.0       0.000000e+00        9.858232e-16   \n",
              "\n",
              "     scalar_steps  scalar_value_error  scalar_vector_error  \n",
              "0            15.0        3.866650e-02             0.185042  \n",
              "1            26.0        3.757591e-03             0.058126  \n",
              "2            37.0        3.699594e-04             0.018247  \n",
              "3            48.0        3.643486e-05             0.005726  \n",
              "4            59.0        3.588044e-06             0.001797  \n",
              "..            ...                 ...                  ...  \n",
              "135        1066.0        4.896350e-10             0.000022  \n",
              "136        1181.0        4.853007e-11             0.000007  \n",
              "137        1286.0        5.883294e-12             0.000002  \n",
              "138        1363.0        1.250555e-12             0.000001  \n",
              "139        1363.0        1.250555e-12             0.000001  \n",
              "\n",
              "[140 rows x 8 columns]"
            ],
            "text/html": [
              "\n",
              "  <div id=\"df-6c3f048d-baac-4f57-be16-c9754f54a8c1\">\n",
              "    <div class=\"colab-df-container\">\n",
              "      <div>\n",
              "<style scoped>\n",
              "    .dataframe tbody tr th:only-of-type {\n",
              "        vertical-align: middle;\n",
              "    }\n",
              "\n",
              "    .dataframe tbody tr th {\n",
              "        vertical-align: top;\n",
              "    }\n",
              "\n",
              "    .dataframe thead th {\n",
              "        text-align: right;\n",
              "    }\n",
              "</style>\n",
              "<table border=\"1\" class=\"dataframe\">\n",
              "  <thead>\n",
              "    <tr style=\"text-align: right;\">\n",
              "      <th></th>\n",
              "      <th>n</th>\n",
              "      <th>eps</th>\n",
              "      <th>power_steps</th>\n",
              "      <th>power_value_error</th>\n",
              "      <th>power_vector_error</th>\n",
              "      <th>scalar_steps</th>\n",
              "      <th>scalar_value_error</th>\n",
              "      <th>scalar_vector_error</th>\n",
              "    </tr>\n",
              "  </thead>\n",
              "  <tbody>\n",
              "    <tr>\n",
              "      <th>0</th>\n",
              "      <td>10</td>\n",
              "      <td>1.000000e-02</td>\n",
              "      <td>45.0</td>\n",
              "      <td>8.934114e-05</td>\n",
              "      <td>8.727823e-03</td>\n",
              "      <td>15.0</td>\n",
              "      <td>3.866650e-02</td>\n",
              "      <td>0.185042</td>\n",
              "    </tr>\n",
              "    <tr>\n",
              "      <th>1</th>\n",
              "      <td>10</td>\n",
              "      <td>1.000000e-03</td>\n",
              "      <td>67.0</td>\n",
              "      <td>8.664323e-07</td>\n",
              "      <td>8.595043e-04</td>\n",
              "      <td>26.0</td>\n",
              "      <td>3.757591e-03</td>\n",
              "      <td>0.058126</td>\n",
              "    </tr>\n",
              "    <tr>\n",
              "      <th>2</th>\n",
              "      <td>10</td>\n",
              "      <td>1.000000e-04</td>\n",
              "      <td>89.0</td>\n",
              "      <td>8.402438e-09</td>\n",
              "      <td>8.464150e-05</td>\n",
              "      <td>37.0</td>\n",
              "      <td>3.699594e-04</td>\n",
              "      <td>0.018247</td>\n",
              "    </tr>\n",
              "    <tr>\n",
              "      <th>3</th>\n",
              "      <td>10</td>\n",
              "      <td>1.000000e-05</td>\n",
              "      <td>111.0</td>\n",
              "      <td>8.148504e-11</td>\n",
              "      <td>8.335248e-06</td>\n",
              "      <td>48.0</td>\n",
              "      <td>3.643486e-05</td>\n",
              "      <td>0.005726</td>\n",
              "    </tr>\n",
              "    <tr>\n",
              "      <th>4</th>\n",
              "      <td>10</td>\n",
              "      <td>1.000000e-06</td>\n",
              "      <td>133.0</td>\n",
              "      <td>7.887024e-13</td>\n",
              "      <td>8.208310e-07</td>\n",
              "      <td>59.0</td>\n",
              "      <td>3.588044e-06</td>\n",
              "      <td>0.001797</td>\n",
              "    </tr>\n",
              "    <tr>\n",
              "      <th>...</th>\n",
              "      <td>...</td>\n",
              "      <td>...</td>\n",
              "      <td>...</td>\n",
              "      <td>...</td>\n",
              "      <td>...</td>\n",
              "      <td>...</td>\n",
              "      <td>...</td>\n",
              "      <td>...</td>\n",
              "    </tr>\n",
              "    <tr>\n",
              "      <th>135</th>\n",
              "      <td>100</td>\n",
              "      <td>1.000000e-11</td>\n",
              "      <td>2522.0</td>\n",
              "      <td>0.000000e+00</td>\n",
              "      <td>9.816593e-12</td>\n",
              "      <td>1066.0</td>\n",
              "      <td>4.896350e-10</td>\n",
              "      <td>0.000022</td>\n",
              "    </tr>\n",
              "    <tr>\n",
              "      <th>136</th>\n",
              "      <td>100</td>\n",
              "      <td>1.000000e-12</td>\n",
              "      <td>2751.0</td>\n",
              "      <td>0.000000e+00</td>\n",
              "      <td>9.826986e-13</td>\n",
              "      <td>1181.0</td>\n",
              "      <td>4.853007e-11</td>\n",
              "      <td>0.000007</td>\n",
              "    </tr>\n",
              "    <tr>\n",
              "      <th>137</th>\n",
              "      <td>100</td>\n",
              "      <td>1.000000e-13</td>\n",
              "      <td>2980.0</td>\n",
              "      <td>0.000000e+00</td>\n",
              "      <td>9.837390e-14</td>\n",
              "      <td>1286.0</td>\n",
              "      <td>5.883294e-12</td>\n",
              "      <td>0.000002</td>\n",
              "    </tr>\n",
              "    <tr>\n",
              "      <th>138</th>\n",
              "      <td>100</td>\n",
              "      <td>1.000000e-14</td>\n",
              "      <td>3209.0</td>\n",
              "      <td>0.000000e+00</td>\n",
              "      <td>9.847806e-15</td>\n",
              "      <td>1363.0</td>\n",
              "      <td>1.250555e-12</td>\n",
              "      <td>0.000001</td>\n",
              "    </tr>\n",
              "    <tr>\n",
              "      <th>139</th>\n",
              "      <td>100</td>\n",
              "      <td>1.000000e-15</td>\n",
              "      <td>3438.0</td>\n",
              "      <td>0.000000e+00</td>\n",
              "      <td>9.858232e-16</td>\n",
              "      <td>1363.0</td>\n",
              "      <td>1.250555e-12</td>\n",
              "      <td>0.000001</td>\n",
              "    </tr>\n",
              "  </tbody>\n",
              "</table>\n",
              "<p>140 rows × 8 columns</p>\n",
              "</div>\n",
              "      <button class=\"colab-df-convert\" onclick=\"convertToInteractive('df-6c3f048d-baac-4f57-be16-c9754f54a8c1')\"\n",
              "              title=\"Convert this dataframe to an interactive table.\"\n",
              "              style=\"display:none;\">\n",
              "        \n",
              "  <svg xmlns=\"http://www.w3.org/2000/svg\" height=\"24px\"viewBox=\"0 0 24 24\"\n",
              "       width=\"24px\">\n",
              "    <path d=\"M0 0h24v24H0V0z\" fill=\"none\"/>\n",
              "    <path d=\"M18.56 5.44l.94 2.06.94-2.06 2.06-.94-2.06-.94-.94-2.06-.94 2.06-2.06.94zm-11 1L8.5 8.5l.94-2.06 2.06-.94-2.06-.94L8.5 2.5l-.94 2.06-2.06.94zm10 10l.94 2.06.94-2.06 2.06-.94-2.06-.94-.94-2.06-.94 2.06-2.06.94z\"/><path d=\"M17.41 7.96l-1.37-1.37c-.4-.4-.92-.59-1.43-.59-.52 0-1.04.2-1.43.59L10.3 9.45l-7.72 7.72c-.78.78-.78 2.05 0 2.83L4 21.41c.39.39.9.59 1.41.59.51 0 1.02-.2 1.41-.59l7.78-7.78 2.81-2.81c.8-.78.8-2.07 0-2.86zM5.41 20L4 18.59l7.72-7.72 1.47 1.35L5.41 20z\"/>\n",
              "  </svg>\n",
              "      </button>\n",
              "      \n",
              "  <style>\n",
              "    .colab-df-container {\n",
              "      display:flex;\n",
              "      flex-wrap:wrap;\n",
              "      gap: 12px;\n",
              "    }\n",
              "\n",
              "    .colab-df-convert {\n",
              "      background-color: #E8F0FE;\n",
              "      border: none;\n",
              "      border-radius: 50%;\n",
              "      cursor: pointer;\n",
              "      display: none;\n",
              "      fill: #1967D2;\n",
              "      height: 32px;\n",
              "      padding: 0 0 0 0;\n",
              "      width: 32px;\n",
              "    }\n",
              "\n",
              "    .colab-df-convert:hover {\n",
              "      background-color: #E2EBFA;\n",
              "      box-shadow: 0px 1px 2px rgba(60, 64, 67, 0.3), 0px 1px 3px 1px rgba(60, 64, 67, 0.15);\n",
              "      fill: #174EA6;\n",
              "    }\n",
              "\n",
              "    [theme=dark] .colab-df-convert {\n",
              "      background-color: #3B4455;\n",
              "      fill: #D2E3FC;\n",
              "    }\n",
              "\n",
              "    [theme=dark] .colab-df-convert:hover {\n",
              "      background-color: #434B5C;\n",
              "      box-shadow: 0px 1px 3px 1px rgba(0, 0, 0, 0.15);\n",
              "      filter: drop-shadow(0px 1px 2px rgba(0, 0, 0, 0.3));\n",
              "      fill: #FFFFFF;\n",
              "    }\n",
              "  </style>\n",
              "\n",
              "      <script>\n",
              "        const buttonEl =\n",
              "          document.querySelector('#df-6c3f048d-baac-4f57-be16-c9754f54a8c1 button.colab-df-convert');\n",
              "        buttonEl.style.display =\n",
              "          google.colab.kernel.accessAllowed ? 'block' : 'none';\n",
              "\n",
              "        async function convertToInteractive(key) {\n",
              "          const element = document.querySelector('#df-6c3f048d-baac-4f57-be16-c9754f54a8c1');\n",
              "          const dataTable =\n",
              "            await google.colab.kernel.invokeFunction('convertToInteractive',\n",
              "                                                     [key], {});\n",
              "          if (!dataTable) return;\n",
              "\n",
              "          const docLinkHtml = 'Like what you see? Visit the ' +\n",
              "            '<a target=\"_blank\" href=https://colab.research.google.com/notebooks/data_table.ipynb>data table notebook</a>'\n",
              "            + ' to learn more about interactive tables.';\n",
              "          element.innerHTML = '';\n",
              "          dataTable['output_type'] = 'display_data';\n",
              "          await google.colab.output.renderOutput(dataTable, element);\n",
              "          const docLink = document.createElement('div');\n",
              "          docLink.innerHTML = docLinkHtml;\n",
              "          element.appendChild(docLink);\n",
              "        }\n",
              "      </script>\n",
              "    </div>\n",
              "  </div>\n",
              "  "
            ]
          },
          "metadata": {},
          "execution_count": 44
        }
      ]
    },
    {
      "cell_type": "code",
      "source": [
        "draw_graphics(diagonal_data, 10)\n",
        "draw_graphics(diagonal_data, 50)\n",
        "draw_graphics(diagonal_data, 100)"
      ],
      "metadata": {
        "id": "AkcBHbNuchUE"
      },
      "execution_count": null,
      "outputs": []
    },
    {
      "cell_type": "code",
      "source": [
        "diagonal_data_smallest = pd.DataFrame(product(range(10, 101, 10), [10 ** -i for i in range(2, 16)]), columns=['n', 'eps'])\n",
        "diagonal_data_smallest[\n",
        "    [\n",
        "        'power_steps', \n",
        "        'power_value_error', \n",
        "        'power_vector_error', \n",
        "        'scalar_steps', \n",
        "        'scalar_value_error', \n",
        "        'scalar_vector_error'\n",
        "    ]\n",
        "] = diagonal_data_smallest.apply(\n",
        "    func=lambda row: run_benchmark_smallest_eig(get_diagonal_matrix(int(row.n)), row.eps),\n",
        "    axis=1,\n",
        ")\n",
        "diagonal_data_smallest"
      ],
      "metadata": {
        "id": "TwUuajnri_yS"
      },
      "execution_count": null,
      "outputs": []
    },
    {
      "cell_type": "code",
      "source": [
        "draw_graphics(diagonal_data_smallest, 10)\n",
        "draw_graphics(diagonal_data_smallest, 50)\n",
        "draw_graphics(diagonal_data_smallest, 100)"
      ],
      "metadata": {
        "id": "evcum-OEjHnH"
      },
      "execution_count": null,
      "outputs": []
    },
    {
      "cell_type": "markdown",
      "source": [
        "# Диагонально доминирующая"
      ],
      "metadata": {
        "id": "oXGA2uIgdx3b"
      }
    },
    {
      "cell_type": "code",
      "source": [
        "def get_diagonally_dominant_matrix(size):\n",
        "    return np.eye(size) * 4 + np.eye(size, k=1) * -1 + np.eye(size, k=-1) * -1"
      ],
      "metadata": {
        "id": "2pnpAQfHd0tk"
      },
      "execution_count": 50,
      "outputs": []
    },
    {
      "cell_type": "code",
      "source": [
        "diagonally_dominant_data = pd.DataFrame(product([10, 20], [10 ** -i for i in range(2, 16)]), columns=['n', 'eps'])\n",
        "diagonally_dominant_data[\n",
        "    [\n",
        "        'power_steps', \n",
        "        'power_value_error', \n",
        "        'power_vector_error', \n",
        "        'scalar_steps', \n",
        "        'scalar_value_error', \n",
        "        'scalar_vector_error'\n",
        "    ]\n",
        "] = diagonally_dominant_data.apply(\n",
        "    func=lambda row: run_benchmark(get_diagonally_dominant_matrix(int(row.n)), row.eps),\n",
        "    axis=1,\n",
        ")\n",
        "diagonally_dominant_data"
      ],
      "metadata": {
        "id": "5m5IKrKBd12T"
      },
      "execution_count": null,
      "outputs": []
    },
    {
      "cell_type": "code",
      "source": [
        "draw_graphics(diagonally_dominant_data, 10)\n",
        "draw_graphics(diagonally_dominant_data, 20)"
      ],
      "metadata": {
        "id": "aUA4vShwd8jn"
      },
      "execution_count": null,
      "outputs": []
    },
    {
      "cell_type": "code",
      "source": [
        "diagonally_dominant_data_smallest = pd.DataFrame(product([10, 20], [10 ** -i for i in range(2, 16)]), columns=['n', 'eps'])\n",
        "diagonally_dominant_data_smallest[\n",
        "    [\n",
        "        'power_steps', \n",
        "        'power_value_error', \n",
        "        'power_vector_error', \n",
        "        'scalar_steps', \n",
        "        'scalar_value_error', \n",
        "        'scalar_vector_error'\n",
        "    ]\n",
        "] = diagonally_dominant_data_smallest.apply(\n",
        "    func=lambda row: run_benchmark_smallest_eig(get_diagonally_dominant_matrix(int(row.n)), row.eps),\n",
        "    axis=1,\n",
        ")\n",
        "diagonally_dominant_data_smallest"
      ],
      "metadata": {
        "id": "Spkp1OiMllWd"
      },
      "execution_count": null,
      "outputs": []
    },
    {
      "cell_type": "code",
      "source": [
        "draw_graphics(diagonally_dominant_data_smallest, 10)\n",
        "draw_graphics(diagonally_dominant_data_smallest, 20)"
      ],
      "metadata": {
        "id": "2P2Yxfmkl2ij"
      },
      "execution_count": null,
      "outputs": []
    },
    {
      "cell_type": "markdown",
      "source": [
        "Матрица Гильберта"
      ],
      "metadata": {
        "id": "je1rIBkOeOY5"
      }
    },
    {
      "cell_type": "code",
      "source": [
        "hilbert_data = pd.DataFrame(product(range(2, 29), [10 ** -i for i in range(2, 16)]), columns=['n', 'eps'])\n",
        "hilbert_data[\n",
        "    [\n",
        "        'power_steps', \n",
        "        'power_value_error', \n",
        "        'power_vector_error', \n",
        "        'scalar_steps', \n",
        "        'scalar_value_error', \n",
        "        'scalar_vector_error'\n",
        "    ]\n",
        "] = hilbert_data.apply(\n",
        "    func=lambda row: run_benchmark(get_hilbert_matrix(int(row.n)), row.eps),\n",
        "    axis=1,\n",
        ")\n",
        "hilbert_data"
      ],
      "metadata": {
        "id": "ZtAhImoReQ6e"
      },
      "execution_count": null,
      "outputs": []
    },
    {
      "cell_type": "code",
      "source": [
        "draw_graphics(hilbert_data, 2)\n",
        "draw_graphics(hilbert_data, 14)\n",
        "draw_graphics(hilbert_data, 28)"
      ],
      "metadata": {
        "id": "DJ3m8-JqeVhW"
      },
      "execution_count": null,
      "outputs": []
    },
    {
      "cell_type": "code",
      "source": [
        "hilbert_data_smallest = pd.DataFrame(product(range(2, 29), [10 ** -i for i in range(2, 16)]), columns=['n', 'eps'])\n",
        "hilbert_data_smallest[\n",
        "    [\n",
        "        'power_steps', \n",
        "        'power_value_error', \n",
        "        'power_vector_error', \n",
        "        'scalar_steps', \n",
        "        'scalar_value_error', \n",
        "        'scalar_vector_error'\n",
        "    ]\n",
        "] = hilbert_data_smallest.apply(\n",
        "    func=lambda row: run_benchmark(get_hilbert_matrix(int(row.n)), row.eps),\n",
        "    axis=1,\n",
        ")\n",
        "hilbert_data_smallest"
      ],
      "metadata": {
        "id": "pEUQeiPdh6gr"
      },
      "execution_count": null,
      "outputs": []
    },
    {
      "cell_type": "code",
      "source": [
        "draw_graphics(hilbert_data_smallest, 2)\n",
        "draw_graphics(hilbert_data_smallest, 14)\n",
        "draw_graphics(hilbert_data_smallest, 28)"
      ],
      "metadata": {
        "id": "gVRuheiql8wq"
      },
      "execution_count": null,
      "outputs": []
    },
    {
      "cell_type": "markdown",
      "source": [
        "Обратные итерации со сдвигом"
      ],
      "metadata": {
        "id": "yh_ZZIYfmMds"
      }
    },
    {
      "cell_type": "code",
      "source": [
        "class EigenSpecifier:\n",
        "    def __init__(self, max_iteration=1e7):\n",
        "        self._previous_vector = None\n",
        "        self._current_vector = None\n",
        "        self.iterations_count = 0\n",
        "        self._max_iteration = max_iteration\n",
        "\n",
        "    def _is_iteration_finish(self, eps):\n",
        "        if self.iterations_count <= 1:\n",
        "            return False\n",
        "\n",
        "        value = sqrt(self._current_vector.dot(self._current_vector) / self._previous_vector.dot(self._previous_vector))\n",
        "        return linalg.norm(self._current_vector - value * self._previous_vector) / linalg.norm(self._previous_vector) <= eps or self.iterations_count > self._max_iteration\n",
        "\n",
        "    def specify(\n",
        "        self, matrix, eps: float, eigenvalue_approximation, initial_vector=None\n",
        "    ):\n",
        "        matrix_size = matrix.shape[0]\n",
        "        new_matrix = matrix - eigenvalue_approximation * np.eye(matrix_size) \n",
        "\n",
        "        if initial_vector is None:\n",
        "            initial_vector = np.ones(matrix_size)\n",
        "\n",
        "        self.iterations_count = 0\n",
        "        self._current_vector = initial_vector.copy()\n",
        "\n",
        "        while not self._is_iteration_finish(eps):\n",
        "            norm = np.max(np.abs(self._current_vector))\n",
        "            self._current_vector /= linalg.norm(self._current_vector)\n",
        "\n",
        "            self._previous_vector = self._current_vector\n",
        "            self._current_vector = np.linalg.solve(new_matrix, self._current_vector)\n",
        "            self.iterations_count += 1\n",
        "\n",
        "        return 1 / np.mean(self._current_vector / self._previous_vector) + eigenvalue_approximation, self._current_vector"
      ],
      "metadata": {
        "id": "oY9Jm1vGl_qK"
      },
      "execution_count": 83,
      "outputs": []
    },
    {
      "cell_type": "code",
      "source": [
        "def get_gershgorin_circles(matrix):\n",
        "    matrix_size = matrix.shape[0]\n",
        "    _result = []\n",
        "    for i in range(matrix_size):\n",
        "        radius = sum(abs(matrix[i, j]) for j in range(matrix_size) if j != i)\n",
        "        _result.append((matrix[i, i] - radius, matrix[i, i] + radius))\n",
        "    return _result"
      ],
      "metadata": {
        "id": "470pt7tKnRws"
      },
      "execution_count": 84,
      "outputs": []
    },
    {
      "cell_type": "code",
      "source": [
        "A = np.array([\n",
        "    [15, 3, 5, 2], \n",
        "    [-5, -23, 2, -1], \n",
        "    [12, -9, 35, -1], \n",
        "    [9, 2, 6, 36]\n",
        "])\n",
        "\n",
        "print(f'Точные значения: {[-22.090929928620027940, 11.170008850837157393, 38.387070273036965682, 35.533850804745904865]}')\n",
        "print(f'Круги Гершгорина: {sorted(get_gershgorin_circles(A), key=lambda x: x[0])}')\n",
        "print()\n",
        "\n",
        "specifier = EigenSpecifier()\n",
        "print(f'Приближенное значение: {11}')\n",
        "print(f'Уточненное значение: {specifier.specify(A, 1e-7, 11)[0]}')\n",
        "print()\n",
        "\n",
        "print(f'Приближенное значение: {5}')\n",
        "print(f'Уточненное значение: {specifier.specify(A, 1e-7, 5)[0]}')\n",
        "print()\n",
        "\n",
        "print(f'Приближенное значение: {-100}')\n",
        "print(f'Уточненное значение: {specifier.specify(A, 1e-7, -100)[0]}')\n",
        "print()\n",
        "\n",
        "print(f'Приближенное значение: {30}')\n",
        "print(f'Уточненное значение: {specifier.specify(A, 1e-7, 30)[0]}')\n",
        "print()\n",
        "\n",
        "print(f'Приближенное значение: {37}')\n",
        "print(f'Уточненное значение: {specifier.specify(A, 1e-7, 37)[0]}')\n",
        "print()"
      ],
      "metadata": {
        "colab": {
          "base_uri": "https://localhost:8080/"
        },
        "id": "kBnRdJNInWGI",
        "outputId": "924e7fe6-470f-407a-85fa-35676b15d2db"
      },
      "execution_count": 87,
      "outputs": [
        {
          "output_type": "stream",
          "name": "stdout",
          "text": [
            "Точные значения: [-22.090929928620028, 11.170008850837158, 38.38707027303697, 35.5338508047459]\n",
            "Круги Гершгорина: [(-31, -15), (5, 25), (13, 57), (19, 53)]\n",
            "\n",
            "Приближенное значение: 11\n",
            "Уточненное значение: 11.170008850483287\n",
            "\n",
            "Приближенное значение: 5\n",
            "Уточненное значение: 11.17000321087884\n",
            "\n",
            "Приближенное значение: -100\n",
            "Уточненное значение: -22.09189500538922\n",
            "\n",
            "Приближенное значение: 30\n",
            "Уточненное значение: 35.533846294124146\n",
            "\n",
            "Приближенное значение: 37\n",
            "Уточненное значение: 38.38706999861869\n",
            "\n"
          ]
        }
      ]
    },
    {
      "cell_type": "code",
      "source": [
        ""
      ],
      "metadata": {
        "id": "GWxxToENn6lB"
      },
      "execution_count": null,
      "outputs": []
    }
  ]
}