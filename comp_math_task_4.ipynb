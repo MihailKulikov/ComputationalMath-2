{
 "cells":[
  {
   "cell_type":"code",
   "source":[
    "from itertools import product\n",
    "from typing import Tuple, Literal, Callable\n",
    "\n",
    "import numpy as np\n",
    "import scipy as sp\n",
    "import numpy.linalg as linalg\n",
    "import scipy.linalg\n",
    "import pandas as pd\n",
    "import plotly.graph_objects as go\n",
    "\n",
    "from enum import Enum"
   ],
   "execution_count":1,
   "outputs":[
    
   ],
   "metadata":{
    "datalore":{
     "type":"CODE",
     "hide_input_from_viewers":false,
     "hide_output_from_viewers":false,
     "node_id":"jdP1ByjanyLnDoGAyQoXr7"
    }
   }
  },
  {
   "cell_type":"markdown",
   "source":[
    "# Utils"
   ],
   "attachments":{
    
   },
   "metadata":{
    "datalore":{
     "type":"MD",
     "hide_input_from_viewers":false,
     "hide_output_from_viewers":false,
     "node_id":"cMfHItwjZuvDAvBbm4PTig"
    }
   }
  },
  {
   "cell_type":"code",
   "source":[
    "def generate_matrix(element_factory, size):\n",
    "    return np.array(\n",
    "        [\n",
    "            [element_factory(row, column) for column in range(1, size + 1)]\n",
    "            for row in range(1, size + 1)\n",
    "        ]\n",
    "    )"
   ],
   "execution_count":2,
   "outputs":[
    
   ],
   "metadata":{
    "datalore":{
     "type":"CODE",
     "hide_input_from_viewers":false,
     "hide_output_from_viewers":false,
     "node_id":"eUdYPel3jMdIZXV6b2xB0i"
    }
   }
  },
  {
   "cell_type":"code",
   "source":[
    "def get_hilbert_linear_system(size, expected_solution=None):\n",
    "    matrix = np.around(generate_matrix(lambda row, column: 1 \/ (row + column - 1), size), 10)\n",
    "    \n",
    "    expected_solution = expected_solution if expected_solution is not None else np.ones(size)\n",
    "    right_part = np.dot(matrix, expected_solution)\n",
    "\n",
    "    return matrix, right_part, expected_solution"
   ],
   "execution_count":null,
   "outputs":[
    
   ],
   "metadata":{
    "datalore":{
     "type":"CODE",
     "hide_input_from_viewers":false,
     "hide_output_from_viewers":false,
     "node_id":"bRQrH0a6pvXGiVhQbKtOOH"
    }
   }
  },
  {
   "cell_type":"code",
   "source":[
    
   ],
   "execution_count":null,
   "outputs":[
    
   ],
   "metadata":{
    "datalore":{
     "type":"CODE",
     "hide_input_from_viewers":false,
     "hide_output_from_viewers":false,
     "node_id":"tRcyRYTX0sfRrj3K7m4lWA"
    }
   }
  },
  {
   "cell_type":"code",
   "source":[
    
   ],
   "execution_count":null,
   "outputs":[
    
   ],
   "metadata":{
    "datalore":{
     "type":"CODE",
     "hide_input_from_viewers":false,
     "hide_output_from_viewers":false,
     "node_id":"DBUv2v3bqkHk8SUWm8KN4H"
    }
   }
  },
  {
   "cell_type":"markdown",
   "source":[
    "# "
   ],
   "attachments":{
    
   },
   "metadata":{
    "datalore":{
     "type":"MD",
     "hide_input_from_viewers":false,
     "hide_output_from_viewers":false,
     "node_id":"QymUrvxePII6uWmGNIrTBg"
    }
   }
  }
 ],
 "metadata":{
  "kernelspec":{
   "display_name":"Python",
   "language":"python",
   "name":"python"
  },
  "datalore":{
   "version":1,
   "computation_mode":"REACTIVE",
   "package_manager":"pip",
   "base_environment":"default",
   "packages":[
    
   ]
  }
 },
 "nbformat":4,
 "nbformat_minor":4
}