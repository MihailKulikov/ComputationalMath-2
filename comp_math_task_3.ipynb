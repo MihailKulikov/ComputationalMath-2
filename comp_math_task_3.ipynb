{
 "cells":[
  {
   "cell_type":"code",
   "source":[
    "from itertools import product\n",
    "from typing import Tuple, Literal, Callable\n",
    "\n",
    "import numpy as np\n",
    "import scipy as sp\n",
    "import numpy.linalg as linalg\n",
    "import scipy.linalg\n",
    "import pandas as pd\n",
    "import plotly.graph_objects as go\n",
    "\n",
    "from enum import Enum"
   ],
   "execution_count":15,
   "outputs":[
    
   ],
   "metadata":{
    "datalore":{
     "type":"CODE",
     "hide_input_from_viewers":false,
     "hide_output_from_viewers":false,
     "node_id":"K2oeknU2Kjsp6uZZ8CuO0k"
    }
   }
  },
  {
   "cell_type":"markdown",
   "source":[
    "# Util"
   ],
   "attachments":{
    
   },
   "metadata":{
    "datalore":{
     "type":"MD",
     "hide_input_from_viewers":false,
     "hide_output_from_viewers":false,
     "node_id":"W9vb9Zh4MFscXJaF7MVaGH"
    }
   }
  },
  {
   "cell_type":"code",
   "source":[
    "matrix_size_name = \"matrix_size\"\n",
    "matrix_a_condition_name = \"cond(A)\"\n",
    "matrix_l_condition_name = \"cond(L)\"\n",
    "matrix_u_condition_name = \"cond(U)\"\n",
    "error_column_name = \"lu_error\"\n",
    "qr_error_column_name = \"qr_error\"\n",
    "alpha_column_name = \"alpha\"\n",
    "regulirized_matrix_a_condition_name = \"cond(A + alpha * E)\"\n",
    "regulirized_matrix_l_condition_name = \"cond(reg(L))\"\n",
    "regulirized_matrix_u_condition_name = \"cond(reg(U))\"\n",
    "regulirized_error_column_name = \"reg_error\"\n",
    "\n",
    "class ConditionNumberType(Enum):\n",
    "    SpectralCondition = \"cond_s\"\n",
    "    VolumCondition = \"cond_v\"\n",
    "    AngleCondition = \"cond_a\"\n",
    "\n",
    "\n",
    "class SolutionType(Enum):\n",
    "    LUDecomposition = \"lu\"\n",
    "    QRRotationDecomposition = \"qr_rotation\"\n",
    "    QRReflectionDecomposition = \"qr_reflection\""
   ],
   "execution_count":16,
   "outputs":[
    
   ],
   "metadata":{
    "datalore":{
     "type":"CODE",
     "hide_input_from_viewers":false,
     "hide_output_from_viewers":false,
     "node_id":"st1FCZVQsdXz2h4sTzkLR6"
    }
   }
  },
  {
   "cell_type":"code",
   "source":[
    "def calculate_spectral_condition_number(matrix):\n",
    "    return linalg.cond(matrix)\n",
    "\n",
    "\n",
    "def calculate_volume_condition_number(matrix):\n",
    "    volume_denominator = abs(linalg.det(matrix))\n",
    "\n",
    "    volume_numerator = 1\n",
    "    for row in matrix:\n",
    "        volume_numerator *= linalg.norm(row)\n",
    "\n",
    "    return volume_numerator \/ volume_denominator\n",
    "\n",
    "\n",
    "def calculate_angle_condition_number(matrix):\n",
    "    candidates = []\n",
    "    for row, column in zip(matrix, linalg.inv(matrix).T):\n",
    "        candidates.append(linalg.norm(row) * linalg.norm(column))\n",
    "\n",
    "    return max(candidates)\n",
    "\n",
    "\n",
    "def calculate_condition_number(condition_number_type: ConditionNumberType, matrix):\n",
    "    return {\n",
    "        ConditionNumberType.AngleCondition: calculate_angle_condition_number,\n",
    "        ConditionNumberType.SpectralCondition: calculate_spectral_condition_number,\n",
    "        ConditionNumberType.VolumCondition: calculate_volume_condition_number,\n",
    "    }[condition_number_type](matrix)"
   ],
   "execution_count":17,
   "outputs":[
    
   ],
   "metadata":{
    "datalore":{
     "type":"CODE",
     "hide_input_from_viewers":false,
     "hide_output_from_viewers":false,
     "node_id":"lndQunGY0SJEvIZp6vD09d"
    }
   }
  },
  {
   "cell_type":"code",
   "source":[
    "def generate_matrix(element_factory, size):\n",
    "    return np.array(\n",
    "        [\n",
    "            [element_factory(row, column) for column in range(1, size + 1)]\n",
    "            for row in range(1, size + 1)\n",
    "        ]\n",
    "    )"
   ],
   "execution_count":18,
   "outputs":[
    
   ],
   "metadata":{
    "datalore":{
     "type":"CODE",
     "hide_input_from_viewers":false,
     "hide_output_from_viewers":false,
     "node_id":"EmFAI7KGUnuqE1ad2kxH0J"
    }
   }
  },
  {
   "cell_type":"code",
   "source":[
    "def draw_compare_plot_for_size_and_cond(data, matrix_condition_names=None):\n",
    "    if matrix_condition_names is None:\n",
    "        matrix_condition_names = [matrix_a_condition_name, matrix_l_condition_name, matrix_u_condition_name]\n",
    "\n",
    "    fig = go.Figure()\n",
    "\n",
    "    for matrix_condition_name in matrix_condition_names:\n",
    "        fig.add_scatter(x=data[matrix_size_name], y=data[matrix_condition_name], name=matrix_condition_name)\n",
    "\n",
    "    fig.update_xaxes(title='Размер матрицы')\n",
    "    fig.update_yaxes(title='Число обусловленности', tickformat='.2e')\n",
    "    fig.update_layout(title='Зависимость числа обусловленности от размера матрицы')\n",
    "\n",
    "    fig.show()"
   ],
   "execution_count":19,
   "outputs":[
    
   ],
   "metadata":{
    "datalore":{
     "type":"CODE",
     "hide_input_from_viewers":false,
     "hide_output_from_viewers":false,
     "node_id":"vuYXfTMZO8IUibGZ07uoX9"
    }
   }
  },
  {
   "cell_type":"code",
   "source":[
    "def draw_compare_plot_for_size_and_error(datasets, error_columns):\n",
    "    fig = go.Figure()\n",
    "\n",
    "    if not isinstance(datasets, list):\n",
    "        datasets = [datasets]\n",
    "\n",
    "    if not isinstance(error_columns, list):\n",
    "        error_columns = [error_columns]\n",
    "\n",
    "    assert len(error_columns) == len(datasets)\n",
    "\n",
    "    for dataset, error_column in zip(datasets, error_columns):\n",
    "        fig.add_scatter(x=dataset[matrix_size_name], y=dataset[error_column], name=error_column)\n",
    "\n",
    "    fig.update_xaxes(title='Размер матрицы')\n",
    "    fig.update_yaxes(title='Ошибка', tickformat='.2e')\n",
    "    fig.update_layout(title='Зависимость ошибки от размера матрицы')\n",
    "\n",
    "    fig.show()"
   ],
   "execution_count":58,
   "outputs":[
    
   ],
   "metadata":{
    "datalore":{
     "type":"CODE",
     "hide_input_from_viewers":false,
     "hide_output_from_viewers":false,
     "node_id":"HHxyp8u9Gx3jXgFIhIUVEg"
    }
   }
  },
  {
   "cell_type":"code",
   "source":[
    "def get_lup_decomposition(matrix):\n",
    "    return sp.linalg.lu(matrix)\n",
    "\n",
    "def solve_using_lu_decompostion(l, u, right_part):\n",
    "    y = sp.linalg.solve_triangular(l, right_part, lower=True)\n",
    "    return sp.linalg.solve_triangular(u, y, lower=False)"
   ],
   "execution_count":21,
   "outputs":[
    
   ],
   "metadata":{
    "datalore":{
     "type":"CODE",
     "hide_input_from_viewers":false,
     "hide_output_from_viewers":false,
     "node_id":"o84O4w7OrI7cFkjvOwonuA"
    }
   }
  },
  {
   "cell_type":"code",
   "source":[
    "def get_rotation_matrix(dim, i, j, cos, sin):\n",
    "    matrix = np.eye(dim)\n",
    "\n",
    "    matrix[i, j] = -sin\n",
    "    matrix[j, i] = sin\n",
    "\n",
    "    matrix[i, i] = cos\n",
    "    matrix[j, j] = cos\n",
    "\n",
    "    return matrix\n",
    "\n",
    "\n",
    "def get_qr_rotation_decomposition(matrix):\n",
    "    dim = matrix.shape[0]\n",
    "\n",
    "    Q = np.eye(dim)\n",
    "    R = matrix.copy()\n",
    "\n",
    "    for i in range(dim - 1):\n",
    "        for j in range(i + 1, dim):\n",
    "            z_i = R[i, i]\n",
    "            z_j = R[j, i]\n",
    "\n",
    "            if np.isclose(z_j, 0):\n",
    "                continue\n",
    "\n",
    "            r = np.hypot(z_i, z_j)\n",
    "\n",
    "            cos = z_i \/ r\n",
    "            sin = -z_j \/ r\n",
    "            T = get_rotation_matrix(dim, i, j, cos, sin)\n",
    "\n",
    "            Q = T.dot(Q)\n",
    "            R = T.dot(R)\n",
    "\n",
    "    return Q.T, R"
   ],
   "execution_count":37,
   "outputs":[
    
   ],
   "metadata":{
    "datalore":{
     "type":"CODE",
     "hide_input_from_viewers":false,
     "hide_output_from_viewers":false,
     "node_id":"rXw22pmNRCoi7cqNDaIC47"
    }
   }
  },
  {
   "cell_type":"code",
   "source":[
    "def get_qr_reflection_decomposition(matrix):\n",
    "    dim = matrix.shape[0]\n",
    "\n",
    "    q = np.eye(dim)\n",
    "    r = matrix.copy()\n",
    "\n",
    "    for i in range(dim):\n",
    "        x = r[:, i].copy()\n",
    "        x[:i] = np.zeros(i)\n",
    "\n",
    "        alpha = linalg.norm(x) if x[i] > 0 else -linalg.norm(x)\n",
    "\n",
    "        e = np.zeros(dim)\n",
    "        e[i] = 1\n",
    "\n",
    "        u = x + alpha * e\n",
    "        v = u \/ linalg.norm(u)\n",
    "\n",
    "        current_q = np.eye(dim) - 2 * np.outer(v, v)\n",
    "\n",
    "        q = q.dot(current_q)\n",
    "        r = current_q.dot(r)\n",
    "\n",
    "    return q, r"
   ],
   "execution_count":23,
   "outputs":[
    
   ],
   "metadata":{
    "datalore":{
     "type":"CODE",
     "hide_input_from_viewers":false,
     "hide_output_from_viewers":false,
     "node_id":"pYCoGdMkSxdz2fTZRLA7zC"
    }
   }
  },
  {
   "cell_type":"code",
   "source":[
    "def solve_using_qr_decomposition(q, r, right_part):\n",
    "    return sp.linalg.solve_triangular(r, q.T.dot(right_part), lower=False)"
   ],
   "execution_count":24,
   "outputs":[
    
   ],
   "metadata":{
    "datalore":{
     "type":"CODE",
     "hide_input_from_viewers":false,
     "hide_output_from_viewers":false,
     "node_id":"Zb9A3XTPRjkJh2U7Sz6Nxx"
    }
   }
  },
  {
   "cell_type":"code",
   "source":[
    "def run_benchmark(\n",
    "        matrix,\n",
    "        right_part,\n",
    "        expected_solution,\n",
    "        condition_number_type: ConditionNumberType = ConditionNumberType.AngleCondition,\n",
    "        solution_type: SolutionType = SolutionType.LUDecomposition\n",
    "):\n",
    "    decompose = {\n",
    "        SolutionType.LUDecomposition: get_lup_decomposition,\n",
    "        SolutionType.QRReflectionDecomposition: get_qr_reflection_decomposition,\n",
    "        SolutionType.QRRotationDecomposition: get_qr_rotation_decomposition,\n",
    "    }\n",
    "\n",
    "    if solution_type == SolutionType.LUDecomposition:\n",
    "        p, first, second = get_lup_decomposition(matrix)\n",
    "    else:\n",
    "        first, second = decompose[solution_type](matrix)\n",
    "\n",
    "    matrix_condition_number = calculate_condition_number(condition_number_type, matrix)\n",
    "    first_condition_number = calculate_condition_number(condition_number_type, first)\n",
    "    second_condition_number = calculate_condition_number(condition_number_type, second)\n",
    "\n",
    "    if solution_type == solution_type.LUDecomposition:\n",
    "        actual_solution = solve_using_lu_decompostion(first, second, (np.linalg.inv(p)).dot(right_part))\n",
    "    else:\n",
    "        actual_solution = solve_using_qr_decomposition(first, second, right_part)\n",
    "\n",
    "    return pd.Series(\n",
    "        [\n",
    "            matrix_condition_number,\n",
    "            first_condition_number,\n",
    "            second_condition_number,\n",
    "            linalg.norm(expected_solution - actual_solution),\n",
    "        ]\n",
    "    )"
   ],
   "execution_count":25,
   "outputs":[
    
   ],
   "metadata":{
    "datalore":{
     "type":"CODE",
     "hide_input_from_viewers":false,
     "hide_output_from_viewers":false,
     "node_id":"FRBTKl7yl3LWDBOygJpV5p"
    }
   }
  },
  {
   "cell_type":"markdown",
   "source":[
    "# Хорошие примеры из Пакулиной"
   ],
   "attachments":{
    
   },
   "metadata":{
    "datalore":{
     "type":"MD",
     "hide_input_from_viewers":false,
     "hide_output_from_viewers":false,
     "node_id":"Aia8kO1HxGMjVvvkWmiYiq"
    }
   }
  },
  {
   "cell_type":"code",
   "source":[
    "def get_pakulina_1_linear_system():\n",
    "    matrix = np.array([\n",
    "        [3.278164, 1.046583, -1.378574],\n",
    "        [1.046583, 2.975937, 0.934251],\n",
    "        [-1.378574, 0.934251, 4.836173],\n",
    "    ])\n",
    "    solution = np.ones(3)\n",
    "    right_part = matrix.dot(solution)\n",
    "    return matrix, right_part, solution"
   ],
   "execution_count":26,
   "outputs":[
    
   ],
   "metadata":{
    "datalore":{
     "type":"CODE",
     "hide_input_from_viewers":false,
     "hide_output_from_viewers":false,
     "node_id":"697ZZvDkigSd04PJsJoQcT"
    }
   }
  },
  {
   "cell_type":"code",
   "source":[
    "def get_pakulina_6_linear_system():\n",
    "    matrix = np.array([\n",
    "        [9.016024, 1.082197, 2.783575],\n",
    "        [1.08219, 6.846595, 0.647647],\n",
    "        [-2.78357, 0.647647, 5.432541],\n",
    "    ])\n",
    "    solution = np.ones(3)\n",
    "    right_part = matrix.dot(solution)\n",
    "    return matrix, right_part, solution"
   ],
   "execution_count":28,
   "outputs":[
    
   ],
   "metadata":{
    "datalore":{
     "type":"CODE",
     "hide_input_from_viewers":false,
     "hide_output_from_viewers":false,
     "node_id":"hJG5L8yCvKJYiXSES4TjNx"
    }
   }
  },
  {
   "cell_type":"code",
   "source":[
    "def get_pakulina_11_linear_system():\n",
    "    matrix = np.array([\n",
    "        [6.687233, 0.80267, 2.06459],\n",
    "        [0.8026, 5.07816, 0.48037],\n",
    "        [-2.06459, 0.48037, 4.02934],\n",
    "    ])\n",
    "    solution = np.ones(3)\n",
    "    right_part = matrix.dot(solution)\n",
    "    return matrix, right_part, solution"
   ],
   "execution_count":29,
   "outputs":[
    
   ],
   "metadata":{
    "datalore":{
     "type":"CODE",
     "hide_input_from_viewers":false,
     "hide_output_from_viewers":false,
     "node_id":"VoEEKC6dYTTz8etC73XCdH"
    }
   }
  },
  {
   "cell_type":"code",
   "source":[
    "good_data = pd.DataFrame.from_dict({\n",
    "    1: run_benchmark(*get_pakulina_1_linear_system()),\n",
    "    6: run_benchmark(*get_pakulina_6_linear_system()),\n",
    "    11: run_benchmark(*get_pakulina_11_linear_system()),\n",
    "}, orient='index')\n",
    "good_data.columns = [matrix_a_condition_name, matrix_l_condition_name, matrix_u_condition_name, error_column_name]\n",
    "good_data"
   ],
   "execution_count":30,
   "outputs":[
    {
     "data":{
      "text\/html":[
       "<div>\n",
       "<style scoped>\n",
       "    .dataframe tbody tr th:only-of-type {\n",
       "        vertical-align: middle;\n",
       "    }\n",
       "\n",
       "    .dataframe tbody tr th {\n",
       "        vertical-align: top;\n",
       "    }\n",
       "\n",
       "    .dataframe thead th {\n",
       "        text-align: right;\n",
       "    }\n",
       "<\/style>\n",
       "<table border=\"1\" class=\"dataframe\">\n",
       "  <thead>\n",
       "    <tr style=\"text-align: right;\">\n",
       "      <th><\/th>\n",
       "      <th>cond(A)<\/th>\n",
       "      <th>cond(L)<\/th>\n",
       "      <th>cond(U)<\/th>\n",
       "      <th>lu_error<\/th>\n",
       "    <\/tr>\n",
       "  <\/thead>\n",
       "  <tbody>\n",
       "    <tr>\n",
       "      <th>1<\/th>\n",
       "      <td>1.906892<\/td>\n",
       "      <td>1.203120<\/td>\n",
       "      <td>1.270739<\/td>\n",
       "      <td>7.447602e-16<\/td>\n",
       "    <\/tr>\n",
       "    <tr>\n",
       "      <th>6<\/th>\n",
       "      <td>1.065856<\/td>\n",
       "      <td>1.058710<\/td>\n",
       "      <td>1.053435<\/td>\n",
       "      <td>3.330669e-16<\/td>\n",
       "    <\/tr>\n",
       "    <tr>\n",
       "      <th>11<\/th>\n",
       "      <td>1.065853<\/td>\n",
       "      <td>1.058708<\/td>\n",
       "      <td>1.053435<\/td>\n",
       "      <td>2.220446e-16<\/td>\n",
       "    <\/tr>\n",
       "  <\/tbody>\n",
       "<\/table>\n",
       "<\/div>"
      ]
     },
     "metadata":{
      
     },
     "output_type":"display_data"
    }
   ],
   "metadata":{
    "datalore":{
     "type":"CODE",
     "hide_input_from_viewers":false,
     "hide_output_from_viewers":false,
     "node_id":"ODDk242gHqEueNgSg5mRRj"
    }
   }
  },
  {
   "cell_type":"code",
   "source":[
    "solution_type = SolutionType.QRReflectionDecomposition\n",
    "good_data = pd.DataFrame.from_dict({\n",
    "    1: run_benchmark(*get_pakulina_1_linear_system(), solution_type=solution_type),\n",
    "    6: run_benchmark(*get_pakulina_6_linear_system(), solution_type=solution_type),\n",
    "    11: run_benchmark(*get_pakulina_11_linear_system(), solution_type=solution_type),\n",
    "}, orient='index')\n",
    "good_data.columns = [matrix_a_condition_name, \"cond(Q)\", \"cond(R)\", qr_error_column_name]\n",
    "good_data"
   ],
   "execution_count":31,
   "outputs":[
    {
     "data":{
      "text\/html":[
       "<div>\n",
       "<style scoped>\n",
       "    .dataframe tbody tr th:only-of-type {\n",
       "        vertical-align: middle;\n",
       "    }\n",
       "\n",
       "    .dataframe tbody tr th {\n",
       "        vertical-align: top;\n",
       "    }\n",
       "\n",
       "    .dataframe thead th {\n",
       "        text-align: right;\n",
       "    }\n",
       "<\/style>\n",
       "<table border=\"1\" class=\"dataframe\">\n",
       "  <thead>\n",
       "    <tr style=\"text-align: right;\">\n",
       "      <th><\/th>\n",
       "      <th>cond(A)<\/th>\n",
       "      <th>cond(Q)<\/th>\n",
       "      <th>cond(R)<\/th>\n",
       "      <th>qr_error<\/th>\n",
       "    <\/tr>\n",
       "  <\/thead>\n",
       "  <tbody>\n",
       "    <tr>\n",
       "      <th>1<\/th>\n",
       "      <td>1.906892<\/td>\n",
       "      <td>1.0<\/td>\n",
       "      <td>1.894137<\/td>\n",
       "      <td>6.661338e-16<\/td>\n",
       "    <\/tr>\n",
       "    <tr>\n",
       "      <th>6<\/th>\n",
       "      <td>1.065856<\/td>\n",
       "      <td>1.0<\/td>\n",
       "      <td>1.034388<\/td>\n",
       "      <td>6.280370e-16<\/td>\n",
       "    <\/tr>\n",
       "    <tr>\n",
       "      <th>11<\/th>\n",
       "      <td>1.065853<\/td>\n",
       "      <td>1.0<\/td>\n",
       "      <td>1.034387<\/td>\n",
       "      <td>3.140185e-16<\/td>\n",
       "    <\/tr>\n",
       "  <\/tbody>\n",
       "<\/table>\n",
       "<\/div>"
      ]
     },
     "metadata":{
      
     },
     "output_type":"display_data"
    }
   ],
   "metadata":{
    "datalore":{
     "type":"CODE",
     "hide_input_from_viewers":false,
     "hide_output_from_viewers":false,
     "node_id":"qjKO2CsdpJyNWwY50QC1RE"
    }
   }
  },
  {
   "cell_type":"code",
   "source":[
    "solution_type = SolutionType.QRRotationDecomposition\n",
    "good_data = pd.DataFrame.from_dict({\n",
    "    1: run_benchmark(*get_pakulina_1_linear_system(), solution_type=solution_type),\n",
    "    6: run_benchmark(*get_pakulina_6_linear_system(), solution_type=solution_type),\n",
    "    11: run_benchmark(*get_pakulina_11_linear_system(), solution_type=solution_type),\n",
    "}, orient='index')\n",
    "good_data.columns = [matrix_a_condition_name, \"cond(Q)\", \"cond(R)\", qr_error_column_name]\n",
    "good_data"
   ],
   "execution_count":38,
   "outputs":[
    {
     "data":{
      "text\/html":[
       "<div>\n",
       "<style scoped>\n",
       "    .dataframe tbody tr th:only-of-type {\n",
       "        vertical-align: middle;\n",
       "    }\n",
       "\n",
       "    .dataframe tbody tr th {\n",
       "        vertical-align: top;\n",
       "    }\n",
       "\n",
       "    .dataframe thead th {\n",
       "        text-align: right;\n",
       "    }\n",
       "<\/style>\n",
       "<table border=\"1\" class=\"dataframe\">\n",
       "  <thead>\n",
       "    <tr style=\"text-align: right;\">\n",
       "      <th><\/th>\n",
       "      <th>cond(A)<\/th>\n",
       "      <th>cond(Q)<\/th>\n",
       "      <th>cond(R)<\/th>\n",
       "      <th>qr_error<\/th>\n",
       "    <\/tr>\n",
       "  <\/thead>\n",
       "  <tbody>\n",
       "    <tr>\n",
       "      <th>1<\/th>\n",
       "      <td>1.906892<\/td>\n",
       "      <td>1.0<\/td>\n",
       "      <td>1.894137<\/td>\n",
       "      <td>4.577567e-16<\/td>\n",
       "    <\/tr>\n",
       "    <tr>\n",
       "      <th>6<\/th>\n",
       "      <td>1.065856<\/td>\n",
       "      <td>1.0<\/td>\n",
       "      <td>1.034388<\/td>\n",
       "      <td>4.965068e-16<\/td>\n",
       "    <\/tr>\n",
       "    <tr>\n",
       "      <th>11<\/th>\n",
       "      <td>1.065853<\/td>\n",
       "      <td>1.0<\/td>\n",
       "      <td>1.034387<\/td>\n",
       "      <td>3.330669e-16<\/td>\n",
       "    <\/tr>\n",
       "  <\/tbody>\n",
       "<\/table>\n",
       "<\/div>"
      ]
     },
     "metadata":{
      
     },
     "output_type":"display_data"
    }
   ],
   "metadata":{
    "datalore":{
     "type":"CODE",
     "hide_input_from_viewers":false,
     "hide_output_from_viewers":false,
     "node_id":"WhW7g1OMJJhxJv6I1tK4Kx"
    }
   }
  },
  {
   "cell_type":"markdown",
   "source":[
    "# Плохие примеры (матрица Гильберта)"
   ],
   "attachments":{
    
   },
   "metadata":{
    "datalore":{
     "type":"MD",
     "hide_input_from_viewers":false,
     "hide_output_from_viewers":false,
     "node_id":"VnAk9Gu4x3myWVYTFtQf6T"
    }
   }
  },
  {
   "cell_type":"code",
   "source":[
    "def get_hilbert_linear_system(size, expected_solution=None):\n",
    "    matrix = np.around(generate_matrix(lambda row, column: 1 \/ (row + column - 1), size), 10)\n",
    "    \n",
    "    expected_solution = expected_solution if expected_solution is not None else np.ones(size)\n",
    "    right_part = np.dot(matrix, expected_solution)\n",
    "\n",
    "    return matrix, right_part, expected_solution"
   ],
   "execution_count":49,
   "outputs":[
    
   ],
   "metadata":{
    "datalore":{
     "type":"CODE",
     "hide_input_from_viewers":false,
     "hide_output_from_viewers":false,
     "node_id":"wGEWaDAdYICsAhPNIDRiWL"
    }
   }
  },
  {
   "cell_type":"code",
   "source":[
    "lu_hilbert_data = pd.DataFrame(range(2, 100), columns=[matrix_size_name])\n",
    "lu_hilbert_data[\n",
    "    [matrix_a_condition_name, matrix_l_condition_name, matrix_u_condition_name, error_column_name]\n",
    "] = lu_hilbert_data.apply(\n",
    "    lambda row: run_benchmark(*get_hilbert_linear_system(row[matrix_size_name])),\n",
    "    axis=1,\n",
    ")\n",
    "lu_hilbert_data.sort_values(by=error_column_name, ascending=False)"
   ],
   "execution_count":50,
   "outputs":[
    {
     "data":{
      "text\/html":[
       "<div>\n",
       "<style scoped>\n",
       "    .dataframe tbody tr th:only-of-type {\n",
       "        vertical-align: middle;\n",
       "    }\n",
       "\n",
       "    .dataframe tbody tr th {\n",
       "        vertical-align: top;\n",
       "    }\n",
       "\n",
       "    .dataframe thead th {\n",
       "        text-align: right;\n",
       "    }\n",
       "<\/style>\n",
       "<table border=\"1\" class=\"dataframe\">\n",
       "  <thead>\n",
       "    <tr style=\"text-align: right;\">\n",
       "      <th><\/th>\n",
       "      <th>matrix_size<\/th>\n",
       "      <th>cond(A)<\/th>\n",
       "      <th>cond(L)<\/th>\n",
       "      <th>cond(U)<\/th>\n",
       "      <th>lu_error<\/th>\n",
       "    <\/tr>\n",
       "  <\/thead>\n",
       "  <tbody>\n",
       "    <tr>\n",
       "      <th>69<\/th>\n",
       "      <td>71<\/td>\n",
       "      <td>2.727659e+13<\/td>\n",
       "      <td>11.851698<\/td>\n",
       "      <td>9.396397e+05<\/td>\n",
       "      <td>3.134550e-02<\/td>\n",
       "    <\/tr>\n",
       "    <tr>\n",
       "      <th>80<\/th>\n",
       "      <td>82<\/td>\n",
       "      <td>1.297828e+11<\/td>\n",
       "      <td>13.062564<\/td>\n",
       "      <td>1.203102e+06<\/td>\n",
       "      <td>5.896167e-04<\/td>\n",
       "    <\/tr>\n",
       "    <tr>\n",
       "      <th>82<\/th>\n",
       "      <td>84<\/td>\n",
       "      <td>3.416746e+11<\/td>\n",
       "      <td>12.410363<\/td>\n",
       "      <td>1.260514e+06<\/td>\n",
       "      <td>5.302875e-04<\/td>\n",
       "    <\/tr>\n",
       "    <tr>\n",
       "      <th>26<\/th>\n",
       "      <td>28<\/td>\n",
       "      <td>1.860718e+11<\/td>\n",
       "      <td>6.516365<\/td>\n",
       "      <td>3.425235e+04<\/td>\n",
       "      <td>4.357577e-04<\/td>\n",
       "    <\/tr>\n",
       "    <tr>\n",
       "      <th>25<\/th>\n",
       "      <td>27<\/td>\n",
       "      <td>1.731782e+11<\/td>\n",
       "      <td>6.228150<\/td>\n",
       "      <td>3.036746e+04<\/td>\n",
       "      <td>3.500657e-04<\/td>\n",
       "    <\/tr>\n",
       "    <tr>\n",
       "      <th>...<\/th>\n",
       "      <td>...<\/td>\n",
       "      <td>...<\/td>\n",
       "      <td>...<\/td>\n",
       "      <td>...<\/td>\n",
       "      <td>...<\/td>\n",
       "    <\/tr>\n",
       "    <tr>\n",
       "      <th>4<\/th>\n",
       "      <td>6<\/td>\n",
       "      <td>2.441337e+06<\/td>\n",
       "      <td>2.388348<\/td>\n",
       "      <td>7.774785e+00<\/td>\n",
       "      <td>8.558862e-10<\/td>\n",
       "    <\/tr>\n",
       "    <tr>\n",
       "      <th>3<\/th>\n",
       "      <td>5<\/td>\n",
       "      <td>9.515739e+04<\/td>\n",
       "      <td>2.438588<\/td>\n",
       "      <td>4.304053e+00<\/td>\n",
       "      <td>1.507071e-13<\/td>\n",
       "    <\/tr>\n",
       "    <tr>\n",
       "      <th>1<\/th>\n",
       "      <td>3<\/td>\n",
       "      <td>1.728872e+02<\/td>\n",
       "      <td>1.500000<\/td>\n",
       "      <td>1.634693e+00<\/td>\n",
       "      <td>1.389554e-14<\/td>\n",
       "    <\/tr>\n",
       "    <tr>\n",
       "      <th>2<\/th>\n",
       "      <td>4<\/td>\n",
       "      <td>4.020914e+03<\/td>\n",
       "      <td>2.173067<\/td>\n",
       "      <td>2.660409e+00<\/td>\n",
       "      <td>9.452556e-15<\/td>\n",
       "    <\/tr>\n",
       "    <tr>\n",
       "      <th>0<\/th>\n",
       "      <td>2<\/td>\n",
       "      <td>8.062258e+00<\/td>\n",
       "      <td>1.118034<\/td>\n",
       "      <td>1.118034e+00<\/td>\n",
       "      <td>8.005932e-16<\/td>\n",
       "    <\/tr>\n",
       "  <\/tbody>\n",
       "<\/table>\n",
       "<p>98 rows × 5 columns<\/p>\n",
       "<\/div>"
      ]
     },
     "metadata":{
      
     },
     "output_type":"display_data"
    }
   ],
   "metadata":{
    "datalore":{
     "type":"CODE",
     "hide_input_from_viewers":false,
     "hide_output_from_viewers":false,
     "node_id":"HkpAx8x1seiwsY2GoMHhKq"
    }
   }
  },
  {
   "cell_type":"code",
   "source":[
    "qr_rotate_hilbert_data = pd.DataFrame(range(2, 100), columns=[matrix_size_name])\n",
    "qr_rotate_hilbert_data[\n",
    "    [matrix_a_condition_name, \"cond(q)\", \"cond(r)\", \"qr_rotate_error\"]\n",
    "] = qr_rotate_hilbert_data.apply(\n",
    "    lambda row: run_benchmark(*get_hilbert_linear_system(row[matrix_size_name]), solution_type=SolutionType.QRRotationDecomposition),\n",
    "    axis=1,\n",
    ")\n",
    "qr_rotate_hilbert_data.sort_values(by=\"qr_rotate_error\", ascending=False)"
   ],
   "execution_count":52,
   "outputs":[
    {
     "data":{
      "text\/html":[
       "<div>\n",
       "<style scoped>\n",
       "    .dataframe tbody tr th:only-of-type {\n",
       "        vertical-align: middle;\n",
       "    }\n",
       "\n",
       "    .dataframe tbody tr th {\n",
       "        vertical-align: top;\n",
       "    }\n",
       "\n",
       "    .dataframe thead th {\n",
       "        text-align: right;\n",
       "    }\n",
       "<\/style>\n",
       "<table border=\"1\" class=\"dataframe\">\n",
       "  <thead>\n",
       "    <tr style=\"text-align: right;\">\n",
       "      <th><\/th>\n",
       "      <th>matrix_size<\/th>\n",
       "      <th>cond(A)<\/th>\n",
       "      <th>cond(q)<\/th>\n",
       "      <th>cond(r)<\/th>\n",
       "      <th>qr_rotate_error<\/th>\n",
       "    <\/tr>\n",
       "  <\/thead>\n",
       "  <tbody>\n",
       "    <tr>\n",
       "      <th>97<\/th>\n",
       "      <td>99<\/td>\n",
       "      <td>6.349683e+09<\/td>\n",
       "      <td>1.0<\/td>\n",
       "      <td>8.357166e+06<\/td>\n",
       "      <td>4.795930e+03<\/td>\n",
       "    <\/tr>\n",
       "    <tr>\n",
       "      <th>96<\/th>\n",
       "      <td>98<\/td>\n",
       "      <td>7.069957e+09<\/td>\n",
       "      <td>1.0<\/td>\n",
       "      <td>7.901752e+06<\/td>\n",
       "      <td>4.657596e+03<\/td>\n",
       "    <\/tr>\n",
       "    <tr>\n",
       "      <th>95<\/th>\n",
       "      <td>97<\/td>\n",
       "      <td>9.308828e+10<\/td>\n",
       "      <td>1.0<\/td>\n",
       "      <td>4.866125e+07<\/td>\n",
       "      <td>4.285934e+03<\/td>\n",
       "    <\/tr>\n",
       "    <tr>\n",
       "      <th>81<\/th>\n",
       "      <td>83<\/td>\n",
       "      <td>3.574778e+11<\/td>\n",
       "      <td>1.0<\/td>\n",
       "      <td>3.065952e+08<\/td>\n",
       "      <td>3.160005e+03<\/td>\n",
       "    <\/tr>\n",
       "    <tr>\n",
       "      <th>83<\/th>\n",
       "      <td>85<\/td>\n",
       "      <td>1.888802e+10<\/td>\n",
       "      <td>1.0<\/td>\n",
       "      <td>1.344227e+07<\/td>\n",
       "      <td>3.043017e+03<\/td>\n",
       "    <\/tr>\n",
       "    <tr>\n",
       "      <th>...<\/th>\n",
       "      <td>...<\/td>\n",
       "      <td>...<\/td>\n",
       "      <td>...<\/td>\n",
       "      <td>...<\/td>\n",
       "      <td>...<\/td>\n",
       "    <\/tr>\n",
       "    <tr>\n",
       "      <th>4<\/th>\n",
       "      <td>6<\/td>\n",
       "      <td>2.441337e+06<\/td>\n",
       "      <td>1.0<\/td>\n",
       "      <td>7.494749e+00<\/td>\n",
       "      <td>6.454775e-11<\/td>\n",
       "    <\/tr>\n",
       "    <tr>\n",
       "      <th>3<\/th>\n",
       "      <td>5<\/td>\n",
       "      <td>9.515739e+04<\/td>\n",
       "      <td>1.0<\/td>\n",
       "      <td>4.486153e+00<\/td>\n",
       "      <td>3.642108e-11<\/td>\n",
       "    <\/tr>\n",
       "    <tr>\n",
       "      <th>2<\/th>\n",
       "      <td>4<\/td>\n",
       "      <td>4.020914e+03<\/td>\n",
       "      <td>1.0<\/td>\n",
       "      <td>2.697358e+00<\/td>\n",
       "      <td>5.998854e-13<\/td>\n",
       "    <\/tr>\n",
       "    <tr>\n",
       "      <th>1<\/th>\n",
       "      <td>3<\/td>\n",
       "      <td>1.728872e+02<\/td>\n",
       "      <td>1.0<\/td>\n",
       "      <td>1.643704e+00<\/td>\n",
       "      <td>5.925929e-15<\/td>\n",
       "    <\/tr>\n",
       "    <tr>\n",
       "      <th>0<\/th>\n",
       "      <td>2<\/td>\n",
       "      <td>8.062258e+00<\/td>\n",
       "      <td>1.0<\/td>\n",
       "      <td>1.133333e+00<\/td>\n",
       "      <td>1.887379e-15<\/td>\n",
       "    <\/tr>\n",
       "  <\/tbody>\n",
       "<\/table>\n",
       "<p>98 rows × 5 columns<\/p>\n",
       "<\/div>"
      ]
     },
     "metadata":{
      
     },
     "output_type":"display_data"
    }
   ],
   "metadata":{
    "datalore":{
     "type":"CODE",
     "hide_input_from_viewers":false,
     "hide_output_from_viewers":false,
     "node_id":"coM40yMXzNgZuDEQoYiHDA"
    }
   }
  },
  {
   "cell_type":"code",
   "source":[
    "qr_reflect_hilbert_data = pd.DataFrame(range(2, 100), columns=[matrix_size_name])\n",
    "qr_reflect_hilbert_data[\n",
    "    [matrix_a_condition_name, \"cond(q)\", \"cond(r)\", \"qr_reflect_error\"]\n",
    "] = qr_reflect_hilbert_data.apply(\n",
    "    lambda row: run_benchmark(*get_hilbert_linear_system(row[matrix_size_name]), solution_type=SolutionType.QRReflectionDecomposition),\n",
    "    axis=1,\n",
    ")\n",
    "qr_reflect_hilbert_data.sort_values(by=\"qr_reflect_error\", ascending=False)"
   ],
   "execution_count":53,
   "outputs":[
    {
     "data":{
      "text\/html":[
       "<div>\n",
       "<style scoped>\n",
       "    .dataframe tbody tr th:only-of-type {\n",
       "        vertical-align: middle;\n",
       "    }\n",
       "\n",
       "    .dataframe tbody tr th {\n",
       "        vertical-align: top;\n",
       "    }\n",
       "\n",
       "    .dataframe thead th {\n",
       "        text-align: right;\n",
       "    }\n",
       "<\/style>\n",
       "<table border=\"1\" class=\"dataframe\">\n",
       "  <thead>\n",
       "    <tr style=\"text-align: right;\">\n",
       "      <th><\/th>\n",
       "      <th>matrix_size<\/th>\n",
       "      <th>cond(A)<\/th>\n",
       "      <th>cond(q)<\/th>\n",
       "      <th>cond(r)<\/th>\n",
       "      <th>qr_reflect_error<\/th>\n",
       "    <\/tr>\n",
       "  <\/thead>\n",
       "  <tbody>\n",
       "    <tr>\n",
       "      <th>69<\/th>\n",
       "      <td>71<\/td>\n",
       "      <td>2.727659e+13<\/td>\n",
       "      <td>1.0<\/td>\n",
       "      <td>8.397454e+05<\/td>\n",
       "      <td>3.265125e-01<\/td>\n",
       "    <\/tr>\n",
       "    <tr>\n",
       "      <th>82<\/th>\n",
       "      <td>84<\/td>\n",
       "      <td>3.416746e+11<\/td>\n",
       "      <td>1.0<\/td>\n",
       "      <td>1.440483e+06<\/td>\n",
       "      <td>3.540437e-02<\/td>\n",
       "    <\/tr>\n",
       "    <tr>\n",
       "      <th>81<\/th>\n",
       "      <td>83<\/td>\n",
       "      <td>3.574778e+11<\/td>\n",
       "      <td>1.0<\/td>\n",
       "      <td>1.362096e+06<\/td>\n",
       "      <td>1.776514e-02<\/td>\n",
       "    <\/tr>\n",
       "    <tr>\n",
       "      <th>56<\/th>\n",
       "      <td>58<\/td>\n",
       "      <td>1.939232e+11<\/td>\n",
       "      <td>1.0<\/td>\n",
       "      <td>4.658738e+05<\/td>\n",
       "      <td>4.689131e-03<\/td>\n",
       "    <\/tr>\n",
       "    <tr>\n",
       "      <th>95<\/th>\n",
       "      <td>97<\/td>\n",
       "      <td>9.308828e+10<\/td>\n",
       "      <td>1.0<\/td>\n",
       "      <td>2.161456e+06<\/td>\n",
       "      <td>4.018761e-03<\/td>\n",
       "    <\/tr>\n",
       "    <tr>\n",
       "      <th>...<\/th>\n",
       "      <td>...<\/td>\n",
       "      <td>...<\/td>\n",
       "      <td>...<\/td>\n",
       "      <td>...<\/td>\n",
       "      <td>...<\/td>\n",
       "    <\/tr>\n",
       "    <tr>\n",
       "      <th>4<\/th>\n",
       "      <td>6<\/td>\n",
       "      <td>2.441337e+06<\/td>\n",
       "      <td>1.0<\/td>\n",
       "      <td>7.494749e+00<\/td>\n",
       "      <td>1.726090e-09<\/td>\n",
       "    <\/tr>\n",
       "    <tr>\n",
       "      <th>3<\/th>\n",
       "      <td>5<\/td>\n",
       "      <td>9.515739e+04<\/td>\n",
       "      <td>1.0<\/td>\n",
       "      <td>4.486153e+00<\/td>\n",
       "      <td>5.660460e-12<\/td>\n",
       "    <\/tr>\n",
       "    <tr>\n",
       "      <th>2<\/th>\n",
       "      <td>4<\/td>\n",
       "      <td>4.020914e+03<\/td>\n",
       "      <td>1.0<\/td>\n",
       "      <td>2.697358e+00<\/td>\n",
       "      <td>4.121533e-13<\/td>\n",
       "    <\/tr>\n",
       "    <tr>\n",
       "      <th>1<\/th>\n",
       "      <td>3<\/td>\n",
       "      <td>1.728872e+02<\/td>\n",
       "      <td>1.0<\/td>\n",
       "      <td>1.643704e+00<\/td>\n",
       "      <td>4.401163e-14<\/td>\n",
       "    <\/tr>\n",
       "    <tr>\n",
       "      <th>0<\/th>\n",
       "      <td>2<\/td>\n",
       "      <td>8.062258e+00<\/td>\n",
       "      <td>1.0<\/td>\n",
       "      <td>1.133333e+00<\/td>\n",
       "      <td>1.887379e-15<\/td>\n",
       "    <\/tr>\n",
       "  <\/tbody>\n",
       "<\/table>\n",
       "<p>98 rows × 5 columns<\/p>\n",
       "<\/div>"
      ]
     },
     "metadata":{
      
     },
     "output_type":"display_data"
    }
   ],
   "metadata":{
    "datalore":{
     "type":"CODE",
     "hide_input_from_viewers":false,
     "hide_output_from_viewers":false,
     "node_id":"7P55IOOmYJsBCYZeXPQQYl"
    }
   }
  },
  {
   "cell_type":"code",
   "source":[
    "draw_compare_plot_for_size_and_error(\n",
    "    [lu_hilbert_data, qr_reflect_hilbert_data, qr_rotate_hilbert_data], \n",
    "    [error_column_name, \"qr_reflect_error\", \"qr_rotate_error\"],\n",
    ")"
   ],
   "execution_count":59,
   "outputs":[
    {
     "data":{
      "application\/vnd.plotly.v1+json":{
       "data":[
        {
         "name":"lu_error",
         "x":[
          2,
          3,
          4,
          5,
          6,
          7,
          8,
          9,
          10,
          11,
          12,
          13,
          14,
          15,
          16,
          17,
          18,
          19,
          20,
          21,
          22,
          23,
          24,
          25,
          26,
          27,
          28,
          29,
          30,
          31,
          32,
          33,
          34,
          35,
          36,
          37,
          38,
          39,
          40,
          41,
          42,
          43,
          44,
          45,
          46,
          47,
          48,
          49,
          50,
          51,
          52,
          53,
          54,
          55,
          56,
          57,
          58,
          59,
          60,
          61,
          62,
          63,
          64,
          65,
          66,
          67,
          68,
          69,
          70,
          71,
          72,
          73,
          74,
          75,
          76,
          77,
          78,
          79,
          80,
          81,
          82,
          83,
          84,
          85,
          86,
          87,
          88,
          89,
          90,
          91,
          92,
          93,
          94,
          95,
          96,
          97,
          98,
          99
         ],
         "y":[
          8.005932084973442E-16,
          1.389554002205336E-14,
          9.452556451453949E-15,
          1.507070812474943E-13,
          8.558862344907409E-10,
          9.051221565108617E-9,
          4.648178696035464E-7,
          8.102901979146047E-7,
          9.653967625337116E-6,
          2.411911288390171E-6,
          3.6816217864414424E-5,
          1.7338391273001158E-6,
          2.8064516027385764E-6,
          3.896777838055607E-6,
          2.2232138335210865E-6,
          3.1738591298173623E-6,
          3.285459891285063E-6,
          5.1399089594097414E-5,
          6.861497169697093E-6,
          1.0552500257194659E-5,
          2.6751378248843837E-6,
          5.321095940804045E-6,
          8.00670222460286E-6,
          8.394310871522422E-6,
          2.566676010924944E-5,
          3.500656922530419E-4,
          4.3575773668756565E-4,
          2.1766504962180143E-4,
          6.318874131171082E-5,
          1.6976685623166898E-5,
          7.6012570193742E-6,
          1.27823550515324E-5,
          2.1626035722974593E-5,
          2.812202997867388E-5,
          9.89916521980676E-6,
          4.670818303867763E-5,
          8.218272135854108E-5,
          1.660347350217108E-5,
          2.4367513492200612E-5,
          2.022863976176002E-5,
          2.467515540785154E-5,
          2.2406901336218202E-5,
          1.4677248379769875E-5,
          1.5484293541616632E-5,
          6.022700397045149E-5,
          1.8526861192427563E-5,
          1.0267488965830928E-5,
          1.3766688165098653E-5,
          2.985813840432007E-5,
          1.7232972153906123E-5,
          9.810318082236492E-6,
          1.4547813313968395E-5,
          1.0608458193586694E-5,
          1.0326787672243728E-5,
          1.6003879777825836E-5,
          1.3528064086142473E-5,
          1.6142027319696105E-4,
          1.2475406408567833E-5,
          1.561819528856055E-5,
          1.5907979607559498E-5,
          1.900709880728122E-5,
          2.46365990821446E-5,
          1.4589536090981372E-5,
          2.0978889399185317E-5,
          1.9720101655456572E-5,
          1.5716975845788246E-5,
          1.837463763469712E-5,
          1.4777516758918338E-5,
          1.7257742066737388E-5,
          0.03134550050479176,
          1.4042332452927547E-5,
          3.3568623893688334E-5,
          1.61603359478656E-5,
          1.460141702541592E-5,
          1.580485289077624E-5,
          1.2067423209811998E-4,
          1.5626380401657374E-5,
          3.4131450176994046E-5,
          1.9484920662956454E-5,
          1.784346281316322E-5,
          5.896166639037528E-4,
          2.005466512562713E-4,
          5.302875220242059E-4,
          4.396053074186803E-5,
          1.0608971258001464E-4,
          1.7291801580105637E-5,
          1.4980152082587423E-5,
          1.677408898683399E-5,
          1.3919660123593127E-5,
          1.4371579775511461E-5,
          1.0263361998599202E-5,
          3.364960773383591E-5,
          1.448632139178658E-5,
          1.3142019273950658E-5,
          1.250030389139692E-5,
          4.3519011230047424E-5,
          1.9314714196719636E-5,
          1.2687172153337144E-5
         ],
         "type":"scatter"
        },
        {
         "name":"qr_reflect_error",
         "x":[
          2,
          3,
          4,
          5,
          6,
          7,
          8,
          9,
          10,
          11,
          12,
          13,
          14,
          15,
          16,
          17,
          18,
          19,
          20,
          21,
          22,
          23,
          24,
          25,
          26,
          27,
          28,
          29,
          30,
          31,
          32,
          33,
          34,
          35,
          36,
          37,
          38,
          39,
          40,
          41,
          42,
          43,
          44,
          45,
          46,
          47,
          48,
          49,
          50,
          51,
          52,
          53,
          54,
          55,
          56,
          57,
          58,
          59,
          60,
          61,
          62,
          63,
          64,
          65,
          66,
          67,
          68,
          69,
          70,
          71,
          72,
          73,
          74,
          75,
          76,
          77,
          78,
          79,
          80,
          81,
          82,
          83,
          84,
          85,
          86,
          87,
          88,
          89,
          90,
          91,
          92,
          93,
          94,
          95,
          96,
          97,
          98,
          99
         ],
         "y":[
          1.887379141862766E-15,
          4.401162688275572E-14,
          4.1215326290597673E-13,
          5.660459900033813E-12,
          1.7260896076415667E-9,
          2.4762637753552745E-8,
          2.4045393529567775E-6,
          1.4244190152913593E-6,
          4.7424014645662774E-5,
          9.867452479480564E-6,
          2.265828464568747E-4,
          6.50408759587357E-6,
          1.0282855391830768E-5,
          1.0489745751005273E-5,
          1.4837277823476686E-5,
          1.1419471875672812E-5,
          1.4260712441924399E-5,
          6.649625123821091E-4,
          4.186990934286234E-5,
          5.3578948331004E-5,
          4.526135075207197E-5,
          1.3685720125186039E-4,
          5.7865479464897075E-5,
          6.148683111968761E-5,
          3.257268252879356E-4,
          7.052197641777677E-4,
          9.042223300743927E-4,
          9.58838436474683E-4,
          6.539786369807034E-4,
          5.843348716962081E-5,
          6.041652420942124E-5,
          8.837364332294493E-5,
          2.531212031456803E-4,
          1.8738827011603333E-4,
          6.099084482798582E-5,
          0.0010482048480441536,
          4.244073661748559E-4,
          2.4607687156111074E-4,
          9.235761711935209E-5,
          2.8277615923369154E-4,
          2.051309452797982E-4,
          1.2461630598641982E-4,
          3.1695541598380887E-4,
          1.4738220262952285E-4,
          1.1727875021225198E-4,
          0.003291130718867483,
          1.568185062613687E-4,
          1.4119212932510276E-4,
          2.2095890892460138E-4,
          2.3916251061259806E-4,
          1.3900197349694357E-4,
          1.1751893366800076E-4,
          1.3630115915845478E-4,
          1.0812275961639712E-4,
          1.8121650630907121E-4,
          1.53790579591523E-4,
          0.004689130586153973,
          2.536255454032384E-4,
          2.3052321940032574E-4,
          2.3096865865416763E-4,
          2.84362168684049E-4,
          2.3150768594235643E-4,
          2.990066103979558E-4,
          2.456914362412842E-4,
          2.5188830805801207E-4,
          3.037966303387594E-4,
          6.308821625906365E-4,
          0.00103852654298816,
          2.936550799578511E-4,
          0.3265124624553809,
          2.9832695679521415E-4,
          2.5039125317723285E-4,
          1.9091029377996295E-4,
          2.772627254035262E-4,
          2.690619973452614E-4,
          9.685674600264352E-4,
          3.776152662032395E-4,
          1.7637840081711996E-4,
          3.7888348010372576E-4,
          2.948976539041615E-4,
          0.0033084356002397106,
          0.017765136922289284,
          0.035404374856933395,
          0.0016752071224245028,
          0.0015141276718348726,
          2.9394303577953105E-4,
          2.7246059124285966E-4,
          0.00144700798323851,
          2.714992938274965E-4,
          2.3431330094669215E-4,
          2.1498787996428143E-4,
          2.9960354317501534E-4,
          3.5114814026301086E-4,
          1.9484325303270735E-4,
          2.314730256523499E-4,
          0.004018760997382734,
          2.3155609915934578E-4,
          3.528804070035844E-4
         ],
         "type":"scatter"
        },
        {
         "name":"qr_rotate_error",
         "x":[
          2,
          3,
          4,
          5,
          6,
          7,
          8,
          9,
          10,
          11,
          12,
          13,
          14,
          15,
          16,
          17,
          18,
          19,
          20,
          21,
          22,
          23,
          24,
          25,
          26,
          27,
          28,
          29,
          30,
          31,
          32,
          33,
          34,
          35,
          36,
          37,
          38,
          39,
          40,
          41,
          42,
          43,
          44,
          45,
          46,
          47,
          48,
          49,
          50,
          51,
          52,
          53,
          54,
          55,
          56,
          57,
          58,
          59,
          60,
          61,
          62,
          63,
          64,
          65,
          66,
          67,
          68,
          69,
          70,
          71,
          72,
          73,
          74,
          75,
          76,
          77,
          78,
          79,
          80,
          81,
          82,
          83,
          84,
          85,
          86,
          87,
          88,
          89,
          90,
          91,
          92,
          93,
          94,
          95,
          96,
          97,
          98,
          99
         ],
         "y":[
          1.887379141862766E-15,
          5.925929145204076E-15,
          5.998853799986361E-13,
          3.6421076095996445E-11,
          6.454775485872916E-11,
          4.193235011382059E-8,
          1.6061290692140256E-6,
          1.9984286176578452,
          2.1239265893521386,
          2.1940761298266565,
          2.5283068235740953,
          5.845997259117702,
          5.150577045826635,
          19.49805437223217,
          27.097163084618966,
          31.391843423979417,
          37.50991098298089,
          45.65639301838729,
          20.55030835681315,
          28.26820394229147,
          24.20436372610268,
          339.68667899437713,
          347.22471622314447,
          155.547493706314,
          175.75360344903135,
          186.03536532156718,
          200.23507490449373,
          474.8806781240233,
          312.37995892632273,
          255.7624985638973,
          247.9457022841573,
          279.49532770068936,
          265.3238769627241,
          312.75273162736676,
          245.4579645795699,
          112.8135379649518,
          110.0650378243854,
          41.314931460220095,
          69.65924834711508,
          92.50620462421088,
          37.2539116138146,
          87.58994892921659,
          74.13415660180296,
          41.69987382931726,
          39.16517130823653,
          56.25066775957101,
          56.063709758585325,
          41.05894241958996,
          50.45490428140857,
          445.2193745099157,
          382.55681564676166,
          761.9666581082473,
          986.6485655161779,
          960.2615281989407,
          910.7017654552985,
          868.6386992913068,
          852.4225048197712,
          711.5816952157539,
          660.0237319280649,
          725.841008363188,
          1032.5027661719728,
          1350.6483278012304,
          1380.051512283896,
          1433.7606246640248,
          1067.4694074008626,
          943.7208270025304,
          285.88996536491146,
          270.2289568010223,
          260.2242804557456,
          279.3839658118972,
          253.83022957720726,
          204.5484798039979,
          236.22345236510714,
          294.013309348771,
          215.07293041573814,
          316.130745283144,
          302.23697981743766,
          1240.6660231033316,
          1223.458661290108,
          1141.5793031317671,
          2530.1398914637407,
          3160.004522537985,
          2944.7533484297824,
          3043.016918568905,
          1713.4624829835846,
          1712.5140705213737,
          1826.968299201572,
          1911.3613156296633,
          1967.9151148241592,
          2333.6215885120255,
          2470.3224098721553,
          2488.9745375761445,
          2432.109854022141,
          2402.941766629051,
          2407.287752693955,
          4285.933596881746,
          4657.596005119329,
          4795.930213462606
         ],
         "type":"scatter"
        }
       ],
       "layout":{
        "template":{
         "data":{
          "bar":[
           {
            "error_x":{
             "color":"#2a3f5f"
            },
            "error_y":{
             "color":"#2a3f5f"
            },
            "marker":{
             "line":{
              "color":"#E5ECF6",
              "width":0.5
             },
             "pattern":{
              "fillmode":"overlay",
              "size":10,
              "solidity":0.2
             }
            },
            "type":"bar"
           }
          ],
          "barpolar":[
           {
            "marker":{
             "line":{
              "color":"#E5ECF6",
              "width":0.5
             },
             "pattern":{
              "fillmode":"overlay",
              "size":10,
              "solidity":0.2
             }
            },
            "type":"barpolar"
           }
          ],
          "carpet":[
           {
            "aaxis":{
             "endlinecolor":"#2a3f5f",
             "gridcolor":"white",
             "linecolor":"white",
             "minorgridcolor":"white",
             "startlinecolor":"#2a3f5f"
            },
            "baxis":{
             "endlinecolor":"#2a3f5f",
             "gridcolor":"white",
             "linecolor":"white",
             "minorgridcolor":"white",
             "startlinecolor":"#2a3f5f"
            },
            "type":"carpet"
           }
          ],
          "choropleth":[
           {
            "colorbar":{
             "outlinewidth":0,
             "ticks":""
            },
            "type":"choropleth"
           }
          ],
          "contour":[
           {
            "colorbar":{
             "outlinewidth":0,
             "ticks":""
            },
            "colorscale":[
             [
              0,
              "#0d0887"
             ],
             [
              0.1111111111111111,
              "#46039f"
             ],
             [
              0.2222222222222222,
              "#7201a8"
             ],
             [
              0.3333333333333333,
              "#9c179e"
             ],
             [
              0.4444444444444444,
              "#bd3786"
             ],
             [
              0.5555555555555556,
              "#d8576b"
             ],
             [
              0.6666666666666666,
              "#ed7953"
             ],
             [
              0.7777777777777778,
              "#fb9f3a"
             ],
             [
              0.8888888888888888,
              "#fdca26"
             ],
             [
              1,
              "#f0f921"
             ]
            ],
            "type":"contour"
           }
          ],
          "contourcarpet":[
           {
            "colorbar":{
             "outlinewidth":0,
             "ticks":""
            },
            "type":"contourcarpet"
           }
          ],
          "heatmap":[
           {
            "colorbar":{
             "outlinewidth":0,
             "ticks":""
            },
            "colorscale":[
             [
              0,
              "#0d0887"
             ],
             [
              0.1111111111111111,
              "#46039f"
             ],
             [
              0.2222222222222222,
              "#7201a8"
             ],
             [
              0.3333333333333333,
              "#9c179e"
             ],
             [
              0.4444444444444444,
              "#bd3786"
             ],
             [
              0.5555555555555556,
              "#d8576b"
             ],
             [
              0.6666666666666666,
              "#ed7953"
             ],
             [
              0.7777777777777778,
              "#fb9f3a"
             ],
             [
              0.8888888888888888,
              "#fdca26"
             ],
             [
              1,
              "#f0f921"
             ]
            ],
            "type":"heatmap"
           }
          ],
          "heatmapgl":[
           {
            "colorbar":{
             "outlinewidth":0,
             "ticks":""
            },
            "colorscale":[
             [
              0,
              "#0d0887"
             ],
             [
              0.1111111111111111,
              "#46039f"
             ],
             [
              0.2222222222222222,
              "#7201a8"
             ],
             [
              0.3333333333333333,
              "#9c179e"
             ],
             [
              0.4444444444444444,
              "#bd3786"
             ],
             [
              0.5555555555555556,
              "#d8576b"
             ],
             [
              0.6666666666666666,
              "#ed7953"
             ],
             [
              0.7777777777777778,
              "#fb9f3a"
             ],
             [
              0.8888888888888888,
              "#fdca26"
             ],
             [
              1,
              "#f0f921"
             ]
            ],
            "type":"heatmapgl"
           }
          ],
          "histogram":[
           {
            "marker":{
             "pattern":{
              "fillmode":"overlay",
              "size":10,
              "solidity":0.2
             }
            },
            "type":"histogram"
           }
          ],
          "histogram2d":[
           {
            "colorbar":{
             "outlinewidth":0,
             "ticks":""
            },
            "colorscale":[
             [
              0,
              "#0d0887"
             ],
             [
              0.1111111111111111,
              "#46039f"
             ],
             [
              0.2222222222222222,
              "#7201a8"
             ],
             [
              0.3333333333333333,
              "#9c179e"
             ],
             [
              0.4444444444444444,
              "#bd3786"
             ],
             [
              0.5555555555555556,
              "#d8576b"
             ],
             [
              0.6666666666666666,
              "#ed7953"
             ],
             [
              0.7777777777777778,
              "#fb9f3a"
             ],
             [
              0.8888888888888888,
              "#fdca26"
             ],
             [
              1,
              "#f0f921"
             ]
            ],
            "type":"histogram2d"
           }
          ],
          "histogram2dcontour":[
           {
            "colorbar":{
             "outlinewidth":0,
             "ticks":""
            },
            "colorscale":[
             [
              0,
              "#0d0887"
             ],
             [
              0.1111111111111111,
              "#46039f"
             ],
             [
              0.2222222222222222,
              "#7201a8"
             ],
             [
              0.3333333333333333,
              "#9c179e"
             ],
             [
              0.4444444444444444,
              "#bd3786"
             ],
             [
              0.5555555555555556,
              "#d8576b"
             ],
             [
              0.6666666666666666,
              "#ed7953"
             ],
             [
              0.7777777777777778,
              "#fb9f3a"
             ],
             [
              0.8888888888888888,
              "#fdca26"
             ],
             [
              1,
              "#f0f921"
             ]
            ],
            "type":"histogram2dcontour"
           }
          ],
          "mesh3d":[
           {
            "colorbar":{
             "outlinewidth":0,
             "ticks":""
            },
            "type":"mesh3d"
           }
          ],
          "parcoords":[
           {
            "line":{
             "colorbar":{
              "outlinewidth":0,
              "ticks":""
             }
            },
            "type":"parcoords"
           }
          ],
          "pie":[
           {
            "automargin":true,
            "type":"pie"
           }
          ],
          "scatter":[
           {
            "marker":{
             "colorbar":{
              "outlinewidth":0,
              "ticks":""
             }
            },
            "type":"scatter"
           }
          ],
          "scatter3d":[
           {
            "line":{
             "colorbar":{
              "outlinewidth":0,
              "ticks":""
             }
            },
            "marker":{
             "colorbar":{
              "outlinewidth":0,
              "ticks":""
             }
            },
            "type":"scatter3d"
           }
          ],
          "scattercarpet":[
           {
            "marker":{
             "colorbar":{
              "outlinewidth":0,
              "ticks":""
             }
            },
            "type":"scattercarpet"
           }
          ],
          "scattergeo":[
           {
            "marker":{
             "colorbar":{
              "outlinewidth":0,
              "ticks":""
             }
            },
            "type":"scattergeo"
           }
          ],
          "scattergl":[
           {
            "marker":{
             "colorbar":{
              "outlinewidth":0,
              "ticks":""
             }
            },
            "type":"scattergl"
           }
          ],
          "scattermapbox":[
           {
            "marker":{
             "colorbar":{
              "outlinewidth":0,
              "ticks":""
             }
            },
            "type":"scattermapbox"
           }
          ],
          "scatterpolar":[
           {
            "marker":{
             "colorbar":{
              "outlinewidth":0,
              "ticks":""
             }
            },
            "type":"scatterpolar"
           }
          ],
          "scatterpolargl":[
           {
            "marker":{
             "colorbar":{
              "outlinewidth":0,
              "ticks":""
             }
            },
            "type":"scatterpolargl"
           }
          ],
          "scatterternary":[
           {
            "marker":{
             "colorbar":{
              "outlinewidth":0,
              "ticks":""
             }
            },
            "type":"scatterternary"
           }
          ],
          "surface":[
           {
            "colorbar":{
             "outlinewidth":0,
             "ticks":""
            },
            "colorscale":[
             [
              0,
              "#0d0887"
             ],
             [
              0.1111111111111111,
              "#46039f"
             ],
             [
              0.2222222222222222,
              "#7201a8"
             ],
             [
              0.3333333333333333,
              "#9c179e"
             ],
             [
              0.4444444444444444,
              "#bd3786"
             ],
             [
              0.5555555555555556,
              "#d8576b"
             ],
             [
              0.6666666666666666,
              "#ed7953"
             ],
             [
              0.7777777777777778,
              "#fb9f3a"
             ],
             [
              0.8888888888888888,
              "#fdca26"
             ],
             [
              1,
              "#f0f921"
             ]
            ],
            "type":"surface"
           }
          ],
          "table":[
           {
            "cells":{
             "fill":{
              "color":"#EBF0F8"
             },
             "line":{
              "color":"white"
             }
            },
            "header":{
             "fill":{
              "color":"#C8D4E3"
             },
             "line":{
              "color":"white"
             }
            },
            "type":"table"
           }
          ]
         },
         "layout":{
          "annotationdefaults":{
           "arrowcolor":"#2a3f5f",
           "arrowhead":0,
           "arrowwidth":1
          },
          "autotypenumbers":"strict",
          "coloraxis":{
           "colorbar":{
            "outlinewidth":0,
            "ticks":""
           }
          },
          "colorscale":{
           "diverging":[
            [
             0,
             "#8e0152"
            ],
            [
             0.1,
             "#c51b7d"
            ],
            [
             0.2,
             "#de77ae"
            ],
            [
             0.3,
             "#f1b6da"
            ],
            [
             0.4,
             "#fde0ef"
            ],
            [
             0.5,
             "#f7f7f7"
            ],
            [
             0.6,
             "#e6f5d0"
            ],
            [
             0.7,
             "#b8e186"
            ],
            [
             0.8,
             "#7fbc41"
            ],
            [
             0.9,
             "#4d9221"
            ],
            [
             1,
             "#276419"
            ]
           ],
           "sequential":[
            [
             0,
             "#0d0887"
            ],
            [
             0.1111111111111111,
             "#46039f"
            ],
            [
             0.2222222222222222,
             "#7201a8"
            ],
            [
             0.3333333333333333,
             "#9c179e"
            ],
            [
             0.4444444444444444,
             "#bd3786"
            ],
            [
             0.5555555555555556,
             "#d8576b"
            ],
            [
             0.6666666666666666,
             "#ed7953"
            ],
            [
             0.7777777777777778,
             "#fb9f3a"
            ],
            [
             0.8888888888888888,
             "#fdca26"
            ],
            [
             1,
             "#f0f921"
            ]
           ],
           "sequentialminus":[
            [
             0,
             "#0d0887"
            ],
            [
             0.1111111111111111,
             "#46039f"
            ],
            [
             0.2222222222222222,
             "#7201a8"
            ],
            [
             0.3333333333333333,
             "#9c179e"
            ],
            [
             0.4444444444444444,
             "#bd3786"
            ],
            [
             0.5555555555555556,
             "#d8576b"
            ],
            [
             0.6666666666666666,
             "#ed7953"
            ],
            [
             0.7777777777777778,
             "#fb9f3a"
            ],
            [
             0.8888888888888888,
             "#fdca26"
            ],
            [
             1,
             "#f0f921"
            ]
           ]
          },
          "colorway":[
           "#636efa",
           "#EF553B",
           "#00cc96",
           "#ab63fa",
           "#FFA15A",
           "#19d3f3",
           "#FF6692",
           "#B6E880",
           "#FF97FF",
           "#FECB52"
          ],
          "font":{
           "color":"#2a3f5f"
          },
          "geo":{
           "bgcolor":"white",
           "lakecolor":"white",
           "landcolor":"#E5ECF6",
           "showlakes":true,
           "showland":true,
           "subunitcolor":"white"
          },
          "hoverlabel":{
           "align":"left"
          },
          "hovermode":"closest",
          "mapbox":{
           "style":"light"
          },
          "paper_bgcolor":"white",
          "plot_bgcolor":"#E5ECF6",
          "polar":{
           "angularaxis":{
            "gridcolor":"white",
            "linecolor":"white",
            "ticks":""
           },
           "bgcolor":"#E5ECF6",
           "radialaxis":{
            "gridcolor":"white",
            "linecolor":"white",
            "ticks":""
           }
          },
          "scene":{
           "xaxis":{
            "backgroundcolor":"#E5ECF6",
            "gridcolor":"white",
            "gridwidth":2,
            "linecolor":"white",
            "showbackground":true,
            "ticks":"",
            "zerolinecolor":"white"
           },
           "yaxis":{
            "backgroundcolor":"#E5ECF6",
            "gridcolor":"white",
            "gridwidth":2,
            "linecolor":"white",
            "showbackground":true,
            "ticks":"",
            "zerolinecolor":"white"
           },
           "zaxis":{
            "backgroundcolor":"#E5ECF6",
            "gridcolor":"white",
            "gridwidth":2,
            "linecolor":"white",
            "showbackground":true,
            "ticks":"",
            "zerolinecolor":"white"
           }
          },
          "shapedefaults":{
           "line":{
            "color":"#2a3f5f"
           }
          },
          "ternary":{
           "aaxis":{
            "gridcolor":"white",
            "linecolor":"white",
            "ticks":""
           },
           "baxis":{
            "gridcolor":"white",
            "linecolor":"white",
            "ticks":""
           },
           "bgcolor":"#E5ECF6",
           "caxis":{
            "gridcolor":"white",
            "linecolor":"white",
            "ticks":""
           }
          },
          "title":{
           "x":0.05
          },
          "xaxis":{
           "automargin":true,
           "gridcolor":"white",
           "linecolor":"white",
           "ticks":"",
           "title":{
            "standoff":15
           },
           "zerolinecolor":"white",
           "zerolinewidth":2
          },
          "yaxis":{
           "automargin":true,
           "gridcolor":"white",
           "linecolor":"white",
           "ticks":"",
           "title":{
            "standoff":15
           },
           "zerolinecolor":"white",
           "zerolinewidth":2
          }
         }
        },
        "xaxis":{
         "title":{
          "text":"Размер матрицы"
         }
        },
        "yaxis":{
         "title":{
          "text":"Ошибка"
         },
         "tickformat":".2e"
        },
        "title":{
         "text":"Зависимость ошибки от размера матрицы"
        }
       },
       "config":{
        "plotlyServerURL":"https:\/\/plot.ly"
       }
      }
     },
     "metadata":{
      
     },
     "output_type":"display_data"
    }
   ],
   "metadata":{
    "datalore":{
     "type":"CODE",
     "hide_input_from_viewers":false,
     "hide_output_from_viewers":false,
     "node_id":"ge1oGS1n8HADvQ8yojrSXB"
    }
   }
  },
  {
   "cell_type":"code",
   "source":[
    
   ],
   "execution_count":null,
   "outputs":[
    
   ],
   "metadata":{
    "datalore":{
     "type":"CODE",
     "hide_input_from_viewers":false,
     "hide_output_from_viewers":false,
     "node_id":"mSkFoAlkvUXiWkiPl3aZlG"
    }
   }
  }
 ],
 "metadata":{
  "kernelspec":{
   "display_name":"Python",
   "language":"python",
   "name":"python"
  },
  "datalore":{
   "version":1,
   "computation_mode":"JUPYTER",
   "package_manager":"pip",
   "base_environment":"default",
   "packages":[
    
   ]
  }
 },
 "nbformat":4,
 "nbformat_minor":4
}