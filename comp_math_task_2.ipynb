{
 "cells":[
  {
   "cell_type":"code",
   "source":[
    "from itertools import product\n",
    "from typing import Tuple, Literal, Callable\n",
    "\n",
    "import numpy as np\n",
    "import scipy as sp\n",
    "import numpy.linalg as linalg\n",
    "import scipy.linalg\n",
    "import pandas as pd\n",
    "import plotly.graph_objects as go\n",
    "\n",
    "from enum import Enum"
   ],
   "execution_count":1,
   "outputs":[
    
   ],
   "metadata":{
    "datalore":{
     "type":"CODE",
     "hide_input_from_viewers":false,
     "hide_output_from_viewers":false,
     "node_id":"K2oeknU2Kjsp6uZZ8CuO0k"
    }
   }
  },
  {
   "cell_type":"markdown",
   "source":[
    "# Util"
   ],
   "attachments":{
    
   },
   "metadata":{
    "datalore":{
     "type":"MD",
     "hide_input_from_viewers":false,
     "hide_output_from_viewers":false,
     "node_id":"W9vb9Zh4MFscXJaF7MVaGH"
    }
   }
  },
  {
   "cell_type":"code",
   "source":[
    "matrix_size_name = \"matrix_size\"\n",
    "matrix_a_condition_name = \"cond(A)\"\n",
    "matrix_l_condition_name = \"cond(L)\"\n",
    "matrix_u_condition_name = \"cond(U)\"\n",
    "error_column_name = \"error\"\n",
    "alpha_column_name = \"alpha\"\n",
    "regulirized_matrix_a_condition_name = \"cond(A + alpha * E)\"\n",
    "regulirized_matrix_l_condition_name = \"cond(reg(L))\"\n",
    "regulirized_matrix_u_condition_name = \"cond(reg(U))\"\n",
    "regulirized_error_column_name = \"reg_error\"\n",
    "\n",
    "class ConditionNumberType(Enum):\n",
    "    SpectralCondition = \"cond_s\"\n",
    "    VolumCondition = \"cond_v\"\n",
    "    AngleCondition = \"cond_a\""
   ],
   "execution_count":2,
   "outputs":[
    
   ],
   "metadata":{
    "datalore":{
     "type":"CODE",
     "hide_input_from_viewers":false,
     "hide_output_from_viewers":false,
     "node_id":"st1FCZVQsdXz2h4sTzkLR6"
    }
   }
  },
  {
   "cell_type":"code",
   "source":[
    "def calculate_spectral_condition_number(matrix):\n",
    "    return linalg.cond(matrix)\n",
    "\n",
    "\n",
    "def calculate_volume_condition_number(matrix):\n",
    "    volume_denominator = abs(linalg.det(matrix))\n",
    "\n",
    "    volume_numerator = 1\n",
    "    for row in matrix:\n",
    "        volume_numerator *= linalg.norm(row)\n",
    "\n",
    "    return volume_numerator \/ volume_denominator\n",
    "\n",
    "\n",
    "def calculate_angle_condition_number(matrix):\n",
    "    candidates = []\n",
    "    for row, column in zip(matrix, linalg.inv(matrix).T):\n",
    "        candidates.append(linalg.norm(row) * linalg.norm(column))\n",
    "\n",
    "    return max(candidates)\n",
    "\n",
    "\n",
    "def calculate_condition_number(condition_number_type: ConditionNumberType, matrix):\n",
    "    return {\n",
    "        ConditionNumberType.AngleCondition: calculate_angle_condition_number,\n",
    "        ConditionNumberType.SpectralCondition: calculate_spectral_condition_number,\n",
    "        ConditionNumberType.VolumCondition: calculate_volume_condition_number,\n",
    "    }[condition_number_type](matrix)"
   ],
   "execution_count":3,
   "outputs":[
    
   ],
   "metadata":{
    "datalore":{
     "type":"CODE",
     "hide_input_from_viewers":false,
     "hide_output_from_viewers":false,
     "node_id":"lndQunGY0SJEvIZp6vD09d"
    }
   }
  },
  {
   "cell_type":"code",
   "source":[
    "def generate_matrix(element_factory, size):\n",
    "    return np.array(\n",
    "        [\n",
    "            [element_factory(row, column) for column in range(1, size + 1)]\n",
    "            for row in range(1, size + 1)\n",
    "        ]\n",
    "    )"
   ],
   "execution_count":4,
   "outputs":[
    
   ],
   "metadata":{
    "datalore":{
     "type":"CODE",
     "hide_input_from_viewers":false,
     "hide_output_from_viewers":false,
     "node_id":"EmFAI7KGUnuqE1ad2kxH0J"
    }
   }
  },
  {
   "cell_type":"code",
   "source":[
    "def draw_compare_plot_for_size_and_cond(data):\n",
    "    fig = go.Figure()\n",
    "\n",
    "    for matrix_condition_name in [matrix_a_condition_name, matrix_l_condition_name, matrix_u_condition_name]:\n",
    "        fig.add_scatter(x=data[matrix_size_name], y=data[matrix_condition_name], name=matrix_condition_name)\n",
    "\n",
    "    fig.update_xaxes(title='Размер матрицы')\n",
    "    fig.update_yaxes(title='Число обусловленности', tickformat='.2e')\n",
    "    fig.update_layout(title='Зависимость числа обусловленности от размера матрицы')\n",
    "\n",
    "    fig.show()"
   ],
   "execution_count":5,
   "outputs":[
    
   ],
   "metadata":{
    "datalore":{
     "type":"CODE",
     "hide_input_from_viewers":false,
     "hide_output_from_viewers":false,
     "node_id":"vuYXfTMZO8IUibGZ07uoX9"
    }
   }
  },
  {
   "cell_type":"code",
   "source":[
    "def draw_compare_plot_for_size_and_error(data):\n",
    "    fig = go.Figure()\n",
    "\n",
    "    fig.add_scatter(x=data[matrix_size_name], y=data[error_column_name])\n",
    "\n",
    "    fig.update_xaxes(title='Размер матрицы')\n",
    "    fig.update_yaxes(title='Ошибка', tickformat='.2e')\n",
    "    fig.update_layout(title='Зависимость ошибки от размера матрицы')\n",
    "\n",
    "    fig.show()"
   ],
   "execution_count":6,
   "outputs":[
    
   ],
   "metadata":{
    "datalore":{
     "type":"CODE",
     "hide_input_from_viewers":false,
     "hide_output_from_viewers":false,
     "node_id":"HHxyp8u9Gx3jXgFIhIUVEg"
    }
   }
  },
  {
   "cell_type":"code",
   "source":[
    "def get_lup_decomposition(matrix):\n",
    "    return sp.linalg.lu(matrix)"
   ],
   "execution_count":7,
   "outputs":[
    
   ],
   "metadata":{
    "datalore":{
     "type":"CODE",
     "hide_input_from_viewers":false,
     "hide_output_from_viewers":false,
     "node_id":"o84O4w7OrI7cFkjvOwonuA"
    }
   }
  },
  {
   "cell_type":"code",
   "source":[
    "def forward_substitution(l, right_part):\n",
    "    size = l.shape[0]\n",
    "\n",
    "    solution = []\n",
    "    for i in range(size):\n",
    "        solution.append((right_part[i] - np.dot(l[i, :i], solution).sum()) \/ l[i][i])\n",
    "\n",
    "    return np.array(solution)\n",
    "\n",
    "\n",
    "def back_substitution(u, right_part):\n",
    "    return forward_substitution(np.flip(u, axis=[0, 1]), right_part[::-1])[::-1]\n",
    "\n",
    "\n",
    "def solve_using_lu_decompostion(matrix, right_part):\n",
    "    p, l, u = get_lup_decomposition(matrix)\n",
    "    y = forward_substitution(l, (np.linalg.inv(p) @ right_part))\n",
    "    return back_substitution(u, y)"
   ],
   "execution_count":8,
   "outputs":[
    
   ],
   "metadata":{
    "datalore":{
     "type":"CODE",
     "hide_input_from_viewers":false,
     "hide_output_from_viewers":false,
     "node_id":"XauIXH1JEUKmOMeLG9O35N"
    }
   }
  },
  {
   "cell_type":"code",
   "source":[
    "def run_benchmark(\n",
    "        matrix, \n",
    "        right_part, \n",
    "        expected_solution, \n",
    "        condition_number_type: ConditionNumberType = ConditionNumberType.AngleCondition\n",
    "):\n",
    "    _, l, u = get_lup_decomposition(matrix)\n",
    "\n",
    "    matrix_condition_number = calculate_condition_number(condition_number_type, matrix)\n",
    "    l_condition_number = calculate_condition_number(condition_number_type, l)\n",
    "    u_condition_number = calculate_condition_number(condition_number_type, u)\n",
    "\n",
    "    actual_solution = solve_using_lu_decompostion(matrix, right_part)\n",
    "\n",
    "    solution_without_decomposition = sp.linalg.solve(matrix, right_part)\n",
    "\n",
    "    return pd.Series(\n",
    "        [\n",
    "            matrix_condition_number,\n",
    "            l_condition_number,\n",
    "            u_condition_number,\n",
    "            linalg.norm(expected_solution - actual_solution),\n",
    "            linalg.norm(expected_solution - solution_without_decomposition)\n",
    "        ]\n",
    "    )"
   ],
   "execution_count":10,
   "outputs":[
    
   ],
   "metadata":{
    "datalore":{
     "type":"CODE",
     "hide_input_from_viewers":false,
     "hide_output_from_viewers":false,
     "node_id":"FRBTKl7yl3LWDBOygJpV5p"
    }
   }
  },
  {
   "cell_type":"markdown",
   "source":[
    "# Хорошие примеры из Пакулиной"
   ],
   "attachments":{
    
   },
   "metadata":{
    "datalore":{
     "type":"MD",
     "hide_input_from_viewers":false,
     "hide_output_from_viewers":false,
     "node_id":"Aia8kO1HxGMjVvvkWmiYiq"
    }
   }
  },
  {
   "cell_type":"code",
   "source":[
    "def get_pakulina_1_linear_system():\n",
    "    matrix = np.array([\n",
    "        [3.278164, 1.046583, -1.378574],\n",
    "        [1.046583, 2.975937, 0.934251],\n",
    "        [-1.378574, 0.934251, 4.836173],\n",
    "    ])\n",
    "    solution = np.ones(3)\n",
    "    right_part = matrix.dot(solution)\n",
    "    return matrix, right_part, solution"
   ],
   "execution_count":11,
   "outputs":[
    
   ],
   "metadata":{
    "datalore":{
     "type":"CODE",
     "hide_input_from_viewers":false,
     "hide_output_from_viewers":false,
     "node_id":"697ZZvDkigSd04PJsJoQcT"
    }
   }
  },
  {
   "cell_type":"code",
   "source":[
    "def get_pakulina_6_linear_system():\n",
    "    matrix = np.array([\n",
    "        [9.016024, 1.082197, 2.783575],\n",
    "        [1.08219, 6.846595, 0.647647],\n",
    "        [-2.78357, 0.647647, 5.432541],\n",
    "    ])\n",
    "    solution = np.ones(3)\n",
    "    right_part = matrix.dot(solution)\n",
    "    return matrix, right_part, solution"
   ],
   "execution_count":12,
   "outputs":[
    
   ],
   "metadata":{
    "datalore":{
     "type":"CODE",
     "hide_input_from_viewers":false,
     "hide_output_from_viewers":false,
     "node_id":"hJG5L8yCvKJYiXSES4TjNx"
    }
   }
  },
  {
   "cell_type":"code",
   "source":[
    "def get_pakulina_11_linear_system():\n",
    "    matrix = np.array([\n",
    "        [6.687233, 0.80267, 2.06459],\n",
    "        [0.8026, 5.07816, 0.48037],\n",
    "        [-2.06459, 0.48037, 4.02934],\n",
    "    ])\n",
    "    solution = np.ones(3)\n",
    "    right_part = matrix.dot(solution)\n",
    "    return matrix, right_part, solution"
   ],
   "execution_count":13,
   "outputs":[
    
   ],
   "metadata":{
    "datalore":{
     "type":"CODE",
     "hide_input_from_viewers":false,
     "hide_output_from_viewers":false,
     "node_id":"VoEEKC6dYTTz8etC73XCdH"
    }
   }
  },
  {
   "cell_type":"code",
   "source":[
    "good_data = pd.DataFrame.from_dict({\n",
    "    1: run_benchmark(*get_pakulina_1_linear_system()),\n",
    "    6: run_benchmark(*get_pakulina_6_linear_system()),\n",
    "    11: run_benchmark(*get_pakulina_11_linear_system()),\n",
    "}, orient='index')\n",
    "good_data.columns = [matrix_a_condition_name, matrix_l_condition_name, matrix_u_condition_name, error_column_name, \"error_without_decomp\"]\n",
    "good_data"
   ],
   "execution_count":14,
   "outputs":[
    {
     "data":{
      "text\/html":[
       "<div>\n",
       "<style scoped>\n",
       "    .dataframe tbody tr th:only-of-type {\n",
       "        vertical-align: middle;\n",
       "    }\n",
       "\n",
       "    .dataframe tbody tr th {\n",
       "        vertical-align: top;\n",
       "    }\n",
       "\n",
       "    .dataframe thead th {\n",
       "        text-align: right;\n",
       "    }\n",
       "<\/style>\n",
       "<table border=\"1\" class=\"dataframe\">\n",
       "  <thead>\n",
       "    <tr style=\"text-align: right;\">\n",
       "      <th><\/th>\n",
       "      <th>cond(A)<\/th>\n",
       "      <th>cond(L)<\/th>\n",
       "      <th>cond(U)<\/th>\n",
       "      <th>error<\/th>\n",
       "      <th>error_without_decomp<\/th>\n",
       "    <\/tr>\n",
       "  <\/thead>\n",
       "  <tbody>\n",
       "    <tr>\n",
       "      <th>1<\/th>\n",
       "      <td>1.906892<\/td>\n",
       "      <td>1.203120<\/td>\n",
       "      <td>1.270739<\/td>\n",
       "      <td>7.447602e-16<\/td>\n",
       "      <td>7.447602e-16<\/td>\n",
       "    <\/tr>\n",
       "    <tr>\n",
       "      <th>6<\/th>\n",
       "      <td>1.065856<\/td>\n",
       "      <td>1.058710<\/td>\n",
       "      <td>1.053435<\/td>\n",
       "      <td>2.482534e-16<\/td>\n",
       "      <td>3.330669e-16<\/td>\n",
       "    <\/tr>\n",
       "    <tr>\n",
       "      <th>11<\/th>\n",
       "      <td>1.065853<\/td>\n",
       "      <td>1.058708<\/td>\n",
       "      <td>1.053435<\/td>\n",
       "      <td>3.140185e-16<\/td>\n",
       "      <td>2.220446e-16<\/td>\n",
       "    <\/tr>\n",
       "  <\/tbody>\n",
       "<\/table>\n",
       "<\/div>"
      ]
     },
     "metadata":{
      
     },
     "output_type":"display_data"
    }
   ],
   "metadata":{
    "datalore":{
     "type":"CODE",
     "hide_input_from_viewers":false,
     "hide_output_from_viewers":false,
     "node_id":"ODDk242gHqEueNgSg5mRRj"
    }
   }
  },
  {
   "cell_type":"markdown",
   "source":[
    "# Плохие примеры (матрица Гильберта)"
   ],
   "attachments":{
    
   },
   "metadata":{
    "datalore":{
     "type":"MD",
     "hide_input_from_viewers":false,
     "hide_output_from_viewers":false,
     "node_id":"VnAk9Gu4x3myWVYTFtQf6T"
    }
   }
  },
  {
   "cell_type":"code",
   "source":[
    "def get_hilbert_linear_system(size, expected_solution=None):\n",
    "    matrix = np.around(generate_matrix(lambda row, column: 1 \/ (row + column - 1), size), 10)\n",
    "    \n",
    "    expected_solution = expected_solution if expected_solution is not None else np.ones(size)\n",
    "    right_part = np.dot(matrix, expected_solution)\n",
    "\n",
    "    return matrix, right_part, expected_solution"
   ],
   "execution_count":17,
   "outputs":[
    
   ],
   "metadata":{
    "datalore":{
     "type":"CODE",
     "hide_input_from_viewers":false,
     "hide_output_from_viewers":false,
     "node_id":"wGEWaDAdYICsAhPNIDRiWL"
    }
   }
  },
  {
   "cell_type":"code",
   "source":[
    "hilbert_data = pd.DataFrame(range(2, 100), columns=[matrix_size_name])\n",
    "hilbert_data[[matrix_a_condition_name, matrix_l_condition_name, matrix_u_condition_name, error_column_name, \"error_without_decomp\"]] = hilbert_data.apply(\n",
    "    lambda row: run_benchmark(*get_hilbert_linear_system(row[matrix_size_name])),\n",
    "    axis=1,\n",
    ")\n",
    "hilbert_data.sort_values(by=error_column_name, ascending=False)"
   ],
   "execution_count":18,
   "outputs":[
    {
     "data":{
      "text\/html":[
       "<div>\n",
       "<style scoped>\n",
       "    .dataframe tbody tr th:only-of-type {\n",
       "        vertical-align: middle;\n",
       "    }\n",
       "\n",
       "    .dataframe tbody tr th {\n",
       "        vertical-align: top;\n",
       "    }\n",
       "\n",
       "    .dataframe thead th {\n",
       "        text-align: right;\n",
       "    }\n",
       "<\/style>\n",
       "<table border=\"1\" class=\"dataframe\">\n",
       "  <thead>\n",
       "    <tr style=\"text-align: right;\">\n",
       "      <th><\/th>\n",
       "      <th>matrix_size<\/th>\n",
       "      <th>cond(A)<\/th>\n",
       "      <th>cond(L)<\/th>\n",
       "      <th>cond(U)<\/th>\n",
       "      <th>error<\/th>\n",
       "      <th>error_without_decomp<\/th>\n",
       "    <\/tr>\n",
       "  <\/thead>\n",
       "  <tbody>\n",
       "    <tr>\n",
       "      <th>69<\/th>\n",
       "      <td>71<\/td>\n",
       "      <td>2.727659e+13<\/td>\n",
       "      <td>11.851698<\/td>\n",
       "      <td>9.396397e+05<\/td>\n",
       "      <td>3.801120e-02<\/td>\n",
       "      <td>3.134550e-02<\/td>\n",
       "    <\/tr>\n",
       "    <tr>\n",
       "      <th>81<\/th>\n",
       "      <td>83<\/td>\n",
       "      <td>3.574778e+11<\/td>\n",
       "      <td>13.218905<\/td>\n",
       "      <td>1.231788e+06<\/td>\n",
       "      <td>8.619459e-04<\/td>\n",
       "      <td>2.005467e-04<\/td>\n",
       "    <\/tr>\n",
       "    <tr>\n",
       "      <th>25<\/th>\n",
       "      <td>27<\/td>\n",
       "      <td>1.731782e+11<\/td>\n",
       "      <td>6.228150<\/td>\n",
       "      <td>3.036746e+04<\/td>\n",
       "      <td>5.643279e-04<\/td>\n",
       "      <td>3.500657e-04<\/td>\n",
       "    <\/tr>\n",
       "    <tr>\n",
       "      <th>26<\/th>\n",
       "      <td>28<\/td>\n",
       "      <td>1.860718e+11<\/td>\n",
       "      <td>6.516365<\/td>\n",
       "      <td>3.425235e+04<\/td>\n",
       "      <td>4.938520e-04<\/td>\n",
       "      <td>4.357577e-04<\/td>\n",
       "    <\/tr>\n",
       "    <tr>\n",
       "      <th>80<\/th>\n",
       "      <td>82<\/td>\n",
       "      <td>1.297828e+11<\/td>\n",
       "      <td>13.062564<\/td>\n",
       "      <td>1.203102e+06<\/td>\n",
       "      <td>4.422038e-04<\/td>\n",
       "      <td>5.896167e-04<\/td>\n",
       "    <\/tr>\n",
       "    <tr>\n",
       "      <th>...<\/th>\n",
       "      <td>...<\/td>\n",
       "      <td>...<\/td>\n",
       "      <td>...<\/td>\n",
       "      <td>...<\/td>\n",
       "      <td>...<\/td>\n",
       "      <td>...<\/td>\n",
       "    <\/tr>\n",
       "    <tr>\n",
       "      <th>4<\/th>\n",
       "      <td>6<\/td>\n",
       "      <td>2.441337e+06<\/td>\n",
       "      <td>2.388348<\/td>\n",
       "      <td>7.774785e+00<\/td>\n",
       "      <td>4.564831e-10<\/td>\n",
       "      <td>8.558862e-10<\/td>\n",
       "    <\/tr>\n",
       "    <tr>\n",
       "      <th>3<\/th>\n",
       "      <td>5<\/td>\n",
       "      <td>9.515739e+04<\/td>\n",
       "      <td>2.438588<\/td>\n",
       "      <td>4.304053e+00<\/td>\n",
       "      <td>1.278924e-11<\/td>\n",
       "      <td>1.507071e-13<\/td>\n",
       "    <\/tr>\n",
       "    <tr>\n",
       "      <th>2<\/th>\n",
       "      <td>4<\/td>\n",
       "      <td>4.020914e+03<\/td>\n",
       "      <td>2.173067<\/td>\n",
       "      <td>2.660409e+00<\/td>\n",
       "      <td>1.110223e-15<\/td>\n",
       "      <td>9.452556e-15<\/td>\n",
       "    <\/tr>\n",
       "    <tr>\n",
       "      <th>1<\/th>\n",
       "      <td>3<\/td>\n",
       "      <td>1.728872e+02<\/td>\n",
       "      <td>1.500000<\/td>\n",
       "      <td>1.634693e+00<\/td>\n",
       "      <td>1.093443e-15<\/td>\n",
       "      <td>1.389554e-14<\/td>\n",
       "    <\/tr>\n",
       "    <tr>\n",
       "      <th>0<\/th>\n",
       "      <td>2<\/td>\n",
       "      <td>8.062258e+00<\/td>\n",
       "      <td>1.118034<\/td>\n",
       "      <td>1.118034e+00<\/td>\n",
       "      <td>8.005932e-16<\/td>\n",
       "      <td>8.005932e-16<\/td>\n",
       "    <\/tr>\n",
       "  <\/tbody>\n",
       "<\/table>\n",
       "<p>98 rows × 6 columns<\/p>\n",
       "<\/div>"
      ]
     },
     "metadata":{
      
     },
     "output_type":"display_data"
    }
   ],
   "metadata":{
    "datalore":{
     "type":"CODE",
     "hide_input_from_viewers":false,
     "hide_output_from_viewers":false,
     "node_id":"HkpAx8x1seiwsY2GoMHhKq"
    }
   }
  },
  {
   "cell_type":"code",
   "source":[
    "draw_compare_plot_for_size_and_cond(hilbert_data)"
   ],
   "execution_count":19,
   "outputs":[
    {
     "data":{
      "application\/vnd.plotly.v1+json":{
       "data":[
        {
         "name":"cond(A)",
         "x":[
          2,
          3,
          4,
          5,
          6,
          7,
          8,
          9,
          10,
          11,
          12,
          13,
          14,
          15,
          16,
          17,
          18,
          19,
          20,
          21,
          22,
          23,
          24,
          25,
          26,
          27,
          28,
          29,
          30,
          31,
          32,
          33,
          34,
          35,
          36,
          37,
          38,
          39,
          40,
          41,
          42,
          43,
          44,
          45,
          46,
          47,
          48,
          49,
          50,
          51,
          52,
          53,
          54,
          55,
          56,
          57,
          58,
          59,
          60,
          61,
          62,
          63,
          64,
          65,
          66,
          67,
          68,
          69,
          70,
          71,
          72,
          73,
          74,
          75,
          76,
          77,
          78,
          79,
          80,
          81,
          82,
          83,
          84,
          85,
          86,
          87,
          88,
          89,
          90,
          91,
          92,
          93,
          94,
          95,
          96,
          97,
          98,
          99
         ],
         "y":[
          8.062257751275387,
          172.88724798096374,
          4020.9143249047397,
          95157.39357992586,
          2441336.6055394243,
          7.162373241159733E7,
          1.8714137451667342E9,
          5.949241041548385E9,
          1.2500904068621899E10,
          4.387200634189215E9,
          1.0498015979297308E11,
          3.901984765052341E9,
          3.117223014873342E9,
          2.7632659244821568E9,
          2.905487055103019E9,
          4.709685404242865E9,
          4.322702843214211E9,
          8.678518256684044E10,
          1.1228983595401556E10,
          1.4372102539614973E10,
          1.1408400486109415E10,
          1.1244323284452057E10,
          6.347834169339505E9,
          7.427095198699265E9,
          4.147998381934608E10,
          1.7317817808324213E11,
          1.860717741272014E11,
          1.1025596571754547E11,
          2.8341428395824913E10,
          8.736102625919947E9,
          8.45247061284786E9,
          7.658266389096302E9,
          1.3206433480453312E10,
          3.22541607907873E10,
          1.2398627366200731E10,
          3.8747608203618866E10,
          4.315017817918548E10,
          2.1296692734013596E10,
          1.7446502617242043E10,
          1.7963132332164978E10,
          2.978216240258545E10,
          1.1257517389933685E10,
          1.8096142941617924E10,
          1.6311590081288631E10,
          2.5829375771084106E10,
          1.2214398094519044E11,
          1.984784803237912E10,
          8.436364539009858E9,
          1.067736505865854E10,
          9.810811853252932E9,
          9.102813445588848E9,
          4.740937119944172E9,
          4.097263952532152E9,
          8.560068742604963E9,
          5.947208121503635E9,
          8.001682780611918E9,
          1.939231543937624E11,
          5.492007094369584E9,
          5.594434607766992E9,
          7.922278932350943E9,
          2.3194899236308567E10,
          9.885048730643183E9,
          1.0197890035053719E10,
          1.5666239817585241E10,
          9.170019698998499E9,
          6.114772584247466E9,
          4.75863501527636E10,
          3.1689249234314564E10,
          7.524614907915934E9,
          2.7276587605105664E13,
          1.3999343912330698E10,
          9.076021037118784E9,
          7.544569747014991E9,
          7.184786890411597E9,
          7.4786861989742155E9,
          9.252966483234271E10,
          8.509499851781097E9,
          7.31558173063012E9,
          1.1740747350677355E10,
          7.360040155790086E9,
          1.2978278670715335E11,
          3.5747781467710425E11,
          3.4167456918661346E11,
          1.8888023912855003E10,
          3.0642616856831112E10,
          7.60388605740831E9,
          5.997510689199454E9,
          8.311400021152008E10,
          4.275391663042745E9,
          4.737728643897423E9,
          4.377622075319922E9,
          3.584279392465931E10,
          7.032471943261429E9,
          4.2434913547869434E9,
          1.6885139144375307E10,
          9.308827808101407E10,
          7.069956523025298E9,
          6.349683255725162E9
         ],
         "type":"scatter"
        },
        {
         "name":"cond(L)",
         "x":[
          2,
          3,
          4,
          5,
          6,
          7,
          8,
          9,
          10,
          11,
          12,
          13,
          14,
          15,
          16,
          17,
          18,
          19,
          20,
          21,
          22,
          23,
          24,
          25,
          26,
          27,
          28,
          29,
          30,
          31,
          32,
          33,
          34,
          35,
          36,
          37,
          38,
          39,
          40,
          41,
          42,
          43,
          44,
          45,
          46,
          47,
          48,
          49,
          50,
          51,
          52,
          53,
          54,
          55,
          56,
          57,
          58,
          59,
          60,
          61,
          62,
          63,
          64,
          65,
          66,
          67,
          68,
          69,
          70,
          71,
          72,
          73,
          74,
          75,
          76,
          77,
          78,
          79,
          80,
          81,
          82,
          83,
          84,
          85,
          86,
          87,
          88,
          89,
          90,
          91,
          92,
          93,
          94,
          95,
          96,
          97,
          98,
          99
         ],
         "y":[
          1.118033988749895,
          1.4999999995999997,
          2.173067476815765,
          2.4385881363797997,
          2.3883479391169615,
          2.669144952598274,
          2.815076241978445,
          2.8812123821481634,
          4.056056822541551,
          3.132721899809515,
          3.0397213915686767,
          3.7420138982131927,
          4.428302895338151,
          4.314435207427185,
          3.9875570006302707,
          4.098536489884182,
          4.894347975205623,
          5.345260318402234,
          4.972039405776623,
          4.991602421428181,
          5.065153810902181,
          6.926743074698708,
          5.172495370507167,
          5.427409398491835,
          5.985496184937687,
          6.228149716271213,
          6.5163654903784725,
          7.437982479620173,
          7.26813659130514,
          8.061659640633453,
          6.740997205799491,
          6.55201753038623,
          6.975466365004297,
          7.458088025087737,
          8.201244175725845,
          6.868104913171153,
          7.796259372292637,
          8.233379507924852,
          6.603333246653943,
          8.396144136527436,
          7.903631833238019,
          7.569677474913446,
          8.633737093410353,
          11.937608378249347,
          7.656603104037942,
          7.983299314086822,
          10.176755722766494,
          9.401471092392095,
          10.326966887534171,
          11.94000228794968,
          10.480999266279628,
          11.125611820675406,
          9.164961599579033,
          9.739456035430962,
          13.254740259377456,
          11.732733205507044,
          12.517801160691969,
          11.067768508436721,
          11.592520189194623,
          11.192798392915588,
          14.32287958874754,
          10.43895994894402,
          12.431821680858537,
          10.52258009451415,
          12.3336575573076,
          10.476527852067028,
          13.904662972893215,
          11.869705285063453,
          25.34370333347407,
          11.851697857672916,
          12.575850187192083,
          11.482700847265988,
          12.63692006215213,
          12.757783183151178,
          13.496300068819938,
          13.723239432393639,
          11.213462398508458,
          14.484127509084558,
          16.766492890020317,
          14.470383785586431,
          13.062564489336204,
          13.218905213654596,
          12.410363226137873,
          13.826960299651596,
          14.484011573890323,
          15.178177220472241,
          20.69646976917576,
          13.495528471346555,
          14.919592516459875,
          19.900049169271533,
          19.04111257241541,
          15.721206329833024,
          16.330026502229092,
          17.609918852882092,
          15.771406545657552,
          16.623039119976205,
          18.210555381384548,
          16.22958171475146
         ],
         "type":"scatter"
        },
        {
         "name":"cond(U)",
         "x":[
          2,
          3,
          4,
          5,
          6,
          7,
          8,
          9,
          10,
          11,
          12,
          13,
          14,
          15,
          16,
          17,
          18,
          19,
          20,
          21,
          22,
          23,
          24,
          25,
          26,
          27,
          28,
          29,
          30,
          31,
          32,
          33,
          34,
          35,
          36,
          37,
          38,
          39,
          40,
          41,
          42,
          43,
          44,
          45,
          46,
          47,
          48,
          49,
          50,
          51,
          52,
          53,
          54,
          55,
          56,
          57,
          58,
          59,
          60,
          61,
          62,
          63,
          64,
          65,
          66,
          67,
          68,
          69,
          70,
          71,
          72,
          73,
          74,
          75,
          76,
          77,
          78,
          79,
          80,
          81,
          82,
          83,
          84,
          85,
          86,
          87,
          88,
          89,
          90,
          91,
          92,
          93,
          94,
          95,
          96,
          97,
          98,
          99
         ],
         "y":[
          1.118033988749895,
          1.6346933114087319,
          2.6604093393133246,
          4.304053165531991,
          7.774785166091407,
          13.965055153846018,
          25.219123586160396,
          47.44925581944414,
          89.02991463199639,
          167.48853686372848,
          295.1140068303482,
          464.20289820494287,
          694.6500326335291,
          1333.3026334344713,
          1451.2521128739668,
          2416.383367789147,
          2482.0129328095973,
          3341.211204070301,
          8023.262496753406,
          11754.303678735729,
          10424.898882416772,
          13373.918299347431,
          16155.09658511162,
          16238.93639846738,
          26106.243521315486,
          30367.45805111417,
          34252.345463787635,
          38322.07302264245,
          42984.20170237255,
          61407.6001782339,
          69556.8640137793,
          81102.6835828029,
          85521.11465158455,
          100312.70394525617,
          106759.29195737898,
          119095.2775083849,
          131966.52229291495,
          141211.933299501,
          155302.9239896901,
          169124.53750228757,
          155390.42873347327,
          163559.29656369315,
          175391.06846963498,
          185466.1457339871,
          195688.7526569863,
          206928.96071570923,
          218146.00401910703,
          229459.20807922684,
          239271.7184127852,
          254504.3607149538,
          261925.01485895988,
          278520.2021155116,
          286559.3831045872,
          303282.2851277827,
          336982.7426469098,
          338300.9732226491,
          338427.33855828556,
          411356.13542527106,
          405721.12658456934,
          609628.513166765,
          608919.4270768582,
          790210.3061651083,
          592262.1968372937,
          967184.3434533341,
          701458.8276646885,
          654280.3102024226,
          835963.1556526815,
          708889.908553979,
          804328.2327545448,
          939639.6741868749,
          802141.8964574808,
          983223.8671293226,
          941155.4823166861,
          2008496.392153995,
          1124916.9724107606,
          1025048.8153376237,
          1099381.8456023294,
          1173033.2717941182,
          1190022.6449819463,
          1174463.7205660203,
          1203102.0722198565,
          1231788.0478319777,
          1260514.3768187026,
          1289273.9146401791,
          1318059.9082726233,
          1346865.767779282,
          1375685.2061040797,
          1404512.1916702248,
          1433340.9294105954,
          1462165.7920622604,
          1490981.6005978086,
          1519783.0302541517,
          1548565.2936539352,
          1577323.6668774255,
          1606053.673699746,
          1806428.4754753232,
          1842588.2016266678,
          1878804.5834540024
         ],
         "type":"scatter"
        }
       ],
       "layout":{
        "template":{
         "data":{
          "bar":[
           {
            "error_x":{
             "color":"#2a3f5f"
            },
            "error_y":{
             "color":"#2a3f5f"
            },
            "marker":{
             "line":{
              "color":"#E5ECF6",
              "width":0.5
             },
             "pattern":{
              "fillmode":"overlay",
              "size":10,
              "solidity":0.2
             }
            },
            "type":"bar"
           }
          ],
          "barpolar":[
           {
            "marker":{
             "line":{
              "color":"#E5ECF6",
              "width":0.5
             },
             "pattern":{
              "fillmode":"overlay",
              "size":10,
              "solidity":0.2
             }
            },
            "type":"barpolar"
           }
          ],
          "carpet":[
           {
            "aaxis":{
             "endlinecolor":"#2a3f5f",
             "gridcolor":"white",
             "linecolor":"white",
             "minorgridcolor":"white",
             "startlinecolor":"#2a3f5f"
            },
            "baxis":{
             "endlinecolor":"#2a3f5f",
             "gridcolor":"white",
             "linecolor":"white",
             "minorgridcolor":"white",
             "startlinecolor":"#2a3f5f"
            },
            "type":"carpet"
           }
          ],
          "choropleth":[
           {
            "colorbar":{
             "outlinewidth":0,
             "ticks":""
            },
            "type":"choropleth"
           }
          ],
          "contour":[
           {
            "colorbar":{
             "outlinewidth":0,
             "ticks":""
            },
            "colorscale":[
             [
              0,
              "#0d0887"
             ],
             [
              0.1111111111111111,
              "#46039f"
             ],
             [
              0.2222222222222222,
              "#7201a8"
             ],
             [
              0.3333333333333333,
              "#9c179e"
             ],
             [
              0.4444444444444444,
              "#bd3786"
             ],
             [
              0.5555555555555556,
              "#d8576b"
             ],
             [
              0.6666666666666666,
              "#ed7953"
             ],
             [
              0.7777777777777778,
              "#fb9f3a"
             ],
             [
              0.8888888888888888,
              "#fdca26"
             ],
             [
              1,
              "#f0f921"
             ]
            ],
            "type":"contour"
           }
          ],
          "contourcarpet":[
           {
            "colorbar":{
             "outlinewidth":0,
             "ticks":""
            },
            "type":"contourcarpet"
           }
          ],
          "heatmap":[
           {
            "colorbar":{
             "outlinewidth":0,
             "ticks":""
            },
            "colorscale":[
             [
              0,
              "#0d0887"
             ],
             [
              0.1111111111111111,
              "#46039f"
             ],
             [
              0.2222222222222222,
              "#7201a8"
             ],
             [
              0.3333333333333333,
              "#9c179e"
             ],
             [
              0.4444444444444444,
              "#bd3786"
             ],
             [
              0.5555555555555556,
              "#d8576b"
             ],
             [
              0.6666666666666666,
              "#ed7953"
             ],
             [
              0.7777777777777778,
              "#fb9f3a"
             ],
             [
              0.8888888888888888,
              "#fdca26"
             ],
             [
              1,
              "#f0f921"
             ]
            ],
            "type":"heatmap"
           }
          ],
          "heatmapgl":[
           {
            "colorbar":{
             "outlinewidth":0,
             "ticks":""
            },
            "colorscale":[
             [
              0,
              "#0d0887"
             ],
             [
              0.1111111111111111,
              "#46039f"
             ],
             [
              0.2222222222222222,
              "#7201a8"
             ],
             [
              0.3333333333333333,
              "#9c179e"
             ],
             [
              0.4444444444444444,
              "#bd3786"
             ],
             [
              0.5555555555555556,
              "#d8576b"
             ],
             [
              0.6666666666666666,
              "#ed7953"
             ],
             [
              0.7777777777777778,
              "#fb9f3a"
             ],
             [
              0.8888888888888888,
              "#fdca26"
             ],
             [
              1,
              "#f0f921"
             ]
            ],
            "type":"heatmapgl"
           }
          ],
          "histogram":[
           {
            "marker":{
             "pattern":{
              "fillmode":"overlay",
              "size":10,
              "solidity":0.2
             }
            },
            "type":"histogram"
           }
          ],
          "histogram2d":[
           {
            "colorbar":{
             "outlinewidth":0,
             "ticks":""
            },
            "colorscale":[
             [
              0,
              "#0d0887"
             ],
             [
              0.1111111111111111,
              "#46039f"
             ],
             [
              0.2222222222222222,
              "#7201a8"
             ],
             [
              0.3333333333333333,
              "#9c179e"
             ],
             [
              0.4444444444444444,
              "#bd3786"
             ],
             [
              0.5555555555555556,
              "#d8576b"
             ],
             [
              0.6666666666666666,
              "#ed7953"
             ],
             [
              0.7777777777777778,
              "#fb9f3a"
             ],
             [
              0.8888888888888888,
              "#fdca26"
             ],
             [
              1,
              "#f0f921"
             ]
            ],
            "type":"histogram2d"
           }
          ],
          "histogram2dcontour":[
           {
            "colorbar":{
             "outlinewidth":0,
             "ticks":""
            },
            "colorscale":[
             [
              0,
              "#0d0887"
             ],
             [
              0.1111111111111111,
              "#46039f"
             ],
             [
              0.2222222222222222,
              "#7201a8"
             ],
             [
              0.3333333333333333,
              "#9c179e"
             ],
             [
              0.4444444444444444,
              "#bd3786"
             ],
             [
              0.5555555555555556,
              "#d8576b"
             ],
             [
              0.6666666666666666,
              "#ed7953"
             ],
             [
              0.7777777777777778,
              "#fb9f3a"
             ],
             [
              0.8888888888888888,
              "#fdca26"
             ],
             [
              1,
              "#f0f921"
             ]
            ],
            "type":"histogram2dcontour"
           }
          ],
          "mesh3d":[
           {
            "colorbar":{
             "outlinewidth":0,
             "ticks":""
            },
            "type":"mesh3d"
           }
          ],
          "parcoords":[
           {
            "line":{
             "colorbar":{
              "outlinewidth":0,
              "ticks":""
             }
            },
            "type":"parcoords"
           }
          ],
          "pie":[
           {
            "automargin":true,
            "type":"pie"
           }
          ],
          "scatter":[
           {
            "marker":{
             "colorbar":{
              "outlinewidth":0,
              "ticks":""
             }
            },
            "type":"scatter"
           }
          ],
          "scatter3d":[
           {
            "line":{
             "colorbar":{
              "outlinewidth":0,
              "ticks":""
             }
            },
            "marker":{
             "colorbar":{
              "outlinewidth":0,
              "ticks":""
             }
            },
            "type":"scatter3d"
           }
          ],
          "scattercarpet":[
           {
            "marker":{
             "colorbar":{
              "outlinewidth":0,
              "ticks":""
             }
            },
            "type":"scattercarpet"
           }
          ],
          "scattergeo":[
           {
            "marker":{
             "colorbar":{
              "outlinewidth":0,
              "ticks":""
             }
            },
            "type":"scattergeo"
           }
          ],
          "scattergl":[
           {
            "marker":{
             "colorbar":{
              "outlinewidth":0,
              "ticks":""
             }
            },
            "type":"scattergl"
           }
          ],
          "scattermapbox":[
           {
            "marker":{
             "colorbar":{
              "outlinewidth":0,
              "ticks":""
             }
            },
            "type":"scattermapbox"
           }
          ],
          "scatterpolar":[
           {
            "marker":{
             "colorbar":{
              "outlinewidth":0,
              "ticks":""
             }
            },
            "type":"scatterpolar"
           }
          ],
          "scatterpolargl":[
           {
            "marker":{
             "colorbar":{
              "outlinewidth":0,
              "ticks":""
             }
            },
            "type":"scatterpolargl"
           }
          ],
          "scatterternary":[
           {
            "marker":{
             "colorbar":{
              "outlinewidth":0,
              "ticks":""
             }
            },
            "type":"scatterternary"
           }
          ],
          "surface":[
           {
            "colorbar":{
             "outlinewidth":0,
             "ticks":""
            },
            "colorscale":[
             [
              0,
              "#0d0887"
             ],
             [
              0.1111111111111111,
              "#46039f"
             ],
             [
              0.2222222222222222,
              "#7201a8"
             ],
             [
              0.3333333333333333,
              "#9c179e"
             ],
             [
              0.4444444444444444,
              "#bd3786"
             ],
             [
              0.5555555555555556,
              "#d8576b"
             ],
             [
              0.6666666666666666,
              "#ed7953"
             ],
             [
              0.7777777777777778,
              "#fb9f3a"
             ],
             [
              0.8888888888888888,
              "#fdca26"
             ],
             [
              1,
              "#f0f921"
             ]
            ],
            "type":"surface"
           }
          ],
          "table":[
           {
            "cells":{
             "fill":{
              "color":"#EBF0F8"
             },
             "line":{
              "color":"white"
             }
            },
            "header":{
             "fill":{
              "color":"#C8D4E3"
             },
             "line":{
              "color":"white"
             }
            },
            "type":"table"
           }
          ]
         },
         "layout":{
          "annotationdefaults":{
           "arrowcolor":"#2a3f5f",
           "arrowhead":0,
           "arrowwidth":1
          },
          "autotypenumbers":"strict",
          "coloraxis":{
           "colorbar":{
            "outlinewidth":0,
            "ticks":""
           }
          },
          "colorscale":{
           "diverging":[
            [
             0,
             "#8e0152"
            ],
            [
             0.1,
             "#c51b7d"
            ],
            [
             0.2,
             "#de77ae"
            ],
            [
             0.3,
             "#f1b6da"
            ],
            [
             0.4,
             "#fde0ef"
            ],
            [
             0.5,
             "#f7f7f7"
            ],
            [
             0.6,
             "#e6f5d0"
            ],
            [
             0.7,
             "#b8e186"
            ],
            [
             0.8,
             "#7fbc41"
            ],
            [
             0.9,
             "#4d9221"
            ],
            [
             1,
             "#276419"
            ]
           ],
           "sequential":[
            [
             0,
             "#0d0887"
            ],
            [
             0.1111111111111111,
             "#46039f"
            ],
            [
             0.2222222222222222,
             "#7201a8"
            ],
            [
             0.3333333333333333,
             "#9c179e"
            ],
            [
             0.4444444444444444,
             "#bd3786"
            ],
            [
             0.5555555555555556,
             "#d8576b"
            ],
            [
             0.6666666666666666,
             "#ed7953"
            ],
            [
             0.7777777777777778,
             "#fb9f3a"
            ],
            [
             0.8888888888888888,
             "#fdca26"
            ],
            [
             1,
             "#f0f921"
            ]
           ],
           "sequentialminus":[
            [
             0,
             "#0d0887"
            ],
            [
             0.1111111111111111,
             "#46039f"
            ],
            [
             0.2222222222222222,
             "#7201a8"
            ],
            [
             0.3333333333333333,
             "#9c179e"
            ],
            [
             0.4444444444444444,
             "#bd3786"
            ],
            [
             0.5555555555555556,
             "#d8576b"
            ],
            [
             0.6666666666666666,
             "#ed7953"
            ],
            [
             0.7777777777777778,
             "#fb9f3a"
            ],
            [
             0.8888888888888888,
             "#fdca26"
            ],
            [
             1,
             "#f0f921"
            ]
           ]
          },
          "colorway":[
           "#636efa",
           "#EF553B",
           "#00cc96",
           "#ab63fa",
           "#FFA15A",
           "#19d3f3",
           "#FF6692",
           "#B6E880",
           "#FF97FF",
           "#FECB52"
          ],
          "font":{
           "color":"#2a3f5f"
          },
          "geo":{
           "bgcolor":"white",
           "lakecolor":"white",
           "landcolor":"#E5ECF6",
           "showlakes":true,
           "showland":true,
           "subunitcolor":"white"
          },
          "hoverlabel":{
           "align":"left"
          },
          "hovermode":"closest",
          "mapbox":{
           "style":"light"
          },
          "paper_bgcolor":"white",
          "plot_bgcolor":"#E5ECF6",
          "polar":{
           "angularaxis":{
            "gridcolor":"white",
            "linecolor":"white",
            "ticks":""
           },
           "bgcolor":"#E5ECF6",
           "radialaxis":{
            "gridcolor":"white",
            "linecolor":"white",
            "ticks":""
           }
          },
          "scene":{
           "xaxis":{
            "backgroundcolor":"#E5ECF6",
            "gridcolor":"white",
            "gridwidth":2,
            "linecolor":"white",
            "showbackground":true,
            "ticks":"",
            "zerolinecolor":"white"
           },
           "yaxis":{
            "backgroundcolor":"#E5ECF6",
            "gridcolor":"white",
            "gridwidth":2,
            "linecolor":"white",
            "showbackground":true,
            "ticks":"",
            "zerolinecolor":"white"
           },
           "zaxis":{
            "backgroundcolor":"#E5ECF6",
            "gridcolor":"white",
            "gridwidth":2,
            "linecolor":"white",
            "showbackground":true,
            "ticks":"",
            "zerolinecolor":"white"
           }
          },
          "shapedefaults":{
           "line":{
            "color":"#2a3f5f"
           }
          },
          "ternary":{
           "aaxis":{
            "gridcolor":"white",
            "linecolor":"white",
            "ticks":""
           },
           "baxis":{
            "gridcolor":"white",
            "linecolor":"white",
            "ticks":""
           },
           "bgcolor":"#E5ECF6",
           "caxis":{
            "gridcolor":"white",
            "linecolor":"white",
            "ticks":""
           }
          },
          "title":{
           "x":0.05
          },
          "xaxis":{
           "automargin":true,
           "gridcolor":"white",
           "linecolor":"white",
           "ticks":"",
           "title":{
            "standoff":15
           },
           "zerolinecolor":"white",
           "zerolinewidth":2
          },
          "yaxis":{
           "automargin":true,
           "gridcolor":"white",
           "linecolor":"white",
           "ticks":"",
           "title":{
            "standoff":15
           },
           "zerolinecolor":"white",
           "zerolinewidth":2
          }
         }
        },
        "xaxis":{
         "title":{
          "text":"Размер матрицы"
         }
        },
        "yaxis":{
         "title":{
          "text":"Число обусловленности"
         },
         "tickformat":".2e"
        },
        "title":{
         "text":"Зависимость числа обусловленности от размера матрицы"
        }
       },
       "config":{
        "plotlyServerURL":"https:\/\/plot.ly"
       }
      }
     },
     "metadata":{
      
     },
     "output_type":"display_data"
    }
   ],
   "metadata":{
    "datalore":{
     "type":"CODE",
     "hide_input_from_viewers":false,
     "hide_output_from_viewers":false,
     "node_id":"3Jg2ALmmYPaF3nA2Rz4s1O"
    }
   }
  },
  {
   "cell_type":"code",
   "source":[
    "draw_compare_plot_for_size_and_error(hilbert_data)"
   ],
   "execution_count":20,
   "outputs":[
    {
     "data":{
      "application\/vnd.plotly.v1+json":{
       "data":[
        {
         "x":[
          2,
          3,
          4,
          5,
          6,
          7,
          8,
          9,
          10,
          11,
          12,
          13,
          14,
          15,
          16,
          17,
          18,
          19,
          20,
          21,
          22,
          23,
          24,
          25,
          26,
          27,
          28,
          29,
          30,
          31,
          32,
          33,
          34,
          35,
          36,
          37,
          38,
          39,
          40,
          41,
          42,
          43,
          44,
          45,
          46,
          47,
          48,
          49,
          50,
          51,
          52,
          53,
          54,
          55,
          56,
          57,
          58,
          59,
          60,
          61,
          62,
          63,
          64,
          65,
          66,
          67,
          68,
          69,
          70,
          71,
          72,
          73,
          74,
          75,
          76,
          77,
          78,
          79,
          80,
          81,
          82,
          83,
          84,
          85,
          86,
          87,
          88,
          89,
          90,
          91,
          92,
          93,
          94,
          95,
          96,
          97,
          98,
          99
         ],
         "y":[
          8.005932084973442E-16,
          1.0934428697813141E-15,
          1.1102230246251565E-15,
          1.2789243749005328E-11,
          4.5648307860943006E-10,
          2.38904270241515E-8,
          1.5992066675040628E-6,
          2.9812908211511825E-6,
          5.487956063071432E-6,
          4.539038435766395E-6,
          2.8276028501618378E-5,
          3.0563044304509396E-6,
          2.967971485440614E-6,
          3.9220137735915074E-6,
          2.2743474908561793E-6,
          4.9203193356998725E-6,
          6.629791864873813E-6,
          1.261528791652784E-4,
          1.7373711400425864E-5,
          2.0443686736608894E-5,
          1.3735962742044111E-5,
          1.3395026738405137E-5,
          2.8949055092305477E-5,
          2.2779304492273487E-5,
          8.873141377338313E-5,
          5.643279058906462E-4,
          4.938519793401587E-4,
          1.344680916405183E-4,
          4.917013218613848E-5,
          2.3338933853698434E-5,
          9.949234890050843E-6,
          1.5837022652000102E-5,
          2.0036282932859788E-5,
          7.11707415815741E-5,
          1.608381635511562E-5,
          4.2700673051949705E-5,
          4.40028454737162E-5,
          2.2250893201955618E-5,
          2.910698149306436E-5,
          5.140785606235926E-5,
          6.876869900211809E-5,
          1.8197137425945368E-5,
          4.087230089901293E-5,
          2.4504662500346288E-5,
          9.73756948482995E-5,
          4.596273424600371E-5,
          3.7828154438282235E-5,
          2.8920399530767178E-5,
          2.4172000744228675E-5,
          4.523815634139954E-5,
          1.5661421346789932E-5,
          2.369120310646652E-5,
          1.577494105523206E-5,
          1.3950192021678035E-5,
          3.216078422948425E-5,
          1.1007902942764745E-5,
          1.9730942499610697E-4,
          2.1432910851156504E-5,
          1.850993738806028E-5,
          2.6415515141854318E-5,
          1.6204259047112208E-5,
          2.2372363971748914E-5,
          1.9354131527199452E-5,
          3.41299012501685E-5,
          2.9121565787365924E-5,
          2.0079022684908567E-5,
          1.9510031590859654E-4,
          2.0074688939834812E-5,
          1.655321331662393E-5,
          0.03801120038793298,
          5.595651878252769E-5,
          2.4244374416033815E-5,
          2.1340851195854875E-5,
          1.9958176941670847E-5,
          2.0831646986243183E-5,
          4.197322082014545E-5,
          2.6916294138957583E-5,
          2.3797460743937593E-5,
          3.300052439123791E-5,
          3.248403205186206E-5,
          4.4220379425403375E-4,
          8.619459220331023E-4,
          1.6628799481957214E-4,
          2.725892047154995E-5,
          1.9254384663111072E-4,
          1.757891022455482E-5,
          2.431529959191331E-5,
          9.56443120771799E-5,
          2.120993535890647E-5,
          2.320141863469502E-5,
          1.8866893509384027E-5,
          9.621774318574636E-5,
          2.1305740789556176E-5,
          1.9331590944729018E-5,
          3.103560627015721E-5,
          2.8853666630533707E-4,
          3.800683143886311E-5,
          2.68225980241896E-5
         ],
         "type":"scatter"
        }
       ],
       "layout":{
        "template":{
         "data":{
          "bar":[
           {
            "error_x":{
             "color":"#2a3f5f"
            },
            "error_y":{
             "color":"#2a3f5f"
            },
            "marker":{
             "line":{
              "color":"#E5ECF6",
              "width":0.5
             },
             "pattern":{
              "fillmode":"overlay",
              "size":10,
              "solidity":0.2
             }
            },
            "type":"bar"
           }
          ],
          "barpolar":[
           {
            "marker":{
             "line":{
              "color":"#E5ECF6",
              "width":0.5
             },
             "pattern":{
              "fillmode":"overlay",
              "size":10,
              "solidity":0.2
             }
            },
            "type":"barpolar"
           }
          ],
          "carpet":[
           {
            "aaxis":{
             "endlinecolor":"#2a3f5f",
             "gridcolor":"white",
             "linecolor":"white",
             "minorgridcolor":"white",
             "startlinecolor":"#2a3f5f"
            },
            "baxis":{
             "endlinecolor":"#2a3f5f",
             "gridcolor":"white",
             "linecolor":"white",
             "minorgridcolor":"white",
             "startlinecolor":"#2a3f5f"
            },
            "type":"carpet"
           }
          ],
          "choropleth":[
           {
            "colorbar":{
             "outlinewidth":0,
             "ticks":""
            },
            "type":"choropleth"
           }
          ],
          "contour":[
           {
            "colorbar":{
             "outlinewidth":0,
             "ticks":""
            },
            "colorscale":[
             [
              0,
              "#0d0887"
             ],
             [
              0.1111111111111111,
              "#46039f"
             ],
             [
              0.2222222222222222,
              "#7201a8"
             ],
             [
              0.3333333333333333,
              "#9c179e"
             ],
             [
              0.4444444444444444,
              "#bd3786"
             ],
             [
              0.5555555555555556,
              "#d8576b"
             ],
             [
              0.6666666666666666,
              "#ed7953"
             ],
             [
              0.7777777777777778,
              "#fb9f3a"
             ],
             [
              0.8888888888888888,
              "#fdca26"
             ],
             [
              1,
              "#f0f921"
             ]
            ],
            "type":"contour"
           }
          ],
          "contourcarpet":[
           {
            "colorbar":{
             "outlinewidth":0,
             "ticks":""
            },
            "type":"contourcarpet"
           }
          ],
          "heatmap":[
           {
            "colorbar":{
             "outlinewidth":0,
             "ticks":""
            },
            "colorscale":[
             [
              0,
              "#0d0887"
             ],
             [
              0.1111111111111111,
              "#46039f"
             ],
             [
              0.2222222222222222,
              "#7201a8"
             ],
             [
              0.3333333333333333,
              "#9c179e"
             ],
             [
              0.4444444444444444,
              "#bd3786"
             ],
             [
              0.5555555555555556,
              "#d8576b"
             ],
             [
              0.6666666666666666,
              "#ed7953"
             ],
             [
              0.7777777777777778,
              "#fb9f3a"
             ],
             [
              0.8888888888888888,
              "#fdca26"
             ],
             [
              1,
              "#f0f921"
             ]
            ],
            "type":"heatmap"
           }
          ],
          "heatmapgl":[
           {
            "colorbar":{
             "outlinewidth":0,
             "ticks":""
            },
            "colorscale":[
             [
              0,
              "#0d0887"
             ],
             [
              0.1111111111111111,
              "#46039f"
             ],
             [
              0.2222222222222222,
              "#7201a8"
             ],
             [
              0.3333333333333333,
              "#9c179e"
             ],
             [
              0.4444444444444444,
              "#bd3786"
             ],
             [
              0.5555555555555556,
              "#d8576b"
             ],
             [
              0.6666666666666666,
              "#ed7953"
             ],
             [
              0.7777777777777778,
              "#fb9f3a"
             ],
             [
              0.8888888888888888,
              "#fdca26"
             ],
             [
              1,
              "#f0f921"
             ]
            ],
            "type":"heatmapgl"
           }
          ],
          "histogram":[
           {
            "marker":{
             "pattern":{
              "fillmode":"overlay",
              "size":10,
              "solidity":0.2
             }
            },
            "type":"histogram"
           }
          ],
          "histogram2d":[
           {
            "colorbar":{
             "outlinewidth":0,
             "ticks":""
            },
            "colorscale":[
             [
              0,
              "#0d0887"
             ],
             [
              0.1111111111111111,
              "#46039f"
             ],
             [
              0.2222222222222222,
              "#7201a8"
             ],
             [
              0.3333333333333333,
              "#9c179e"
             ],
             [
              0.4444444444444444,
              "#bd3786"
             ],
             [
              0.5555555555555556,
              "#d8576b"
             ],
             [
              0.6666666666666666,
              "#ed7953"
             ],
             [
              0.7777777777777778,
              "#fb9f3a"
             ],
             [
              0.8888888888888888,
              "#fdca26"
             ],
             [
              1,
              "#f0f921"
             ]
            ],
            "type":"histogram2d"
           }
          ],
          "histogram2dcontour":[
           {
            "colorbar":{
             "outlinewidth":0,
             "ticks":""
            },
            "colorscale":[
             [
              0,
              "#0d0887"
             ],
             [
              0.1111111111111111,
              "#46039f"
             ],
             [
              0.2222222222222222,
              "#7201a8"
             ],
             [
              0.3333333333333333,
              "#9c179e"
             ],
             [
              0.4444444444444444,
              "#bd3786"
             ],
             [
              0.5555555555555556,
              "#d8576b"
             ],
             [
              0.6666666666666666,
              "#ed7953"
             ],
             [
              0.7777777777777778,
              "#fb9f3a"
             ],
             [
              0.8888888888888888,
              "#fdca26"
             ],
             [
              1,
              "#f0f921"
             ]
            ],
            "type":"histogram2dcontour"
           }
          ],
          "mesh3d":[
           {
            "colorbar":{
             "outlinewidth":0,
             "ticks":""
            },
            "type":"mesh3d"
           }
          ],
          "parcoords":[
           {
            "line":{
             "colorbar":{
              "outlinewidth":0,
              "ticks":""
             }
            },
            "type":"parcoords"
           }
          ],
          "pie":[
           {
            "automargin":true,
            "type":"pie"
           }
          ],
          "scatter":[
           {
            "marker":{
             "colorbar":{
              "outlinewidth":0,
              "ticks":""
             }
            },
            "type":"scatter"
           }
          ],
          "scatter3d":[
           {
            "line":{
             "colorbar":{
              "outlinewidth":0,
              "ticks":""
             }
            },
            "marker":{
             "colorbar":{
              "outlinewidth":0,
              "ticks":""
             }
            },
            "type":"scatter3d"
           }
          ],
          "scattercarpet":[
           {
            "marker":{
             "colorbar":{
              "outlinewidth":0,
              "ticks":""
             }
            },
            "type":"scattercarpet"
           }
          ],
          "scattergeo":[
           {
            "marker":{
             "colorbar":{
              "outlinewidth":0,
              "ticks":""
             }
            },
            "type":"scattergeo"
           }
          ],
          "scattergl":[
           {
            "marker":{
             "colorbar":{
              "outlinewidth":0,
              "ticks":""
             }
            },
            "type":"scattergl"
           }
          ],
          "scattermapbox":[
           {
            "marker":{
             "colorbar":{
              "outlinewidth":0,
              "ticks":""
             }
            },
            "type":"scattermapbox"
           }
          ],
          "scatterpolar":[
           {
            "marker":{
             "colorbar":{
              "outlinewidth":0,
              "ticks":""
             }
            },
            "type":"scatterpolar"
           }
          ],
          "scatterpolargl":[
           {
            "marker":{
             "colorbar":{
              "outlinewidth":0,
              "ticks":""
             }
            },
            "type":"scatterpolargl"
           }
          ],
          "scatterternary":[
           {
            "marker":{
             "colorbar":{
              "outlinewidth":0,
              "ticks":""
             }
            },
            "type":"scatterternary"
           }
          ],
          "surface":[
           {
            "colorbar":{
             "outlinewidth":0,
             "ticks":""
            },
            "colorscale":[
             [
              0,
              "#0d0887"
             ],
             [
              0.1111111111111111,
              "#46039f"
             ],
             [
              0.2222222222222222,
              "#7201a8"
             ],
             [
              0.3333333333333333,
              "#9c179e"
             ],
             [
              0.4444444444444444,
              "#bd3786"
             ],
             [
              0.5555555555555556,
              "#d8576b"
             ],
             [
              0.6666666666666666,
              "#ed7953"
             ],
             [
              0.7777777777777778,
              "#fb9f3a"
             ],
             [
              0.8888888888888888,
              "#fdca26"
             ],
             [
              1,
              "#f0f921"
             ]
            ],
            "type":"surface"
           }
          ],
          "table":[
           {
            "cells":{
             "fill":{
              "color":"#EBF0F8"
             },
             "line":{
              "color":"white"
             }
            },
            "header":{
             "fill":{
              "color":"#C8D4E3"
             },
             "line":{
              "color":"white"
             }
            },
            "type":"table"
           }
          ]
         },
         "layout":{
          "annotationdefaults":{
           "arrowcolor":"#2a3f5f",
           "arrowhead":0,
           "arrowwidth":1
          },
          "autotypenumbers":"strict",
          "coloraxis":{
           "colorbar":{
            "outlinewidth":0,
            "ticks":""
           }
          },
          "colorscale":{
           "diverging":[
            [
             0,
             "#8e0152"
            ],
            [
             0.1,
             "#c51b7d"
            ],
            [
             0.2,
             "#de77ae"
            ],
            [
             0.3,
             "#f1b6da"
            ],
            [
             0.4,
             "#fde0ef"
            ],
            [
             0.5,
             "#f7f7f7"
            ],
            [
             0.6,
             "#e6f5d0"
            ],
            [
             0.7,
             "#b8e186"
            ],
            [
             0.8,
             "#7fbc41"
            ],
            [
             0.9,
             "#4d9221"
            ],
            [
             1,
             "#276419"
            ]
           ],
           "sequential":[
            [
             0,
             "#0d0887"
            ],
            [
             0.1111111111111111,
             "#46039f"
            ],
            [
             0.2222222222222222,
             "#7201a8"
            ],
            [
             0.3333333333333333,
             "#9c179e"
            ],
            [
             0.4444444444444444,
             "#bd3786"
            ],
            [
             0.5555555555555556,
             "#d8576b"
            ],
            [
             0.6666666666666666,
             "#ed7953"
            ],
            [
             0.7777777777777778,
             "#fb9f3a"
            ],
            [
             0.8888888888888888,
             "#fdca26"
            ],
            [
             1,
             "#f0f921"
            ]
           ],
           "sequentialminus":[
            [
             0,
             "#0d0887"
            ],
            [
             0.1111111111111111,
             "#46039f"
            ],
            [
             0.2222222222222222,
             "#7201a8"
            ],
            [
             0.3333333333333333,
             "#9c179e"
            ],
            [
             0.4444444444444444,
             "#bd3786"
            ],
            [
             0.5555555555555556,
             "#d8576b"
            ],
            [
             0.6666666666666666,
             "#ed7953"
            ],
            [
             0.7777777777777778,
             "#fb9f3a"
            ],
            [
             0.8888888888888888,
             "#fdca26"
            ],
            [
             1,
             "#f0f921"
            ]
           ]
          },
          "colorway":[
           "#636efa",
           "#EF553B",
           "#00cc96",
           "#ab63fa",
           "#FFA15A",
           "#19d3f3",
           "#FF6692",
           "#B6E880",
           "#FF97FF",
           "#FECB52"
          ],
          "font":{
           "color":"#2a3f5f"
          },
          "geo":{
           "bgcolor":"white",
           "lakecolor":"white",
           "landcolor":"#E5ECF6",
           "showlakes":true,
           "showland":true,
           "subunitcolor":"white"
          },
          "hoverlabel":{
           "align":"left"
          },
          "hovermode":"closest",
          "mapbox":{
           "style":"light"
          },
          "paper_bgcolor":"white",
          "plot_bgcolor":"#E5ECF6",
          "polar":{
           "angularaxis":{
            "gridcolor":"white",
            "linecolor":"white",
            "ticks":""
           },
           "bgcolor":"#E5ECF6",
           "radialaxis":{
            "gridcolor":"white",
            "linecolor":"white",
            "ticks":""
           }
          },
          "scene":{
           "xaxis":{
            "backgroundcolor":"#E5ECF6",
            "gridcolor":"white",
            "gridwidth":2,
            "linecolor":"white",
            "showbackground":true,
            "ticks":"",
            "zerolinecolor":"white"
           },
           "yaxis":{
            "backgroundcolor":"#E5ECF6",
            "gridcolor":"white",
            "gridwidth":2,
            "linecolor":"white",
            "showbackground":true,
            "ticks":"",
            "zerolinecolor":"white"
           },
           "zaxis":{
            "backgroundcolor":"#E5ECF6",
            "gridcolor":"white",
            "gridwidth":2,
            "linecolor":"white",
            "showbackground":true,
            "ticks":"",
            "zerolinecolor":"white"
           }
          },
          "shapedefaults":{
           "line":{
            "color":"#2a3f5f"
           }
          },
          "ternary":{
           "aaxis":{
            "gridcolor":"white",
            "linecolor":"white",
            "ticks":""
           },
           "baxis":{
            "gridcolor":"white",
            "linecolor":"white",
            "ticks":""
           },
           "bgcolor":"#E5ECF6",
           "caxis":{
            "gridcolor":"white",
            "linecolor":"white",
            "ticks":""
           }
          },
          "title":{
           "x":0.05
          },
          "xaxis":{
           "automargin":true,
           "gridcolor":"white",
           "linecolor":"white",
           "ticks":"",
           "title":{
            "standoff":15
           },
           "zerolinecolor":"white",
           "zerolinewidth":2
          },
          "yaxis":{
           "automargin":true,
           "gridcolor":"white",
           "linecolor":"white",
           "ticks":"",
           "title":{
            "standoff":15
           },
           "zerolinecolor":"white",
           "zerolinewidth":2
          }
         }
        },
        "xaxis":{
         "title":{
          "text":"Размер матрицы"
         }
        },
        "yaxis":{
         "title":{
          "text":"Ошибка"
         },
         "tickformat":".2e"
        },
        "title":{
         "text":"Зависимость ошибки от размера матрицы"
        }
       },
       "config":{
        "plotlyServerURL":"https:\/\/plot.ly"
       }
      }
     },
     "metadata":{
      
     },
     "output_type":"display_data"
    }
   ],
   "metadata":{
    "datalore":{
     "type":"CODE",
     "hide_input_from_viewers":false,
     "hide_output_from_viewers":false,
     "node_id":"ge1oGS1n8HADvQ8yojrSXB"
    }
   }
  },
  {
   "cell_type":"markdown",
   "source":[
    "# Регуляризация"
   ],
   "attachments":{
    
   },
   "metadata":{
    "datalore":{
     "type":"MD",
     "hide_input_from_viewers":false,
     "hide_output_from_viewers":false,
     "node_id":"aSeXExE4Ml6GIVQWjfpJQy"
    }
   }
  },
  {
   "cell_type":"code",
   "source":[
    "def run_benchmark_with_regularization(\n",
    "        matrix,\n",
    "        right_part,\n",
    "        expected_solution,\n",
    "        alpha,\n",
    "        condition_number_type: ConditionNumberType = ConditionNumberType.AngleCondition\n",
    "):\n",
    "    regularized_matrix = matrix + alpha * np.eye(matrix.shape[0])\n",
    "\n",
    "    return pd.concat(\n",
    "        [\n",
    "            run_benchmark(matrix, right_part, expected_solution, condition_number_type),\n",
    "            run_benchmark(regularized_matrix, right_part, expected_solution, condition_number_type),\n",
    "        ],\n",
    "        ignore_index=True,\n",
    "    )"
   ],
   "execution_count":21,
   "outputs":[
    
   ],
   "metadata":{
    "datalore":{
     "type":"CODE",
     "hide_input_from_viewers":false,
     "hide_output_from_viewers":false,
     "node_id":"bsawBNySYa1FB3iyzRkMm9"
    }
   }
  },
  {
   "cell_type":"code",
   "source":[
    "regularization_data = pd.DataFrame(product(range(15, 100), [10 ** -i for i in range(1, 13)]), columns=[matrix_size_name, alpha_column_name])\n",
    "regularization_data[\n",
    "    [\n",
    "        matrix_a_condition_name, matrix_l_condition_name, matrix_u_condition_name, error_column_name, \"error\",\n",
    "        regulirized_matrix_a_condition_name, regulirized_matrix_l_condition_name, regulirized_matrix_u_condition_name, regulirized_error_column_name, \"error\"\n",
    "    ]\n",
    "] = regularization_data.apply(\n",
    "    lambda row: run_benchmark_with_regularization(*get_hilbert_linear_system(int(row[matrix_size_name])), alpha=row[alpha_column_name]),\n",
    "    axis=1,\n",
    ")\n",
    "\n",
    "regularization_data.sort_values(by=[regulirized_error_column_name])"
   ],
   "execution_count":23,
   "outputs":[
    {
     "data":{
      "text\/html":[
       "<div>\n",
       "<style scoped>\n",
       "    .dataframe tbody tr th:only-of-type {\n",
       "        vertical-align: middle;\n",
       "    }\n",
       "\n",
       "    .dataframe tbody tr th {\n",
       "        vertical-align: top;\n",
       "    }\n",
       "\n",
       "    .dataframe thead th {\n",
       "        text-align: right;\n",
       "    }\n",
       "<\/style>\n",
       "<table border=\"1\" class=\"dataframe\">\n",
       "  <thead>\n",
       "    <tr style=\"text-align: right;\">\n",
       "      <th><\/th>\n",
       "      <th>matrix_size<\/th>\n",
       "      <th>alpha<\/th>\n",
       "      <th>cond(A)<\/th>\n",
       "      <th>cond(L)<\/th>\n",
       "      <th>cond(U)<\/th>\n",
       "      <th>error<\/th>\n",
       "      <th>cond(A + alpha * E)<\/th>\n",
       "      <th>cond(reg(L))<\/th>\n",
       "      <th>cond(reg(U))<\/th>\n",
       "      <th>reg_error<\/th>\n",
       "    <\/tr>\n",
       "  <\/thead>\n",
       "  <tbody>\n",
       "    <tr>\n",
       "      <th>23<\/th>\n",
       "      <td>16<\/td>\n",
       "      <td>1.000000e-12<\/td>\n",
       "      <td>2.905487e+09<\/td>\n",
       "      <td>3.987557<\/td>\n",
       "      <td>1.451252e+03<\/td>\n",
       "      <td>0.000003<\/td>\n",
       "      <td>2.848736e+09<\/td>\n",
       "      <td>3.983247<\/td>\n",
       "      <td>1451.064439<\/td>\n",
       "      <td>0.000002<\/td>\n",
       "    <\/tr>\n",
       "    <tr>\n",
       "      <th>10<\/th>\n",
       "      <td>15<\/td>\n",
       "      <td>1.000000e-11<\/td>\n",
       "      <td>2.763266e+09<\/td>\n",
       "      <td>4.314435<\/td>\n",
       "      <td>1.333303e+03<\/td>\n",
       "      <td>0.000002<\/td>\n",
       "      <td>2.973588e+09<\/td>\n",
       "      <td>4.243693<\/td>\n",
       "      <td>1314.588613<\/td>\n",
       "      <td>0.000002<\/td>\n",
       "    <\/tr>\n",
       "    <tr>\n",
       "      <th>11<\/th>\n",
       "      <td>15<\/td>\n",
       "      <td>1.000000e-12<\/td>\n",
       "      <td>2.763266e+09<\/td>\n",
       "      <td>4.314435<\/td>\n",
       "      <td>1.333303e+03<\/td>\n",
       "      <td>0.000003<\/td>\n",
       "      <td>2.745567e+09<\/td>\n",
       "      <td>4.306196<\/td>\n",
       "      <td>1331.396012<\/td>\n",
       "      <td>0.000003<\/td>\n",
       "    <\/tr>\n",
       "    <tr>\n",
       "      <th>22<\/th>\n",
       "      <td>16<\/td>\n",
       "      <td>1.000000e-11<\/td>\n",
       "      <td>2.905487e+09<\/td>\n",
       "      <td>3.987557<\/td>\n",
       "      <td>1.451252e+03<\/td>\n",
       "      <td>0.000004<\/td>\n",
       "      <td>2.650415e+09<\/td>\n",
       "      <td>3.955770<\/td>\n",
       "      <td>1449.379601<\/td>\n",
       "      <td>0.000004<\/td>\n",
       "    <\/tr>\n",
       "    <tr>\n",
       "      <th>82<\/th>\n",
       "      <td>21<\/td>\n",
       "      <td>1.000000e-11<\/td>\n",
       "      <td>1.437210e+10<\/td>\n",
       "      <td>4.991602<\/td>\n",
       "      <td>1.175430e+04<\/td>\n",
       "      <td>0.000006<\/td>\n",
       "      <td>6.531661e+09<\/td>\n",
       "      <td>4.827413<\/td>\n",
       "      <td>11590.478216<\/td>\n",
       "      <td>0.000005<\/td>\n",
       "    <\/tr>\n",
       "    <tr>\n",
       "      <th>...<\/th>\n",
       "      <td>...<\/td>\n",
       "      <td>...<\/td>\n",
       "      <td>...<\/td>\n",
       "      <td>...<\/td>\n",
       "      <td>...<\/td>\n",
       "      <td>...<\/td>\n",
       "      <td>...<\/td>\n",
       "      <td>...<\/td>\n",
       "      <td>...<\/td>\n",
       "      <td>...<\/td>\n",
       "    <\/tr>\n",
       "    <tr>\n",
       "      <th>960<\/th>\n",
       "      <td>95<\/td>\n",
       "      <td>1.000000e-01<\/td>\n",
       "      <td>4.243491e+09<\/td>\n",
       "      <td>17.609919<\/td>\n",
       "      <td>1.577324e+06<\/td>\n",
       "      <td>1.789997<\/td>\n",
       "      <td>6.734194e+00<\/td>\n",
       "      <td>1.272030<\/td>\n",
       "      <td>1.700797<\/td>\n",
       "      <td>1.789997<\/td>\n",
       "    <\/tr>\n",
       "    <tr>\n",
       "      <th>972<\/th>\n",
       "      <td>96<\/td>\n",
       "      <td>1.000000e-01<\/td>\n",
       "      <td>1.688514e+10<\/td>\n",
       "      <td>15.771407<\/td>\n",
       "      <td>1.606054e+06<\/td>\n",
       "      <td>1.799398<\/td>\n",
       "      <td>6.734688e+00<\/td>\n",
       "      <td>1.272030<\/td>\n",
       "      <td>1.701056<\/td>\n",
       "      <td>1.799398<\/td>\n",
       "    <\/tr>\n",
       "    <tr>\n",
       "      <th>984<\/th>\n",
       "      <td>97<\/td>\n",
       "      <td>1.000000e-01<\/td>\n",
       "      <td>9.308828e+10<\/td>\n",
       "      <td>16.623039<\/td>\n",
       "      <td>1.806428e+06<\/td>\n",
       "      <td>1.808751<\/td>\n",
       "      <td>6.735172e+00<\/td>\n",
       "      <td>1.272030<\/td>\n",
       "      <td>1.701311<\/td>\n",
       "      <td>1.808751<\/td>\n",
       "    <\/tr>\n",
       "    <tr>\n",
       "      <th>996<\/th>\n",
       "      <td>98<\/td>\n",
       "      <td>1.000000e-01<\/td>\n",
       "      <td>7.069957e+09<\/td>\n",
       "      <td>18.210555<\/td>\n",
       "      <td>1.842588e+06<\/td>\n",
       "      <td>1.818055<\/td>\n",
       "      <td>6.735647e+00<\/td>\n",
       "      <td>1.272030<\/td>\n",
       "      <td>1.701560<\/td>\n",
       "      <td>1.818055<\/td>\n",
       "    <\/tr>\n",
       "    <tr>\n",
       "      <th>1008<\/th>\n",
       "      <td>99<\/td>\n",
       "      <td>1.000000e-01<\/td>\n",
       "      <td>6.349683e+09<\/td>\n",
       "      <td>16.229582<\/td>\n",
       "      <td>1.878805e+06<\/td>\n",
       "      <td>1.827311<\/td>\n",
       "      <td>6.736112e+00<\/td>\n",
       "      <td>1.272030<\/td>\n",
       "      <td>1.701804<\/td>\n",
       "      <td>1.827311<\/td>\n",
       "    <\/tr>\n",
       "  <\/tbody>\n",
       "<\/table>\n",
       "<p>1020 rows × 10 columns<\/p>\n",
       "<\/div>"
      ]
     },
     "metadata":{
      
     },
     "output_type":"display_data"
    }
   ],
   "metadata":{
    "datalore":{
     "type":"CODE",
     "hide_input_from_viewers":false,
     "hide_output_from_viewers":false,
     "node_id":"K5TjQC7hzfbl28Og9f7a41"
    }
   }
  },
  {
   "cell_type":"code",
   "source":[
    "def find_best_alpha(size, data):\n",
    "    data = data[data[matrix_size_name] == size]\n",
    "    data.reset_index(drop=True, inplace=True)\n",
    "\n",
    "    min_error_arg = data[regulirized_error_column_name].argmin()\n",
    "\n",
    "    min_error = data.loc[min_error_arg, regulirized_error_column_name]\n",
    "    alpha = data.loc[min_error_arg, alpha_column_name]\n",
    "\n",
    "    return pd.Series(\n",
    "        [\n",
    "            data.loc[min_error_arg, matrix_a_condition_name], \n",
    "            data.loc[min_error_arg, regulirized_matrix_a_condition_name], \n",
    "            alpha, \n",
    "            min_error,\n",
    "            data.loc[min_error_arg, error_column_name]\n",
    "        ]\n",
    "    )"
   ],
   "execution_count":26,
   "outputs":[
    
   ],
   "metadata":{
    "datalore":{
     "type":"CODE",
     "hide_input_from_viewers":false,
     "hide_output_from_viewers":false,
     "node_id":"7JOhaQZvoP0KQtd2vFrm9E"
    }
   }
  },
  {
   "cell_type":"code",
   "source":[
    "regularization_best_data = pd.DataFrame(range(15, 100), columns=[matrix_size_name])\n",
    "regularization_best_data[\n",
    "    [\n",
    "        matrix_a_condition_name, \n",
    "        regulirized_matrix_a_condition_name, \n",
    "        alpha_column_name, \n",
    "        regulirized_error_column_name,\n",
    "        error_column_name\n",
    "    ]\n",
    "] = regularization_best_data.apply(\n",
    "    func=lambda row: find_best_alpha(row[matrix_size_name], regularization_data),\n",
    "    axis=1,\n",
    ")\n",
    "\n",
    "regularization_best_data"
   ],
   "execution_count":29,
   "outputs":[
    {
     "data":{
      "text\/html":[
       "<div>\n",
       "<style scoped>\n",
       "    .dataframe tbody tr th:only-of-type {\n",
       "        vertical-align: middle;\n",
       "    }\n",
       "\n",
       "    .dataframe tbody tr th {\n",
       "        vertical-align: top;\n",
       "    }\n",
       "\n",
       "    .dataframe thead th {\n",
       "        text-align: right;\n",
       "    }\n",
       "<\/style>\n",
       "<table border=\"1\" class=\"dataframe\">\n",
       "  <thead>\n",
       "    <tr style=\"text-align: right;\">\n",
       "      <th><\/th>\n",
       "      <th>matrix_size<\/th>\n",
       "      <th>cond(A)<\/th>\n",
       "      <th>cond(A + alpha * E)<\/th>\n",
       "      <th>alpha<\/th>\n",
       "      <th>reg_error<\/th>\n",
       "      <th>error<\/th>\n",
       "    <\/tr>\n",
       "  <\/thead>\n",
       "  <tbody>\n",
       "    <tr>\n",
       "      <th>0<\/th>\n",
       "      <td>15<\/td>\n",
       "      <td>2.763266e+09<\/td>\n",
       "      <td>2.973588e+09<\/td>\n",
       "      <td>1.000000e-11<\/td>\n",
       "      <td>0.000002<\/td>\n",
       "      <td>0.000002<\/td>\n",
       "    <\/tr>\n",
       "    <tr>\n",
       "      <th>1<\/th>\n",
       "      <td>16<\/td>\n",
       "      <td>2.905487e+09<\/td>\n",
       "      <td>2.848736e+09<\/td>\n",
       "      <td>1.000000e-12<\/td>\n",
       "      <td>0.000002<\/td>\n",
       "      <td>0.000003<\/td>\n",
       "    <\/tr>\n",
       "    <tr>\n",
       "      <th>2<\/th>\n",
       "      <td>17<\/td>\n",
       "      <td>4.709685e+09<\/td>\n",
       "      <td>4.868018e+09<\/td>\n",
       "      <td>1.000000e-12<\/td>\n",
       "      <td>0.000006<\/td>\n",
       "      <td>0.000003<\/td>\n",
       "    <\/tr>\n",
       "    <tr>\n",
       "      <th>3<\/th>\n",
       "      <td>18<\/td>\n",
       "      <td>4.322703e+09<\/td>\n",
       "      <td>4.438588e+09<\/td>\n",
       "      <td>1.000000e-12<\/td>\n",
       "      <td>0.000006<\/td>\n",
       "      <td>0.000003<\/td>\n",
       "    <\/tr>\n",
       "    <tr>\n",
       "      <th>4<\/th>\n",
       "      <td>19<\/td>\n",
       "      <td>8.678518e+10<\/td>\n",
       "      <td>1.246350e+10<\/td>\n",
       "      <td>1.000000e-11<\/td>\n",
       "      <td>0.000027<\/td>\n",
       "      <td>0.000020<\/td>\n",
       "    <\/tr>\n",
       "    <tr>\n",
       "      <th>...<\/th>\n",
       "      <td>...<\/td>\n",
       "      <td>...<\/td>\n",
       "      <td>...<\/td>\n",
       "      <td>...<\/td>\n",
       "      <td>...<\/td>\n",
       "      <td>...<\/td>\n",
       "    <\/tr>\n",
       "    <tr>\n",
       "      <th>80<\/th>\n",
       "      <td>95<\/td>\n",
       "      <td>4.243491e+09<\/td>\n",
       "      <td>4.161102e+09<\/td>\n",
       "      <td>1.000000e-12<\/td>\n",
       "      <td>0.000014<\/td>\n",
       "      <td>0.000017<\/td>\n",
       "    <\/tr>\n",
       "    <tr>\n",
       "      <th>81<\/th>\n",
       "      <td>96<\/td>\n",
       "      <td>1.688514e+10<\/td>\n",
       "      <td>2.109636e+10<\/td>\n",
       "      <td>1.000000e-12<\/td>\n",
       "      <td>0.000017<\/td>\n",
       "      <td>0.000013<\/td>\n",
       "    <\/tr>\n",
       "    <tr>\n",
       "      <th>82<\/th>\n",
       "      <td>97<\/td>\n",
       "      <td>9.308828e+10<\/td>\n",
       "      <td>8.472507e+09<\/td>\n",
       "      <td>1.000000e-11<\/td>\n",
       "      <td>0.000044<\/td>\n",
       "      <td>0.000018<\/td>\n",
       "    <\/tr>\n",
       "    <tr>\n",
       "      <th>83<\/th>\n",
       "      <td>98<\/td>\n",
       "      <td>7.069957e+09<\/td>\n",
       "      <td>6.575438e+09<\/td>\n",
       "      <td>1.000000e-12<\/td>\n",
       "      <td>0.000022<\/td>\n",
       "      <td>0.000013<\/td>\n",
       "    <\/tr>\n",
       "    <tr>\n",
       "      <th>84<\/th>\n",
       "      <td>99<\/td>\n",
       "      <td>6.349683e+09<\/td>\n",
       "      <td>6.298211e+09<\/td>\n",
       "      <td>1.000000e-12<\/td>\n",
       "      <td>0.000041<\/td>\n",
       "      <td>0.000025<\/td>\n",
       "    <\/tr>\n",
       "  <\/tbody>\n",
       "<\/table>\n",
       "<p>85 rows × 6 columns<\/p>\n",
       "<\/div>"
      ]
     },
     "metadata":{
      
     },
     "output_type":"display_data"
    }
   ],
   "metadata":{
    "datalore":{
     "type":"CODE",
     "hide_input_from_viewers":false,
     "hide_output_from_viewers":false,
     "node_id":"90kd7yxco8ItYy9vbVtsZL"
    }
   }
  },
  {
   "cell_type":"code",
   "source":[
    "regularization_data = pd.DataFrame(product(range(15, 100), [10 ** -i for i in range(1, 13)]), columns=[matrix_size_name, alpha_column_name])\n",
    "regularization_data[\n",
    "    [\n",
    "        matrix_a_condition_name, matrix_l_condition_name, matrix_u_condition_name, error_column_name, \"error_without_decompose\",\n",
    "        regulirized_matrix_a_condition_name, regulirized_matrix_l_condition_name, regulirized_matrix_u_condition_name, regulirized_error_column_name, \"error_without_decompose\"\n",
    "    ]\n",
    "] = regularization_data.apply(\n",
    "    lambda row: run_benchmark_with_regularization(*get_hilbert_linear_system(int(row[matrix_size_name]), np.random.rand(int(row[matrix_size_name]))), alpha=row[alpha_column_name]),\n",
    "    axis=1,\n",
    ")\n",
    "\n",
    "regularization_data.sort_values(by=[regulirized_error_column_name])"
   ],
   "execution_count":30,
   "outputs":[
    {
     "data":{
      "text\/html":[
       "<div>\n",
       "<style scoped>\n",
       "    .dataframe tbody tr th:only-of-type {\n",
       "        vertical-align: middle;\n",
       "    }\n",
       "\n",
       "    .dataframe tbody tr th {\n",
       "        vertical-align: top;\n",
       "    }\n",
       "\n",
       "    .dataframe thead th {\n",
       "        text-align: right;\n",
       "    }\n",
       "<\/style>\n",
       "<table border=\"1\" class=\"dataframe\">\n",
       "  <thead>\n",
       "    <tr style=\"text-align: right;\">\n",
       "      <th><\/th>\n",
       "      <th>matrix_size<\/th>\n",
       "      <th>alpha<\/th>\n",
       "      <th>cond(A)<\/th>\n",
       "      <th>cond(L)<\/th>\n",
       "      <th>cond(U)<\/th>\n",
       "      <th>error<\/th>\n",
       "      <th>error_without_decompose<\/th>\n",
       "      <th>cond(A + alpha * E)<\/th>\n",
       "      <th>cond(reg(L))<\/th>\n",
       "      <th>cond(reg(U))<\/th>\n",
       "      <th>reg_error<\/th>\n",
       "    <\/tr>\n",
       "  <\/thead>\n",
       "  <tbody>\n",
       "    <tr>\n",
       "      <th>35<\/th>\n",
       "      <td>17<\/td>\n",
       "      <td>1.000000e-12<\/td>\n",
       "      <td>4.709685e+09<\/td>\n",
       "      <td>4.098536<\/td>\n",
       "      <td>2.416383e+03<\/td>\n",
       "      <td>0.000001<\/td>\n",
       "      <td>0.005316<\/td>\n",
       "      <td>4.868018e+09<\/td>\n",
       "      <td>4.105877<\/td>\n",
       "      <td>2.414432e+03<\/td>\n",
       "      <td>0.005317<\/td>\n",
       "    <\/tr>\n",
       "    <tr>\n",
       "      <th>11<\/th>\n",
       "      <td>15<\/td>\n",
       "      <td>1.000000e-12<\/td>\n",
       "      <td>2.763266e+09<\/td>\n",
       "      <td>4.314435<\/td>\n",
       "      <td>1.333303e+03<\/td>\n",
       "      <td>0.000002<\/td>\n",
       "      <td>0.009809<\/td>\n",
       "      <td>2.745567e+09<\/td>\n",
       "      <td>4.306196<\/td>\n",
       "      <td>1.331396e+03<\/td>\n",
       "      <td>0.009809<\/td>\n",
       "    <\/tr>\n",
       "    <tr>\n",
       "      <th>107<\/th>\n",
       "      <td>23<\/td>\n",
       "      <td>1.000000e-12<\/td>\n",
       "      <td>1.124432e+10<\/td>\n",
       "      <td>6.926743<\/td>\n",
       "      <td>1.337392e+04<\/td>\n",
       "      <td>0.000004<\/td>\n",
       "      <td>0.012473<\/td>\n",
       "      <td>1.249549e+10<\/td>\n",
       "      <td>6.889206<\/td>\n",
       "      <td>1.336448e+04<\/td>\n",
       "      <td>0.012469<\/td>\n",
       "    <\/tr>\n",
       "    <tr>\n",
       "      <th>23<\/th>\n",
       "      <td>16<\/td>\n",
       "      <td>1.000000e-12<\/td>\n",
       "      <td>2.905487e+09<\/td>\n",
       "      <td>3.987557<\/td>\n",
       "      <td>1.451252e+03<\/td>\n",
       "      <td>0.000001<\/td>\n",
       "      <td>0.013524<\/td>\n",
       "      <td>2.848736e+09<\/td>\n",
       "      <td>3.983247<\/td>\n",
       "      <td>1.451064e+03<\/td>\n",
       "      <td>0.013523<\/td>\n",
       "    <\/tr>\n",
       "    <tr>\n",
       "      <th>239<\/th>\n",
       "      <td>34<\/td>\n",
       "      <td>1.000000e-12<\/td>\n",
       "      <td>1.320643e+10<\/td>\n",
       "      <td>6.975466<\/td>\n",
       "      <td>8.552111e+04<\/td>\n",
       "      <td>0.000027<\/td>\n",
       "      <td>0.018261<\/td>\n",
       "      <td>1.552887e+10<\/td>\n",
       "      <td>6.976425<\/td>\n",
       "      <td>8.540618e+04<\/td>\n",
       "      <td>0.018257<\/td>\n",
       "    <\/tr>\n",
       "    <tr>\n",
       "      <th>...<\/th>\n",
       "      <td>...<\/td>\n",
       "      <td>...<\/td>\n",
       "      <td>...<\/td>\n",
       "      <td>...<\/td>\n",
       "      <td>...<\/td>\n",
       "      <td>...<\/td>\n",
       "      <td>...<\/td>\n",
       "      <td>...<\/td>\n",
       "      <td>...<\/td>\n",
       "      <td>...<\/td>\n",
       "      <td>...<\/td>\n",
       "    <\/tr>\n",
       "    <tr>\n",
       "      <th>765<\/th>\n",
       "      <td>78<\/td>\n",
       "      <td>1.000000e-10<\/td>\n",
       "      <td>8.509500e+09<\/td>\n",
       "      <td>11.213462<\/td>\n",
       "      <td>1.099382e+06<\/td>\n",
       "      <td>0.000015<\/td>\n",
       "      <td>109.679836<\/td>\n",
       "      <td>1.544470e+11<\/td>\n",
       "      <td>13.914609<\/td>\n",
       "      <td>1.111820e+06<\/td>\n",
       "      <td>109.679839<\/td>\n",
       "    <\/tr>\n",
       "    <tr>\n",
       "      <th>81<\/th>\n",
       "      <td>21<\/td>\n",
       "      <td>1.000000e-10<\/td>\n",
       "      <td>1.437210e+10<\/td>\n",
       "      <td>4.991602<\/td>\n",
       "      <td>1.175430e+04<\/td>\n",
       "      <td>0.000006<\/td>\n",
       "      <td>227.829477<\/td>\n",
       "      <td>1.383918e+12<\/td>\n",
       "      <td>5.833838<\/td>\n",
       "      <td>1.237145e+04<\/td>\n",
       "      <td>227.828518<\/td>\n",
       "    <\/tr>\n",
       "    <tr>\n",
       "      <th>93<\/th>\n",
       "      <td>22<\/td>\n",
       "      <td>1.000000e-10<\/td>\n",
       "      <td>1.140840e+10<\/td>\n",
       "      <td>5.065154<\/td>\n",
       "      <td>1.042490e+04<\/td>\n",
       "      <td>0.000013<\/td>\n",
       "      <td>439.866596<\/td>\n",
       "      <td>1.013815e+12<\/td>\n",
       "      <td>5.931719<\/td>\n",
       "      <td>1.275206e+04<\/td>\n",
       "      <td>439.866255<\/td>\n",
       "    <\/tr>\n",
       "    <tr>\n",
       "      <th>429<\/th>\n",
       "      <td>50<\/td>\n",
       "      <td>1.000000e-10<\/td>\n",
       "      <td>1.067737e+10<\/td>\n",
       "      <td>10.326967<\/td>\n",
       "      <td>2.392717e+05<\/td>\n",
       "      <td>0.000017<\/td>\n",
       "      <td>1116.630987<\/td>\n",
       "      <td>7.752554e+11<\/td>\n",
       "      <td>13.756792<\/td>\n",
       "      <td>2.340212e+05<\/td>\n",
       "      <td>1116.630935<\/td>\n",
       "    <\/tr>\n",
       "    <tr>\n",
       "      <th>525<\/th>\n",
       "      <td>58<\/td>\n",
       "      <td>1.000000e-10<\/td>\n",
       "      <td>1.939232e+11<\/td>\n",
       "      <td>12.517801<\/td>\n",
       "      <td>3.384273e+05<\/td>\n",
       "      <td>0.000202<\/td>\n",
       "      <td>1209.505245<\/td>\n",
       "      <td>9.205084e+11<\/td>\n",
       "      <td>11.306240<\/td>\n",
       "      <td>3.731575e+05<\/td>\n",
       "      <td>1209.504238<\/td>\n",
       "    <\/tr>\n",
       "  <\/tbody>\n",
       "<\/table>\n",
       "<p>1020 rows × 11 columns<\/p>\n",
       "<\/div>"
      ]
     },
     "metadata":{
      
     },
     "output_type":"display_data"
    }
   ],
   "metadata":{
    "datalore":{
     "type":"CODE",
     "hide_input_from_viewers":false,
     "hide_output_from_viewers":false,
     "node_id":"5joWvDomkDqtk8rBT3tx6y"
    }
   }
  },
  {
   "cell_type":"code",
   "source":[
    "regularization_best_data = pd.DataFrame(range(15, 30), columns=[matrix_size_name])\n",
    "regularization_best_data[\n",
    "    [\n",
    "        matrix_a_condition_name, \n",
    "        regulirized_matrix_a_condition_name, \n",
    "        alpha_column_name, \n",
    "        regulirized_error_column_name,\n",
    "        error_column_name,\n",
    "    ]\n",
    "] = regularization_best_data.apply(\n",
    "    func=lambda row: find_best_alpha(row[matrix_size_name], regularization_data),\n",
    "    axis=1,\n",
    ")\n",
    "\n",
    "regularization_best_data"
   ],
   "execution_count":32,
   "outputs":[
    {
     "data":{
      "text\/html":[
       "<div>\n",
       "<style scoped>\n",
       "    .dataframe tbody tr th:only-of-type {\n",
       "        vertical-align: middle;\n",
       "    }\n",
       "\n",
       "    .dataframe tbody tr th {\n",
       "        vertical-align: top;\n",
       "    }\n",
       "\n",
       "    .dataframe thead th {\n",
       "        text-align: right;\n",
       "    }\n",
       "<\/style>\n",
       "<table border=\"1\" class=\"dataframe\">\n",
       "  <thead>\n",
       "    <tr style=\"text-align: right;\">\n",
       "      <th><\/th>\n",
       "      <th>matrix_size<\/th>\n",
       "      <th>cond(A)<\/th>\n",
       "      <th>cond(A + alpha * E)<\/th>\n",
       "      <th>alpha<\/th>\n",
       "      <th>reg_error<\/th>\n",
       "      <th>error<\/th>\n",
       "    <\/tr>\n",
       "  <\/thead>\n",
       "  <tbody>\n",
       "    <tr>\n",
       "      <th>0<\/th>\n",
       "      <td>15<\/td>\n",
       "      <td>2.763266e+09<\/td>\n",
       "      <td>2.745567e+09<\/td>\n",
       "      <td>1.000000e-12<\/td>\n",
       "      <td>0.009809<\/td>\n",
       "      <td>0.000002<\/td>\n",
       "    <\/tr>\n",
       "    <tr>\n",
       "      <th>1<\/th>\n",
       "      <td>16<\/td>\n",
       "      <td>2.905487e+09<\/td>\n",
       "      <td>2.848736e+09<\/td>\n",
       "      <td>1.000000e-12<\/td>\n",
       "      <td>0.013523<\/td>\n",
       "      <td>0.000001<\/td>\n",
       "    <\/tr>\n",
       "    <tr>\n",
       "      <th>2<\/th>\n",
       "      <td>17<\/td>\n",
       "      <td>4.709685e+09<\/td>\n",
       "      <td>4.868018e+09<\/td>\n",
       "      <td>1.000000e-12<\/td>\n",
       "      <td>0.005317<\/td>\n",
       "      <td>0.000001<\/td>\n",
       "    <\/tr>\n",
       "    <tr>\n",
       "      <th>3<\/th>\n",
       "      <td>18<\/td>\n",
       "      <td>4.322703e+09<\/td>\n",
       "      <td>4.438588e+09<\/td>\n",
       "      <td>1.000000e-12<\/td>\n",
       "      <td>0.023620<\/td>\n",
       "      <td>0.000002<\/td>\n",
       "    <\/tr>\n",
       "    <tr>\n",
       "      <th>4<\/th>\n",
       "      <td>19<\/td>\n",
       "      <td>8.678518e+10<\/td>\n",
       "      <td>1.246350e+10<\/td>\n",
       "      <td>1.000000e-11<\/td>\n",
       "      <td>0.271788<\/td>\n",
       "      <td>0.000038<\/td>\n",
       "    <\/tr>\n",
       "    <tr>\n",
       "      <th>5<\/th>\n",
       "      <td>20<\/td>\n",
       "      <td>1.122898e+10<\/td>\n",
       "      <td>1.037008e+10<\/td>\n",
       "      <td>1.000000e-12<\/td>\n",
       "      <td>0.025147<\/td>\n",
       "      <td>0.000004<\/td>\n",
       "    <\/tr>\n",
       "    <tr>\n",
       "      <th>6<\/th>\n",
       "      <td>21<\/td>\n",
       "      <td>1.437210e+10<\/td>\n",
       "      <td>1.276320e+10<\/td>\n",
       "      <td>1.000000e-12<\/td>\n",
       "      <td>0.019135<\/td>\n",
       "      <td>0.000009<\/td>\n",
       "    <\/tr>\n",
       "    <tr>\n",
       "      <th>7<\/th>\n",
       "      <td>22<\/td>\n",
       "      <td>1.140840e+10<\/td>\n",
       "      <td>1.026542e+10<\/td>\n",
       "      <td>1.000000e-12<\/td>\n",
       "      <td>0.044431<\/td>\n",
       "      <td>0.000006<\/td>\n",
       "    <\/tr>\n",
       "    <tr>\n",
       "      <th>8<\/th>\n",
       "      <td>23<\/td>\n",
       "      <td>1.124432e+10<\/td>\n",
       "      <td>1.249549e+10<\/td>\n",
       "      <td>1.000000e-12<\/td>\n",
       "      <td>0.012469<\/td>\n",
       "      <td>0.000004<\/td>\n",
       "    <\/tr>\n",
       "    <tr>\n",
       "      <th>9<\/th>\n",
       "      <td>24<\/td>\n",
       "      <td>6.347834e+09<\/td>\n",
       "      <td>6.706288e+09<\/td>\n",
       "      <td>1.000000e-12<\/td>\n",
       "      <td>0.029062<\/td>\n",
       "      <td>0.000002<\/td>\n",
       "    <\/tr>\n",
       "    <tr>\n",
       "      <th>10<\/th>\n",
       "      <td>25<\/td>\n",
       "      <td>7.427095e+09<\/td>\n",
       "      <td>6.901987e+09<\/td>\n",
       "      <td>1.000000e-12<\/td>\n",
       "      <td>0.050163<\/td>\n",
       "      <td>0.000003<\/td>\n",
       "    <\/tr>\n",
       "    <tr>\n",
       "      <th>11<\/th>\n",
       "      <td>26<\/td>\n",
       "      <td>4.147998e+10<\/td>\n",
       "      <td>2.760121e+10<\/td>\n",
       "      <td>1.000000e-12<\/td>\n",
       "      <td>0.188355<\/td>\n",
       "      <td>0.000062<\/td>\n",
       "    <\/tr>\n",
       "    <tr>\n",
       "      <th>12<\/th>\n",
       "      <td>27<\/td>\n",
       "      <td>1.731782e+11<\/td>\n",
       "      <td>8.724755e+09<\/td>\n",
       "      <td>1.000000e-11<\/td>\n",
       "      <td>0.240024<\/td>\n",
       "      <td>0.000159<\/td>\n",
       "    <\/tr>\n",
       "    <tr>\n",
       "      <th>13<\/th>\n",
       "      <td>28<\/td>\n",
       "      <td>1.860718e+11<\/td>\n",
       "      <td>1.396987e+11<\/td>\n",
       "      <td>1.000000e-12<\/td>\n",
       "      <td>0.368521<\/td>\n",
       "      <td>0.000011<\/td>\n",
       "    <\/tr>\n",
       "    <tr>\n",
       "      <th>14<\/th>\n",
       "      <td>29<\/td>\n",
       "      <td>1.102560e+11<\/td>\n",
       "      <td>3.615038e+11<\/td>\n",
       "      <td>1.000000e-12<\/td>\n",
       "      <td>0.153743<\/td>\n",
       "      <td>0.000109<\/td>\n",
       "    <\/tr>\n",
       "  <\/tbody>\n",
       "<\/table>\n",
       "<\/div>"
      ]
     },
     "metadata":{
      
     },
     "output_type":"display_data"
    }
   ],
   "metadata":{
    "datalore":{
     "type":"CODE",
     "hide_input_from_viewers":false,
     "hide_output_from_viewers":false,
     "node_id":"5C2OSX2tYXHBcA9Z7yrIrl"
    }
   }
  },
  {
   "cell_type":"code",
   "source":[
    
   ],
   "execution_count":null,
   "outputs":[
    
   ],
   "metadata":{
    "datalore":{
     "type":"CODE",
     "hide_input_from_viewers":false,
     "hide_output_from_viewers":false,
     "node_id":"u5ylFWKczjtnupefRvDjCu"
    }
   }
  }
 ],
 "metadata":{
  "kernelspec":{
   "display_name":"Python",
   "language":"python",
   "name":"python"
  },
  "datalore":{
   "version":1,
   "computation_mode":"JUPYTER",
   "package_manager":"pip",
   "base_environment":"default",
   "packages":[
    
   ]
  }
 },
 "nbformat":4,
 "nbformat_minor":4
}